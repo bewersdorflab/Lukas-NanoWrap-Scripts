{
 "cells": [
  {
   "cell_type": "code",
   "execution_count": 3,
   "id": "142389c6-6e8b-4d2e-a8f8-8427f99b98fe",
   "metadata": {},
   "outputs": [
    {
     "name": "stderr",
     "output_type": "stream",
     "text": [
      "ERROR:PYME.recipes.modules:Error loading plugin: nep_fitting.recipe_modules.nep_fits\n",
      "Traceback (most recent call last):\n",
      "  File \"c:\\users\\laf62\\code\\python-microscopy\\PYME\\recipes\\modules.py\", line 42, in <module>\n",
      "    m = __import__(mn, fromlist=mn.split('.')[:-1])\n",
      "  File \"C:\\Users\\laf62\\.conda\\envs\\pyme\\lib\\site-packages\\nep_fitting-1.9-py3.7.egg\\nep_fitting\\recipe_modules\\nep_fits.py\", line 9, in <module>\n",
      "    from nep_fitting.core.handlers import LineProfileHandler, RegionHandler\n",
      "  File \"C:\\Users\\laf62\\.conda\\envs\\pyme\\lib\\site-packages\\nep_fitting-1.9-py3.7.egg\\nep_fitting\\core\\handlers.py\", line 6, in <module>\n",
      "    import dispatch\n",
      "ModuleNotFoundError: No module named 'dispatch'\n"
     ]
    },
    {
     "name": "stdout",
     "output_type": "stream",
     "text": [
      "Trying to load 3rd party recipe module pyme_4pi.recipe_modules.conversion\n",
      "Loaded 3rd party recipe module pyme_4pi.recipe_modules.conversion\n",
      "Trying to load 3rd party recipe module cc_drift_cor.plugins.recipes.io\n",
      "Loaded 3rd party recipe module cc_drift_cor.plugins.recipes.io\n",
      "Trying to load 3rd party recipe module ch_shrinkwrap.recipe_modules.surface_feature_extraction\n",
      "Loaded 3rd party recipe module ch_shrinkwrap.recipe_modules.surface_feature_extraction\n",
      "Trying to load 3rd party recipe module cc_drift_cor.plugins.recipes.chung_cc\n",
      "Loaded 3rd party recipe module cc_drift_cor.plugins.recipes.chung_cc\n",
      "Trying to load 3rd party recipe module cc_drift_cor.plugins.recipes.processing\n",
      "Loaded 3rd party recipe module cc_drift_cor.plugins.recipes.processing\n",
      "Trying to load 3rd party recipe module nep_fitting.recipe_modules.nep_fits\n",
      "Trying to load 3rd party recipe module pyme_picasso.recipe_modules.conversion\n",
      "Loaded 3rd party recipe module pyme_picasso.recipe_modules.conversion\n",
      "Trying to load 3rd party recipe module cc_drift_cor.plugins.recipes.localisations\n",
      "Loaded 3rd party recipe module cc_drift_cor.plugins.recipes.localisations\n",
      "Trying to load 3rd party recipe module ch_shrinkwrap.recipe_modules.surface_fitting\n",
      "Loaded 3rd party recipe module ch_shrinkwrap.recipe_modules.surface_fitting\n",
      "Detected a .git folder, assuming a development install\n"
     ]
    }
   ],
   "source": [
    "from PYME.LMVis import VisGUI\n",
    "\n",
    "%gui wx"
   ]
  },
  {
   "cell_type": "code",
   "execution_count": 4,
   "id": "02479f1b-d92f-456d-bfcc-a90ae3ac292c",
   "metadata": {},
   "outputs": [
    {
     "name": "stderr",
     "output_type": "stream",
     "text": [
      "DEBUG:PYME.LMVis.visCore:Creating VisGUI menu bar\n",
      "DEBUG:PYME.LMVis.Extras:Initializing QPobjectSegment plugin\n",
      "DEBUG:PYME.LMVis.Extras:Initializing animation plugin\n",
      "DEBUG:PYME.LMVis.Extras:Initializing clusterAnalysis plugin\n",
      "DEBUG:PYME.LMVis.Extras:Initializing dockedPanel plugin\n"
     ]
    },
    {
     "name": "stdout",
     "output_type": "stream",
     "text": [
      "quaternion module not found, disabling custom clip plane orientations\n",
      "quaternion module not found, disabling custom clip plane orientations\n",
      "New Canvas\n"
     ]
    },
    {
     "name": "stderr",
     "output_type": "stream",
     "text": [
      "DEBUG:PYME.LMVis.Extras:Initializing extra_layers plugin\n",
      "DEBUG:PYME.LMVis.Extras:Initializing fiducial plugin\n",
      "DEBUG:PYME.LMVis.Extras:Initializing flagZMotionArtifacts plugin\n",
      "DEBUG:root:Adding menu items for event filters\n",
      "DEBUG:PYME.LMVis.Extras:Initializing fusionUtils plugin\n",
      "DEBUG:PYME.LMVis.Extras:Initializing multiColourAnalysis plugin\n",
      "DEBUG:PYME.LMVis.Extras:Initializing multiviewMapping plugin\n",
      "DEBUG:root:Adding menu items for multi-view manipulation\n",
      "DEBUG:PYME.LMVis.Extras:Initializing objectMeasurements plugin\n",
      "DEBUG:PYME.LMVis.Extras:Initializing particleTracking plugin\n",
      "DEBUG:PYME.LMVis.Extras:Initializing perFrameVariable plugin\n",
      "DEBUG:PYME.LMVis.Extras:Initializing photophysics plugin\n",
      "DEBUG:PYME.LMVis.Extras:Initializing pointSetGeneration plugin\n",
      "DEBUG:PYME.LMVis.Extras:Initializing pointwiseColoc plugin\n",
      "DEBUG:PYME.LMVis.Extras:Initializing saved_views plugin\n",
      "DEBUG:PYME.LMVis.Extras:Initializing scaleBox plugin\n",
      "DEBUG:PYME.LMVis.Extras:Initializing sequentialSpecies plugin\n",
      "DEBUG:PYME.LMVis.Extras:Initializing setBGImage plugin\n",
      "DEBUG:PYME.LMVis.Extras:Initializing shiftmapGenerator plugin\n",
      "DEBUG:PYME.LMVis.Extras:Initializing showShortcuts plugin\n",
      "DEBUG:PYME.LMVis.Extras:Initializing snapshot plugin\n",
      "DEBUG:PYME.LMVis.Extras:Initializing spherical_harmonics plugin\n",
      "DEBUG:root:Adding menu items for spherical harmonic (shell) fitting\n",
      "DEBUG:PYME.LMVis.Extras:Initializing subsets plugin\n",
      "DEBUG:PYME.LMVis.Extras:Initializing surface_fitting plugin\n",
      "DEBUG:PYME.LMVis.Extras:Initializing temperaturePlot plugin\n",
      "DEBUG:PYME.LMVis.Extras:Initializing vibration plugin\n"
     ]
    },
    {
     "name": "stdout",
     "output_type": "stream",
     "text": [
      "Saved Views are deprecated -  use the ones with animation instead and remove me!\n",
      "Creating fold panel\n",
      "GenPanels\n",
      "Creating datasource panel\n",
      "RecipeView._layout\n",
      "Input datasources:  []\n",
      "Image list size: 1\n",
      "Creating layers GUI\n",
      "height:  0\n",
      "NB best size: wx.Size(200, 0)\n",
      "RecipeView._layout\n"
     ]
    },
    {
     "ename": "RuntimeError",
     "evalue": "wrapped C/C++ object of type foldPanel has been deleted",
     "output_type": "error",
     "traceback": [
      "\u001b[1;31m---------------------------------------------------------------------------\u001b[0m",
      "\u001b[1;31mRuntimeError\u001b[0m                              Traceback (most recent call last)",
      "\u001b[1;32mc:\\users\\laf62\\code\\python-microscopy\\PYME\\ui\\manualFoldPanel.py\u001b[0m in \u001b[0;36mOnResize\u001b[1;34m(self, event)\u001b[0m\n\u001b[0;32m    760\u001b[0m \u001b[1;33m\u001b[0m\u001b[0m\n\u001b[0;32m    761\u001b[0m     \u001b[1;32mdef\u001b[0m \u001b[0mOnResize\u001b[0m\u001b[1;33m(\u001b[0m\u001b[0mself\u001b[0m\u001b[1;33m,\u001b[0m \u001b[0mevent\u001b[0m\u001b[1;33m)\u001b[0m\u001b[1;33m:\u001b[0m\u001b[1;33m\u001b[0m\u001b[1;33m\u001b[0m\u001b[0m\n\u001b[1;32m--> 762\u001b[1;33m         \u001b[1;32mif\u001b[0m \u001b[1;33m(\u001b[0m\u001b[1;32mnot\u001b[0m \u001b[0mself\u001b[0m\u001b[1;33m.\u001b[0m\u001b[0m_in_fold1\u001b[0m\u001b[1;33m)\u001b[0m \u001b[1;32mand\u001b[0m \u001b[0mself\u001b[0m\u001b[1;33m.\u001b[0m\u001b[0mIsShownOnScreen\u001b[0m\u001b[1;33m(\u001b[0m\u001b[1;33m)\u001b[0m\u001b[1;33m:\u001b[0m\u001b[1;33m\u001b[0m\u001b[1;33m\u001b[0m\u001b[0m\n\u001b[0m\u001b[0;32m    763\u001b[0m             \u001b[0mself\u001b[0m\u001b[1;33m.\u001b[0m\u001b[0mfold1\u001b[0m\u001b[1;33m(\u001b[0m\u001b[1;33m)\u001b[0m\u001b[1;33m\u001b[0m\u001b[1;33m\u001b[0m\u001b[0m\n\u001b[0;32m    764\u001b[0m \u001b[1;33m\u001b[0m\u001b[0m\n",
      "\u001b[1;31mRuntimeError\u001b[0m: wrapped C/C++ object of type foldPanel has been deleted"
     ]
    },
    {
     "name": "stdout",
     "output_type": "stream",
     "text": [
      "Input datasources:  []\n",
      "recipe.execute()\n",
      "RecipeView._layout\n"
     ]
    },
    {
     "ename": "RuntimeError",
     "evalue": "wrapped C/C++ object of type foldPanel has been deleted",
     "output_type": "error",
     "traceback": [
      "\u001b[1;31m---------------------------------------------------------------------------\u001b[0m",
      "\u001b[1;31mRuntimeError\u001b[0m                              Traceback (most recent call last)",
      "\u001b[1;32mc:\\users\\laf62\\code\\python-microscopy\\PYME\\ui\\manualFoldPanel.py\u001b[0m in \u001b[0;36mOnResize\u001b[1;34m(self, event)\u001b[0m\n\u001b[0;32m    760\u001b[0m \u001b[1;33m\u001b[0m\u001b[0m\n\u001b[0;32m    761\u001b[0m     \u001b[1;32mdef\u001b[0m \u001b[0mOnResize\u001b[0m\u001b[1;33m(\u001b[0m\u001b[0mself\u001b[0m\u001b[1;33m,\u001b[0m \u001b[0mevent\u001b[0m\u001b[1;33m)\u001b[0m\u001b[1;33m:\u001b[0m\u001b[1;33m\u001b[0m\u001b[1;33m\u001b[0m\u001b[0m\n\u001b[1;32m--> 762\u001b[1;33m         \u001b[1;32mif\u001b[0m \u001b[1;33m(\u001b[0m\u001b[1;32mnot\u001b[0m \u001b[0mself\u001b[0m\u001b[1;33m.\u001b[0m\u001b[0m_in_fold1\u001b[0m\u001b[1;33m)\u001b[0m \u001b[1;32mand\u001b[0m \u001b[0mself\u001b[0m\u001b[1;33m.\u001b[0m\u001b[0mIsShownOnScreen\u001b[0m\u001b[1;33m(\u001b[0m\u001b[1;33m)\u001b[0m\u001b[1;33m:\u001b[0m\u001b[1;33m\u001b[0m\u001b[1;33m\u001b[0m\u001b[0m\n\u001b[0m\u001b[0;32m    763\u001b[0m             \u001b[0mself\u001b[0m\u001b[1;33m.\u001b[0m\u001b[0mfold1\u001b[0m\u001b[1;33m(\u001b[0m\u001b[1;33m)\u001b[0m\u001b[1;33m\u001b[0m\u001b[1;33m\u001b[0m\u001b[0m\n\u001b[0;32m    764\u001b[0m \u001b[1;33m\u001b[0m\u001b[0m\n",
      "\u001b[1;31mRuntimeError\u001b[0m: wrapped C/C++ object of type foldPanel has been deleted"
     ]
    },
    {
     "name": "stdout",
     "output_type": "stream",
     "text": [
      "Input datasources:  []\n",
      "0\n",
      "OpenGL - Version: b'4.6.0 NVIDIA 456.71'\n",
      "Shader - Version: b'4.60 NVIDIA'\n",
      "GL.GL_MAX_SAMPLES: 32, GL.GL_SAMPLES: 4\n"
     ]
    },
    {
     "name": "stderr",
     "output_type": "stream",
     "text": [
      "DEBUG:PYME.LMVis.shader_programs.ShaderProgramFactory:New shader program created: <class 'PYME.LMVis.shader_programs.DefaultShaderProgram.DefaultShaderProgram'>\n"
     ]
    },
    {
     "name": "stdout",
     "output_type": "stream",
     "text": [
      "Ev Idle\n",
      "('points', 't')\n",
      "refreshed\n"
     ]
    }
   ],
   "source": [
    "pymevis = VisGUI.ipython_pymevisualize()\n",
    "pipeline = pymevis.pipeline"
   ]
  },
  {
   "cell_type": "code",
   "execution_count": 5,
   "id": "682ab51c-2ff7-49c5-a3fb-0b48a0262f01",
   "metadata": {},
   "outputs": [],
   "source": [
    "import numpy as np\n",
    "\n",
    "# Load data\n",
    "points = \"E:\\\\4Pi\\\\20220509_U2OS_mCh-Sec61B_Tomm20_STORM_2\\\\Cell04_mapped.hdf\"\n",
    "mesh_1 = \"E:\\\\4Pi\\\\20220509_U2OS_mCh-Sec61B_Tomm20_STORM_2\\\\Cell04_ER_shrink-wrap.stl\"\n",
    "mesh_2 = \"E:\\\\4Pi\\\\20220509_U2OS_mCh-Sec61B_Tomm20_STORM_2\\\\Cell04_Mito_shrink-wrap.stl\""
   ]
  },
  {
   "cell_type": "code",
   "execution_count": 6,
   "id": "c090dfc8-d7f9-43fd-8c92-c16577d74103",
   "metadata": {},
   "outputs": [
    {
     "name": "stdout",
     "output_type": "stream",
     "text": [
      "Creating Pipeline\n",
      "RecipeView._layout\n"
     ]
    },
    {
     "ename": "RuntimeError",
     "evalue": "wrapped C/C++ object of type foldPanel has been deleted",
     "output_type": "error",
     "traceback": [
      "\u001b[1;31m---------------------------------------------------------------------------\u001b[0m",
      "\u001b[1;31mRuntimeError\u001b[0m                              Traceback (most recent call last)",
      "\u001b[1;32mc:\\users\\laf62\\code\\python-microscopy\\PYME\\ui\\manualFoldPanel.py\u001b[0m in \u001b[0;36mOnResize\u001b[1;34m(self, event)\u001b[0m\n\u001b[0;32m    760\u001b[0m \u001b[1;33m\u001b[0m\u001b[0m\n\u001b[0;32m    761\u001b[0m     \u001b[1;32mdef\u001b[0m \u001b[0mOnResize\u001b[0m\u001b[1;33m(\u001b[0m\u001b[0mself\u001b[0m\u001b[1;33m,\u001b[0m \u001b[0mevent\u001b[0m\u001b[1;33m)\u001b[0m\u001b[1;33m:\u001b[0m\u001b[1;33m\u001b[0m\u001b[1;33m\u001b[0m\u001b[0m\n\u001b[1;32m--> 762\u001b[1;33m         \u001b[1;32mif\u001b[0m \u001b[1;33m(\u001b[0m\u001b[1;32mnot\u001b[0m \u001b[0mself\u001b[0m\u001b[1;33m.\u001b[0m\u001b[0m_in_fold1\u001b[0m\u001b[1;33m)\u001b[0m \u001b[1;32mand\u001b[0m \u001b[0mself\u001b[0m\u001b[1;33m.\u001b[0m\u001b[0mIsShownOnScreen\u001b[0m\u001b[1;33m(\u001b[0m\u001b[1;33m)\u001b[0m\u001b[1;33m:\u001b[0m\u001b[1;33m\u001b[0m\u001b[1;33m\u001b[0m\u001b[0m\n\u001b[0m\u001b[0;32m    763\u001b[0m             \u001b[0mself\u001b[0m\u001b[1;33m.\u001b[0m\u001b[0mfold1\u001b[0m\u001b[1;33m(\u001b[0m\u001b[1;33m)\u001b[0m\u001b[1;33m\u001b[0m\u001b[1;33m\u001b[0m\u001b[0m\n\u001b[0;32m    764\u001b[0m \u001b[1;33m\u001b[0m\u001b[0m\n",
      "\u001b[1;31mRuntimeError\u001b[0m: wrapped C/C++ object of type foldPanel has been deleted"
     ]
    },
    {
     "name": "stdout",
     "output_type": "stream",
     "text": [
      "Input datasources:  ['_Localizations', 'FitResults']\n",
      "RecipeView._layout\n"
     ]
    },
    {
     "ename": "SystemError",
     "evalue": "<class 'wx._core.WindowDestroyEvent'> returned a result with an error set",
     "output_type": "error",
     "traceback": [
      "\u001b[1;31m---------------------------------------------------------------------------\u001b[0m",
      "\u001b[1;31mwxAssertionError\u001b[0m                          Traceback (most recent call last)",
      "\u001b[1;31mwxAssertionError\u001b[0m: C++ assertion \"GetEventHandler() == this\" failed at ..\\..\\src\\common\\wincmn.cpp(478) in wxWindowBase::~wxWindowBase(): any pushed event handlers must have been removed",
      "\nThe above exception was the direct cause of the following exception:\n",
      "\u001b[1;31mSystemError\u001b[0m                               Traceback (most recent call last)",
      "\u001b[1;31mSystemError\u001b[0m: <class 'wx._core.WindowDestroyEvent'> returned a result with an error set"
     ]
    },
    {
     "ename": "RuntimeError",
     "evalue": "wrapped C/C++ object of type foldPanel has been deleted",
     "output_type": "error",
     "traceback": [
      "\u001b[1;31m---------------------------------------------------------------------------\u001b[0m",
      "\u001b[1;31mRuntimeError\u001b[0m                              Traceback (most recent call last)",
      "\u001b[1;32mc:\\users\\laf62\\code\\python-microscopy\\PYME\\ui\\manualFoldPanel.py\u001b[0m in \u001b[0;36mOnResize\u001b[1;34m(self, event)\u001b[0m\n\u001b[0;32m    760\u001b[0m \u001b[1;33m\u001b[0m\u001b[0m\n\u001b[0;32m    761\u001b[0m     \u001b[1;32mdef\u001b[0m \u001b[0mOnResize\u001b[0m\u001b[1;33m(\u001b[0m\u001b[0mself\u001b[0m\u001b[1;33m,\u001b[0m \u001b[0mevent\u001b[0m\u001b[1;33m)\u001b[0m\u001b[1;33m:\u001b[0m\u001b[1;33m\u001b[0m\u001b[1;33m\u001b[0m\u001b[0m\n\u001b[1;32m--> 762\u001b[1;33m         \u001b[1;32mif\u001b[0m \u001b[1;33m(\u001b[0m\u001b[1;32mnot\u001b[0m \u001b[0mself\u001b[0m\u001b[1;33m.\u001b[0m\u001b[0m_in_fold1\u001b[0m\u001b[1;33m)\u001b[0m \u001b[1;32mand\u001b[0m \u001b[0mself\u001b[0m\u001b[1;33m.\u001b[0m\u001b[0mIsShownOnScreen\u001b[0m\u001b[1;33m(\u001b[0m\u001b[1;33m)\u001b[0m\u001b[1;33m:\u001b[0m\u001b[1;33m\u001b[0m\u001b[1;33m\u001b[0m\u001b[0m\n\u001b[0m\u001b[0;32m    763\u001b[0m             \u001b[0mself\u001b[0m\u001b[1;33m.\u001b[0m\u001b[0mfold1\u001b[0m\u001b[1;33m(\u001b[0m\u001b[1;33m)\u001b[0m\u001b[1;33m\u001b[0m\u001b[1;33m\u001b[0m\u001b[0m\n\u001b[0;32m    764\u001b[0m \u001b[1;33m\u001b[0m\u001b[0m\n",
      "\u001b[1;31mRuntimeError\u001b[0m: wrapped C/C++ object of type foldPanel has been deleted"
     ]
    },
    {
     "name": "stdout",
     "output_type": "stream",
     "text": [
      "Input datasources:  ['_Localizations', 'FitResults']\n",
      "RecipeView._layout\n"
     ]
    },
    {
     "ename": "SystemError",
     "evalue": "<class 'wx._core.WindowDestroyEvent'> returned a result with an error set",
     "output_type": "error",
     "traceback": [
      "\u001b[1;31m---------------------------------------------------------------------------\u001b[0m",
      "\u001b[1;31mwxAssertionError\u001b[0m                          Traceback (most recent call last)",
      "\u001b[1;31mwxAssertionError\u001b[0m: C++ assertion \"GetEventHandler() == this\" failed at ..\\..\\src\\common\\wincmn.cpp(478) in wxWindowBase::~wxWindowBase(): any pushed event handlers must have been removed",
      "\nThe above exception was the direct cause of the following exception:\n",
      "\u001b[1;31mSystemError\u001b[0m                               Traceback (most recent call last)",
      "\u001b[1;31mSystemError\u001b[0m: <class 'wx._core.WindowDestroyEvent'> returned a result with an error set"
     ]
    },
    {
     "ename": "SystemError",
     "evalue": "<class 'wx._core.WindowDestroyEvent'> returned a result with an error set",
     "output_type": "error",
     "traceback": [
      "\u001b[1;31m---------------------------------------------------------------------------\u001b[0m",
      "\u001b[1;31mwxAssertionError\u001b[0m                          Traceback (most recent call last)",
      "\u001b[1;31mwxAssertionError\u001b[0m: C++ assertion \"GetEventHandler() == this\" failed at ..\\..\\src\\common\\wincmn.cpp(478) in wxWindowBase::~wxWindowBase(): any pushed event handlers must have been removed",
      "\nThe above exception was the direct cause of the following exception:\n",
      "\u001b[1;31mSystemError\u001b[0m                               Traceback (most recent call last)",
      "\u001b[1;31mSystemError\u001b[0m: <class 'wx._core.WindowDestroyEvent'> returned a result with an error set"
     ]
    },
    {
     "ename": "RuntimeError",
     "evalue": "wrapped C/C++ object of type foldPanel has been deleted",
     "output_type": "error",
     "traceback": [
      "\u001b[1;31m---------------------------------------------------------------------------\u001b[0m",
      "\u001b[1;31mRuntimeError\u001b[0m                              Traceback (most recent call last)",
      "\u001b[1;32mc:\\users\\laf62\\code\\python-microscopy\\PYME\\ui\\manualFoldPanel.py\u001b[0m in \u001b[0;36mOnResize\u001b[1;34m(self, event)\u001b[0m\n\u001b[0;32m    760\u001b[0m \u001b[1;33m\u001b[0m\u001b[0m\n\u001b[0;32m    761\u001b[0m     \u001b[1;32mdef\u001b[0m \u001b[0mOnResize\u001b[0m\u001b[1;33m(\u001b[0m\u001b[0mself\u001b[0m\u001b[1;33m,\u001b[0m \u001b[0mevent\u001b[0m\u001b[1;33m)\u001b[0m\u001b[1;33m:\u001b[0m\u001b[1;33m\u001b[0m\u001b[1;33m\u001b[0m\u001b[0m\n\u001b[1;32m--> 762\u001b[1;33m         \u001b[1;32mif\u001b[0m \u001b[1;33m(\u001b[0m\u001b[1;32mnot\u001b[0m \u001b[0mself\u001b[0m\u001b[1;33m.\u001b[0m\u001b[0m_in_fold1\u001b[0m\u001b[1;33m)\u001b[0m \u001b[1;32mand\u001b[0m \u001b[0mself\u001b[0m\u001b[1;33m.\u001b[0m\u001b[0mIsShownOnScreen\u001b[0m\u001b[1;33m(\u001b[0m\u001b[1;33m)\u001b[0m\u001b[1;33m:\u001b[0m\u001b[1;33m\u001b[0m\u001b[1;33m\u001b[0m\u001b[0m\n\u001b[0m\u001b[0;32m    763\u001b[0m             \u001b[0mself\u001b[0m\u001b[1;33m.\u001b[0m\u001b[0mfold1\u001b[0m\u001b[1;33m(\u001b[0m\u001b[1;33m)\u001b[0m\u001b[1;33m\u001b[0m\u001b[1;33m\u001b[0m\u001b[0m\n\u001b[0;32m    764\u001b[0m \u001b[1;33m\u001b[0m\u001b[0m\n",
      "\u001b[1;31mRuntimeError\u001b[0m: wrapped C/C++ object of type foldPanel has been deleted"
     ]
    },
    {
     "name": "stdout",
     "output_type": "stream",
     "text": [
      "Input datasources:  ['_Localizations', 'FitResults']\n"
     ]
    },
    {
     "name": "stderr",
     "output_type": "stream",
     "text": [
      "DEBUG:PYME.recipes.localisations:no events found\n"
     ]
    },
    {
     "name": "stdout",
     "output_type": "stream",
     "text": [
      "recipe.execute()\n",
      "Executing <PYME.recipes.localisations.Pipelineify object at 0x00000205864EDE88>\n",
      "Executing <PYME.recipes.localisations.ProcessColour object at 0x0000020599A88348>\n",
      "Executing <PYME.recipes.tablefilters.FilterTable object at 0x000002059A4CD168>\n",
      "RecipeView._layout\n"
     ]
    },
    {
     "ename": "SystemError",
     "evalue": "<class 'wx._core.WindowDestroyEvent'> returned a result with an error set",
     "output_type": "error",
     "traceback": [
      "\u001b[1;31m---------------------------------------------------------------------------\u001b[0m",
      "\u001b[1;31mwxAssertionError\u001b[0m                          Traceback (most recent call last)",
      "\u001b[1;31mwxAssertionError\u001b[0m: C++ assertion \"GetEventHandler() == this\" failed at ..\\..\\src\\common\\wincmn.cpp(478) in wxWindowBase::~wxWindowBase(): any pushed event handlers must have been removed",
      "\nThe above exception was the direct cause of the following exception:\n",
      "\u001b[1;31mSystemError\u001b[0m                               Traceback (most recent call last)",
      "\u001b[1;31mSystemError\u001b[0m: <class 'wx._core.WindowDestroyEvent'> returned a result with an error set"
     ]
    },
    {
     "ename": "SystemError",
     "evalue": "<class 'wx._core.WindowDestroyEvent'> returned a result with an error set",
     "output_type": "error",
     "traceback": [
      "\u001b[1;31m---------------------------------------------------------------------------\u001b[0m",
      "\u001b[1;31mwxAssertionError\u001b[0m                          Traceback (most recent call last)",
      "\u001b[1;31mwxAssertionError\u001b[0m: C++ assertion \"GetEventHandler() == this\" failed at ..\\..\\src\\common\\wincmn.cpp(478) in wxWindowBase::~wxWindowBase(): any pushed event handlers must have been removed",
      "\nThe above exception was the direct cause of the following exception:\n",
      "\u001b[1;31mSystemError\u001b[0m                               Traceback (most recent call last)",
      "\u001b[1;31mSystemError\u001b[0m: <class 'wx._core.WindowDestroyEvent'> returned a result with an error set"
     ]
    },
    {
     "ename": "SystemError",
     "evalue": "<class 'wx._core.WindowDestroyEvent'> returned a result with an error set",
     "output_type": "error",
     "traceback": [
      "\u001b[1;31m---------------------------------------------------------------------------\u001b[0m",
      "\u001b[1;31mwxAssertionError\u001b[0m                          Traceback (most recent call last)",
      "\u001b[1;31mwxAssertionError\u001b[0m: C++ assertion \"GetEventHandler() == this\" failed at ..\\..\\src\\common\\wincmn.cpp(478) in wxWindowBase::~wxWindowBase(): any pushed event handlers must have been removed",
      "\nThe above exception was the direct cause of the following exception:\n",
      "\u001b[1;31mSystemError\u001b[0m                               Traceback (most recent call last)",
      "\u001b[1;31mSystemError\u001b[0m: <class 'wx._core.WindowDestroyEvent'> returned a result with an error set"
     ]
    },
    {
     "ename": "RuntimeError",
     "evalue": "wrapped C/C++ object of type foldPanel has been deleted",
     "output_type": "error",
     "traceback": [
      "\u001b[1;31m---------------------------------------------------------------------------\u001b[0m",
      "\u001b[1;31mRuntimeError\u001b[0m                              Traceback (most recent call last)",
      "\u001b[1;32mc:\\users\\laf62\\code\\python-microscopy\\PYME\\ui\\manualFoldPanel.py\u001b[0m in \u001b[0;36mOnResize\u001b[1;34m(self, event)\u001b[0m\n\u001b[0;32m    760\u001b[0m \u001b[1;33m\u001b[0m\u001b[0m\n\u001b[0;32m    761\u001b[0m     \u001b[1;32mdef\u001b[0m \u001b[0mOnResize\u001b[0m\u001b[1;33m(\u001b[0m\u001b[0mself\u001b[0m\u001b[1;33m,\u001b[0m \u001b[0mevent\u001b[0m\u001b[1;33m)\u001b[0m\u001b[1;33m:\u001b[0m\u001b[1;33m\u001b[0m\u001b[1;33m\u001b[0m\u001b[0m\n\u001b[1;32m--> 762\u001b[1;33m         \u001b[1;32mif\u001b[0m \u001b[1;33m(\u001b[0m\u001b[1;32mnot\u001b[0m \u001b[0mself\u001b[0m\u001b[1;33m.\u001b[0m\u001b[0m_in_fold1\u001b[0m\u001b[1;33m)\u001b[0m \u001b[1;32mand\u001b[0m \u001b[0mself\u001b[0m\u001b[1;33m.\u001b[0m\u001b[0mIsShownOnScreen\u001b[0m\u001b[1;33m(\u001b[0m\u001b[1;33m)\u001b[0m\u001b[1;33m:\u001b[0m\u001b[1;33m\u001b[0m\u001b[1;33m\u001b[0m\u001b[0m\n\u001b[0m\u001b[0;32m    763\u001b[0m             \u001b[0mself\u001b[0m\u001b[1;33m.\u001b[0m\u001b[0mfold1\u001b[0m\u001b[1;33m(\u001b[0m\u001b[1;33m)\u001b[0m\u001b[1;33m\u001b[0m\u001b[1;33m\u001b[0m\u001b[0m\n\u001b[0;32m    764\u001b[0m \u001b[1;33m\u001b[0m\u001b[0m\n",
      "\u001b[1;31mRuntimeError\u001b[0m: wrapped C/C++ object of type foldPanel has been deleted"
     ]
    },
    {
     "name": "stdout",
     "output_type": "stream",
     "text": [
      "Input datasources:  ['_Localizations', 'FitResults']\n",
      "Pipeline Created\n",
      "RecipeView._layout\n"
     ]
    },
    {
     "ename": "SystemError",
     "evalue": "<class 'wx._core.WindowDestroyEvent'> returned a result with an error set",
     "output_type": "error",
     "traceback": [
      "\u001b[1;31m---------------------------------------------------------------------------\u001b[0m",
      "\u001b[1;31mwxAssertionError\u001b[0m                          Traceback (most recent call last)",
      "\u001b[1;31mwxAssertionError\u001b[0m: C++ assertion \"GetEventHandler() == this\" failed at ..\\..\\src\\common\\wincmn.cpp(478) in wxWindowBase::~wxWindowBase(): any pushed event handlers must have been removed",
      "\nThe above exception was the direct cause of the following exception:\n",
      "\u001b[1;31mSystemError\u001b[0m                               Traceback (most recent call last)",
      "\u001b[1;31mSystemError\u001b[0m: <class 'wx._core.WindowDestroyEvent'> returned a result with an error set"
     ]
    },
    {
     "ename": "SystemError",
     "evalue": "<class 'wx._core.WindowDestroyEvent'> returned a result with an error set",
     "output_type": "error",
     "traceback": [
      "\u001b[1;31m---------------------------------------------------------------------------\u001b[0m",
      "\u001b[1;31mwxAssertionError\u001b[0m                          Traceback (most recent call last)",
      "\u001b[1;31mwxAssertionError\u001b[0m: C++ assertion \"GetEventHandler() == this\" failed at ..\\..\\src\\common\\wincmn.cpp(478) in wxWindowBase::~wxWindowBase(): any pushed event handlers must have been removed",
      "\nThe above exception was the direct cause of the following exception:\n",
      "\u001b[1;31mSystemError\u001b[0m                               Traceback (most recent call last)",
      "\u001b[1;31mSystemError\u001b[0m: <class 'wx._core.WindowDestroyEvent'> returned a result with an error set"
     ]
    },
    {
     "ename": "SystemError",
     "evalue": "<class 'wx._core.WindowDestroyEvent'> returned a result with an error set",
     "output_type": "error",
     "traceback": [
      "\u001b[1;31m---------------------------------------------------------------------------\u001b[0m",
      "\u001b[1;31mwxAssertionError\u001b[0m                          Traceback (most recent call last)",
      "\u001b[1;31mwxAssertionError\u001b[0m: C++ assertion \"GetEventHandler() == this\" failed at ..\\..\\src\\common\\wincmn.cpp(478) in wxWindowBase::~wxWindowBase(): any pushed event handlers must have been removed",
      "\nThe above exception was the direct cause of the following exception:\n",
      "\u001b[1;31mSystemError\u001b[0m                               Traceback (most recent call last)",
      "\u001b[1;31mSystemError\u001b[0m: <class 'wx._core.WindowDestroyEvent'> returned a result with an error set"
     ]
    },
    {
     "ename": "RuntimeError",
     "evalue": "wrapped C/C++ object of type foldPanel has been deleted",
     "output_type": "error",
     "traceback": [
      "\u001b[1;31m---------------------------------------------------------------------------\u001b[0m",
      "\u001b[1;31mRuntimeError\u001b[0m                              Traceback (most recent call last)",
      "\u001b[1;32mc:\\users\\laf62\\code\\python-microscopy\\PYME\\ui\\manualFoldPanel.py\u001b[0m in \u001b[0;36mOnResize\u001b[1;34m(self, event)\u001b[0m\n\u001b[0;32m    760\u001b[0m \u001b[1;33m\u001b[0m\u001b[0m\n\u001b[0;32m    761\u001b[0m     \u001b[1;32mdef\u001b[0m \u001b[0mOnResize\u001b[0m\u001b[1;33m(\u001b[0m\u001b[0mself\u001b[0m\u001b[1;33m,\u001b[0m \u001b[0mevent\u001b[0m\u001b[1;33m)\u001b[0m\u001b[1;33m:\u001b[0m\u001b[1;33m\u001b[0m\u001b[1;33m\u001b[0m\u001b[0m\n\u001b[1;32m--> 762\u001b[1;33m         \u001b[1;32mif\u001b[0m \u001b[1;33m(\u001b[0m\u001b[1;32mnot\u001b[0m \u001b[0mself\u001b[0m\u001b[1;33m.\u001b[0m\u001b[0m_in_fold1\u001b[0m\u001b[1;33m)\u001b[0m \u001b[1;32mand\u001b[0m \u001b[0mself\u001b[0m\u001b[1;33m.\u001b[0m\u001b[0mIsShownOnScreen\u001b[0m\u001b[1;33m(\u001b[0m\u001b[1;33m)\u001b[0m\u001b[1;33m:\u001b[0m\u001b[1;33m\u001b[0m\u001b[1;33m\u001b[0m\u001b[0m\n\u001b[0m\u001b[0;32m    763\u001b[0m             \u001b[0mself\u001b[0m\u001b[1;33m.\u001b[0m\u001b[0mfold1\u001b[0m\u001b[1;33m(\u001b[0m\u001b[1;33m)\u001b[0m\u001b[1;33m\u001b[0m\u001b[1;33m\u001b[0m\u001b[0m\n\u001b[0;32m    764\u001b[0m \u001b[1;33m\u001b[0m\u001b[0m\n",
      "\u001b[1;31mRuntimeError\u001b[0m: wrapped C/C++ object of type foldPanel has been deleted"
     ]
    },
    {
     "name": "stdout",
     "output_type": "stream",
     "text": [
      "Input datasources:  ['_Localizations', 'FitResults']\n"
     ]
    },
    {
     "name": "stderr",
     "output_type": "stream",
     "text": [
      "DEBUG:PYME.LMVis.VisGUI:Creating tabs\n"
     ]
    },
    {
     "name": "stdout",
     "output_type": "stream",
     "text": [
      "0\n"
     ]
    },
    {
     "name": "stderr",
     "output_type": "stream",
     "text": [
      "DEBUG:PYME.LMVis.VisGUI:Finished creating tabs\n"
     ]
    },
    {
     "name": "stdout",
     "output_type": "stream",
     "text": [
      "Gui stuff done\n",
      "vcs:  ['t', 'z']\n",
      "lw update\n",
      "Creating layers GUI\n",
      "hl update\n",
      "height:  320\n",
      "NB best size: wx.Size(222, 320)\n"
     ]
    },
    {
     "name": "stderr",
     "output_type": "stream",
     "text": [
      "DEBUG:PYME.LMVis.visCore:Added layer, datasouce=output\n"
     ]
    },
    {
     "name": "stdout",
     "output_type": "stream",
     "text": [
      "lw update\n",
      "lw update\n",
      "lw update\n",
      "Disposing of HistLimitsEditor\n",
      "Creating layers GUI\n",
      "hl update\n",
      "hl update\n"
     ]
    },
    {
     "name": "stderr",
     "output_type": "stream",
     "text": [
      "DEBUG:PYME.LMVis.visCore:Added layer, datasouce=output.chan0\n"
     ]
    },
    {
     "name": "stdout",
     "output_type": "stream",
     "text": [
      "height:  345\n",
      "NB best size: wx.Size(222, 345)\n",
      "lw update\n",
      "lw update\n",
      "lw update\n",
      "Disposing of HistLimitsEditor\n",
      "Disposing of HistLimitsEditor\n",
      "Creating layers GUI\n",
      "hl update\n",
      "hl update\n",
      "hl update\n"
     ]
    },
    {
     "name": "stderr",
     "output_type": "stream",
     "text": [
      "DEBUG:PYME.LMVis.visCore:Added layer, datasouce=output.chan1\n"
     ]
    },
    {
     "name": "stdout",
     "output_type": "stream",
     "text": [
      "height:  370\n",
      "NB best size: wx.Size(222, 662)\n"
     ]
    },
    {
     "name": "stderr",
     "output_type": "stream",
     "text": [
      "DEBUG:PYME.LMVis.shader_programs.ShaderProgramFactory:New shader program created: <class 'PYME.LMVis.shader_programs.DefaultShaderProgram.OpaquePointShaderProgram'>\n"
     ]
    }
   ],
   "source": [
    "# Display point data in Visgui\n",
    "pymevis.OpenFile(points)"
   ]
  },
  {
   "cell_type": "code",
   "execution_count": 7,
   "id": "e66818ea-b95d-4f01-8312-4fa84fa53a92",
   "metadata": {},
   "outputs": [
    {
     "name": "stdout",
     "output_type": "stream",
     "text": [
      "Data munged to vertices, faces\n",
      "initializing halfedges ...\n",
      "vertices.shape = (2432551, 3), faces.shape = (4874364, 3)\n",
      "iterating edges\n",
      "done initializing halfedges\n",
      "lw update\n",
      "Disposing of HistLimitsEditor\n",
      "Disposing of HistLimitsEditor\n",
      "Disposing of HistLimitsEditor\n",
      "Creating layers GUI\n",
      "hl update\n",
      "hl update\n",
      "hl update\n",
      "hl update\n",
      "height:  399\n",
      "NB best size: wx.Size(231, 688)\n"
     ]
    }
   ],
   "source": [
    "from PYME.experimental._triangle_mesh import TriangleMesh\n",
    "from PYME.LMVis.layers.mesh import TriangleRenderLayer\n",
    "\n",
    "mesh = TriangleMesh.from_stl(mesh_1)\n",
    "\n",
    "mesh_name = pipeline.new_ds_name('surf1')\n",
    "pipeline.recipe.namespace[mesh_name] = mesh\n",
    "layer = TriangleRenderLayer(pipeline, dsname=mesh_name, method='shaded', cmap = 'SolidMagenta')\n",
    "pymevis.add_layer(layer)\n",
    "\n",
    "# grab the bounding box\n",
    "mesh_bbox = pymevis.glCanvas.layers[-1]._bbox"
   ]
  },
  {
   "cell_type": "code",
   "execution_count": 8,
   "id": "c5f926a5-07ee-4645-908c-1d877acdb03e",
   "metadata": {},
   "outputs": [
    {
     "name": "stdout",
     "output_type": "stream",
     "text": [
      "Data munged to vertices, faces\n",
      "initializing halfedges ...\n",
      "vertices.shape = (165259, 3), faces.shape = (330558, 3)\n",
      "iterating edges\n",
      "done initializing halfedges\n",
      "lw update\n",
      "Disposing of HistLimitsEditor\n",
      "Disposing of HistLimitsEditor\n",
      "Disposing of HistLimitsEditor\n",
      "Disposing of HistLimitsEditor\n",
      "Creating layers GUI\n",
      "hl update\n",
      "hl update\n",
      "hl update\n",
      "hl update\n",
      "hl update\n",
      "height:  424\n",
      "NB best size: wx.Size(231, 714)\n"
     ]
    },
    {
     "name": "stderr",
     "output_type": "stream",
     "text": [
      "DEBUG:PYME.LMVis.shader_programs.ShaderProgramFactory:New shader program created: <class 'PYME.LMVis.shader_programs.GouraudShaderProgram.GouraudShaderProgram'>\n"
     ]
    }
   ],
   "source": [
    "from PYME.experimental._triangle_mesh import TriangleMesh\n",
    "from PYME.LMVis.layers.mesh import TriangleRenderLayer\n",
    "\n",
    "mesh = TriangleMesh.from_stl(mesh_2)\n",
    "\n",
    "mesh_name = pipeline.new_ds_name('surf2')\n",
    "pipeline.recipe.namespace[mesh_name] = mesh\n",
    "layer = TriangleRenderLayer(pipeline, dsname=mesh_name, method='shaded', cmap = 'SolidGreen')\n",
    "pymevis.add_layer(layer)\n",
    "\n",
    "# grab the bounding box\n",
    "mesh_bbox = pymevis.glCanvas.layers[-1]._bbox"
   ]
  },
  {
   "cell_type": "code",
   "execution_count": 26,
   "id": "c9e3482e-308b-492e-bf90-67799c38bc40",
   "metadata": {},
   "outputs": [
    {
     "name": "stdout",
     "output_type": "stream",
     "text": [
      "lw update\n",
      "lw update\n",
      "hl update\n",
      "lw update\n",
      "hl update\n",
      "lw update\n",
      "lw update\n",
      "lw update\n",
      "lw update\n",
      "hl update\n",
      "lw update\n",
      "hl update\n",
      "lw update\n",
      "lw update\n"
     ]
    }
   ],
   "source": [
    "# extract vertices of surface 1\n",
    "pipeline.selectDataSource('surf10')\n",
    "surf1 = pipeline.selectedDataSource\n",
    "surf1_verts = surf1._vertices['position']\n",
    "surf1_faces = surf1.faces\n",
    "\n",
    "# extract vertices of surface 2\n",
    "pipeline.selectDataSource('surf20')\n",
    "surf2 = pipeline.selectedDataSource\n",
    "surf2_verts = surf2._vertices['position']\n",
    "surf2_facse = surf2.faces"
   ]
  },
  {
   "cell_type": "code",
   "execution_count": 27,
   "id": "2c456b60-7eca-4552-8d15-b2fca311e348",
   "metadata": {},
   "outputs": [],
   "source": [
    "from scipy.spatial import cKDTree\n",
    "tree_surf1 = cKDTree(surf1_verts)\n",
    "surf_dist, surf_ind = tree_surf1.query(surf2_verts, k=1)\n"
   ]
  },
  {
   "cell_type": "code",
   "execution_count": null,
   "id": "bf9151db-f7ba-41d1-8a5e-a2c2e32e60e5",
   "metadata": {},
   "outputs": [],
   "source": [
    "# #pymevis.glCanvas.layers[-2].visible=False\n",
    "# pymevis.glCanvas.layers[-2].cmap ='gist_rainbow_r'\n",
    "# pymevis.glCanvas.layers[-2].vertexColour = surf_dist"
   ]
  },
  {
   "cell_type": "code",
   "execution_count": 28,
   "id": "d2bbea32-8fb0-40d4-9607-2d92a975ae5d",
   "metadata": {},
   "outputs": [],
   "source": [
    "from PYME.IO import tabular\n",
    "\n",
    "def add_ds(vertices, faces, surf_dist, pipeline, pymevis, ds_name='surface_d', color=None, normals=None):\n",
    "    \"\"\"\n",
    "    Quickly add surface that has information about distance to another surface\n",
    "    \"\"\"\n",
    "    \n",
    "    d = {'vertices': vertices, 'faces': faces, 'surf-surf-distance': surf_dist}\n",
    "    \n",
    "    if color is not None:\n",
    "        d['c'] = color\n",
    "        \n",
    "    if normals is not None:\n",
    "        d['xn'] = normals[:,0]\n",
    "        d['yn'] = normals[:,1]\n",
    "        d['zn'] = normals[:,2]\n",
    "\n",
    "    # create tabular mappingFilter data source and add it to pymevis\n",
    "    #pipeline.addDataSource(ds_name, tabular.mappingFilter(d))\n",
    "\n",
    "    # select this data source (optional, but helps support \"default behavior\")\n",
    "    #pipeline.selectDataSource(ds_name)\n",
    "    \n",
    "    # Load and display mesh\n",
    "    from PYME.experimental._triangle_mesh import TriangleMesh\n",
    "    from PYME.LMVis.layers.mesh import TriangleRenderLayer\n",
    "\n",
    "    #mesh = TriangleMesh.from_stl(mesh_1)\n",
    "\n",
    "    mesh_name = pipeline.new_ds_name('surf')\n",
    "    pipeline.recipe.namespace[mesh_name] = d\n",
    "    layer = TriangleRenderLayer(pipeline, dsname=mesh_name, method='shaded', cmap = 'gist_rainbow_r')\n",
    "    pymevis.add_layer(layer)\n",
    "\n",
    "    # grab the bounding box\n",
    "    mesh_bbox = pymevis.glCanvas.layers[-1]._bbox\n",
    "    \n",
    "    # Add a pointcloud layer that displays data source named 'points' (the one we just added)\n",
    "    #pymevis.add_pointcloud_layer(ds_name=ds_name)\n",
    "    \n",
    "    if normals is not None:\n",
    "        pymevis.glCanvas.layers[-1].display_normals=True\n",
    "        pymevis.glCanvas.layers[-1].normal_scaling=25.0"
   ]
  },
  {
   "cell_type": "code",
   "execution_count": 29,
   "id": "fa631748-9fe9-4056-a654-fd5408b8e785",
   "metadata": {},
   "outputs": [
    {
     "name": "stderr",
     "output_type": "stream",
     "text": [
      "ERROR:traits:Exception occurred in traits notification handler for object: <PYME.LMVis.layers.mesh.TriangleRenderLayer object at 0x000002059C7BC3A8>, trait: method, old value: wireframe, new value: shaded\n",
      "Traceback (most recent call last):\n",
      "  File \"C:\\Users\\laf62\\.conda\\envs\\pyme\\lib\\site-packages\\traits\\trait_notifiers.py\", line 524, in _dispatch_change_event\n",
      "    self.dispatch(handler, *args)\n",
      "  File \"C:\\Users\\laf62\\.conda\\envs\\pyme\\lib\\site-packages\\traits\\trait_notifiers.py\", line 486, in dispatch\n",
      "    handler(*args)\n",
      "  File \"c:\\users\\laf62\\code\\python-microscopy\\PYME\\LMVis\\layers\\mesh.py\", line 204, in _set_method\n",
      "    self.update()\n",
      "  File \"c:\\users\\laf62\\code\\python-microscopy\\PYME\\LMVis\\layers\\mesh.py\", line 234, in update\n",
      "    self.update_from_datasource(self.datasource)\n",
      "  File \"c:\\users\\laf62\\code\\python-microscopy\\PYME\\LMVis\\layers\\mesh.py\", line 257, in update_from_datasource\n",
      "    x, y, z = ds.vertices[ds.faces].reshape(-1, 3).T\n",
      "AttributeError: 'dict' object has no attribute 'vertices'\n"
     ]
    },
    {
     "name": "stdout",
     "output_type": "stream",
     "text": [
      "lw update\n",
      "Disposing of HistLimitsEditor\n",
      "Disposing of HistLimitsEditor\n",
      "Disposing of HistLimitsEditor\n",
      "Disposing of HistLimitsEditor\n",
      "Disposing of HistLimitsEditor\n",
      "Creating layers GUI\n",
      "hl update\n",
      "hl update\n",
      "hl update\n",
      "hl update\n",
      "hl update\n",
      "hl update\n",
      "height:  449\n",
      "NB best size: wx.Size(231, 736)\n"
     ]
    }
   ],
   "source": [
    "add_ds(surf1_verts, surf1_faces, surf_dist, pipeline, pymevis, ds_name='surface_d', color=None, normals=None)"
   ]
  },
  {
   "cell_type": "code",
   "execution_count": 13,
   "id": "18fa210f-6ef4-4a78-a7ae-74d64217278f",
   "metadata": {},
   "outputs": [
    {
     "data": {
      "text/plain": [
       "array([  945.2206, 17456.387 ,  -343.1635], dtype=float32)"
      ]
     },
     "execution_count": 13,
     "metadata": {},
     "output_type": "execute_result"
    }
   ],
   "source": [
    "surf1_verts[0]"
   ]
  },
  {
   "cell_type": "code",
   "execution_count": null,
   "id": "ae6c317c-5536-45d3-ac22-0fad5c70c0b5",
   "metadata": {},
   "outputs": [],
   "source": []
  }
 ],
 "metadata": {
  "kernelspec": {
   "display_name": "pyme",
   "language": "python",
   "name": "pyme"
  },
  "language_info": {
   "codemirror_mode": {
    "name": "ipython",
    "version": 3
   },
   "file_extension": ".py",
   "mimetype": "text/x-python",
   "name": "python",
   "nbconvert_exporter": "python",
   "pygments_lexer": "ipython3",
   "version": "3.7.9"
  }
 },
 "nbformat": 4,
 "nbformat_minor": 5
}
