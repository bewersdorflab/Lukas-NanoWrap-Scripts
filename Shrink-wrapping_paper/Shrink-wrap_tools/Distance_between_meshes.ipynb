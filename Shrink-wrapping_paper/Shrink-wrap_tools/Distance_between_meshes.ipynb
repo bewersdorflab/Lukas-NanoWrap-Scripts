{
 "cells": [
  {
   "cell_type": "code",
   "execution_count": 1,
   "id": "142389c6-6e8b-4d2e-a8f8-8427f99b98fe",
   "metadata": {
    "tags": []
   },
   "outputs": [
    {
     "name": "stdout",
     "output_type": "stream",
     "text": [
      "Trying to load 3rd party recipe module cc_drift_cor.plugins.recipes.processing\n",
      "Loaded 3rd party recipe module cc_drift_cor.plugins.recipes.processing\n",
      "Trying to load 3rd party recipe module pyme_4pi.recipe_modules.conversion\n",
      "Loaded 3rd party recipe module pyme_4pi.recipe_modules.conversion\n",
      "Trying to load 3rd party recipe module ch_shrinkwrap.recipe_modules.simulation\n",
      "Loaded 3rd party recipe module ch_shrinkwrap.recipe_modules.simulation\n",
      "Trying to load 3rd party recipe module nep_fitting.recipe_modules.nep_fits\n",
      "Loaded 3rd party recipe module nep_fitting.recipe_modules.nep_fits\n",
      "Trying to load 3rd party recipe module ch_shrinkwrap.recipe_modules.surface_feature_extraction\n",
      "Loaded 3rd party recipe module ch_shrinkwrap.recipe_modules.surface_feature_extraction\n",
      "Trying to load 3rd party recipe module ch_shrinkwrap.recipe_modules.surface_fitting\n",
      "Loaded 3rd party recipe module ch_shrinkwrap.recipe_modules.surface_fitting\n",
      "Trying to load 3rd party recipe module cc_drift_cor.plugins.recipes.chung_cc\n",
      "Loaded 3rd party recipe module cc_drift_cor.plugins.recipes.chung_cc\n",
      "Trying to load 3rd party recipe module pyme_picasso.recipe_modules.conversion\n",
      "Loaded 3rd party recipe module pyme_picasso.recipe_modules.conversion\n",
      "Trying to load 3rd party recipe module cc_drift_cor.plugins.recipes.localisations\n",
      "Loaded 3rd party recipe module cc_drift_cor.plugins.recipes.localisations\n",
      "Trying to load 3rd party recipe module cc_drift_cor.plugins.recipes.io\n",
      "Loaded 3rd party recipe module cc_drift_cor.plugins.recipes.io\n",
      "Detected a .git folder, assuming a development install\n"
     ]
    }
   ],
   "source": [
    "from PYME.LMVis import VisGUI\n",
    "\n",
    "%gui wx"
   ]
  },
  {
   "cell_type": "code",
   "execution_count": 2,
   "id": "02479f1b-d92f-456d-bfcc-a90ae3ac292c",
   "metadata": {
    "tags": []
   },
   "outputs": [
    {
     "name": "stderr",
     "output_type": "stream",
     "text": [
      "DEBUG:PYME.LMVis.visCore:Creating VisGUI menu bar\n",
      "DEBUG:PYME.LMVis.Extras:Initializing QPobjectSegment plugin\n",
      "DEBUG:PYME.LMVis.Extras:Initializing animation plugin\n"
     ]
    },
    {
     "name": "stdout",
     "output_type": "stream",
     "text": [
      "quaternion module not found, disabling custom clip plane orientations\n",
      "quaternion module not found, disabling custom clip plane orientations\n",
      "New Canvas\n"
     ]
    },
    {
     "name": "stderr",
     "output_type": "stream",
     "text": [
      "DEBUG:PYME.LMVis.Extras:Initializing annotation plugin\n",
      "c:\\users\\laf62\\code\\python-microscopy\\PYME\\DSView\\modules\\annotation.py:62: wxPyDeprecationWarning: Call to deprecated item. Use SetToolTip instead.\n",
      "  self.bAdjustSnake.SetToolTipString('Adjust the parameters of fo the \"snake\" (active contour) used for curve locking')\n",
      "c:\\users\\laf62\\code\\python-microscopy\\PYME\\DSView\\modules\\annotation.py:73: wxPyDeprecationWarning: Call to deprecated item. Use InsertItem instead.\n",
      "  self.lLabels.InsertStringItem(i, '%d' % i)\n",
      "c:\\users\\laf62\\code\\python-microscopy\\PYME\\DSView\\modules\\annotation.py:74: wxPyDeprecationWarning: Call to deprecated item. Use SetItem instead.\n",
      "  self.lLabels.SetStringItem(i, 1, 'Structure %d' % i)\n",
      "c:\\users\\laf62\\code\\python-microscopy\\PYME\\DSView\\modules\\annotation.py:76: wxPyDeprecationWarning: Call to deprecated item. Use SetItem instead.\n",
      "  self.lLabels.SetStringItem(0, 1, 'No label')\n",
      "c:\\users\\laf62\\code\\python-microscopy\\PYME\\DSView\\modules\\annotation.py:95: wxPyDeprecationWarning: Call to deprecated item. Use SetToolTip instead.\n",
      "  self.bAddLine.SetToolTipString('Add a curve annotation (ctrl-L / cmd-L)')\n",
      "DEBUG:PYME.LMVis.Extras:Initializing clusterAnalysis plugin\n",
      "WARNING:PYME.DSView.modules:Plugin [clusterAnalysis] injects into parent namespace, could result in circular references\n",
      "DEBUG:PYME.LMVis.Extras:Initializing dockedPanel plugin\n",
      "DEBUG:PYME.LMVis.Extras:Initializing extra_layers plugin\n",
      "DEBUG:PYME.LMVis.Extras:Initializing fiducial plugin\n",
      "DEBUG:PYME.LMVis.Extras:Initializing flagZMotionArtifacts plugin\n",
      "DEBUG:root:Adding menu items for event filters\n",
      "WARNING:PYME.DSView.modules:Plugin [flagZMotionArtifacts] injects into parent namespace, could result in circular references\n",
      "DEBUG:PYME.LMVis.Extras:Initializing fusionUtils plugin\n",
      "DEBUG:PYME.LMVis.Extras:Initializing multiColourAnalysis plugin\n",
      "DEBUG:PYME.LMVis.Extras:Initializing multiviewMapping plugin\n",
      "DEBUG:root:Adding menu items for multi-view manipulation\n",
      "WARNING:PYME.DSView.modules:Plugin [multiviewMapping] injects into parent namespace, could result in circular references\n",
      "DEBUG:PYME.LMVis.Extras:Initializing objectMeasurements plugin\n",
      "DEBUG:PYME.LMVis.Extras:Initializing particleTracking plugin\n",
      "WARNING:PYME.DSView.modules:Plugin [particleTracking] injects into parent namespace, could result in circular references\n",
      "DEBUG:PYME.LMVis.Extras:Initializing perFrameVariable plugin\n",
      "DEBUG:PYME.LMVis.Extras:Initializing photophysics plugin\n",
      "DEBUG:PYME.LMVis.Extras:Initializing pointSetGeneration plugin\n",
      "WARNING:PYME.DSView.modules:Plugin [pointSetGeneration] injects into parent namespace, could result in circular references\n",
      "DEBUG:PYME.LMVis.Extras:Initializing pointwiseColoc plugin\n",
      "DEBUG:PYME.LMVis.Extras:Initializing saved_views plugin\n",
      "DEBUG:PYME.LMVis.Extras:Initializing scaleBox plugin\n",
      "DEBUG:PYME.LMVis.Extras:Initializing sequentialSpecies plugin\n",
      "DEBUG:PYME.LMVis.Extras:Initializing setBGImage plugin\n",
      "DEBUG:PYME.LMVis.Extras:Initializing shiftmapGenerator plugin\n",
      "DEBUG:PYME.LMVis.Extras:Initializing showShortcuts plugin\n",
      "DEBUG:PYME.LMVis.Extras:Initializing snapshot plugin\n",
      "DEBUG:PYME.LMVis.Extras:Initializing spherical_harmonics plugin\n",
      "DEBUG:root:Adding menu items for spherical harmonic (shell) fitting\n",
      "WARNING:PYME.DSView.modules:Plugin [spherical_harmonics] injects into parent namespace, could result in circular references\n",
      "DEBUG:PYME.LMVis.Extras:Initializing subsets plugin\n",
      "DEBUG:PYME.LMVis.Extras:Initializing surface_fitting plugin\n",
      "DEBUG:PYME.LMVis.Extras:Initializing temperaturePlot plugin\n",
      "DEBUG:PYME.LMVis.Extras:Initializing vibration plugin\n"
     ]
    },
    {
     "name": "stdout",
     "output_type": "stream",
     "text": [
      "Saved Views are deprecated -  use the ones with animation instead and remove me!\n",
      "Creating fold panel\n",
      "GenPanels\n",
      "Creating datasource panel\n",
      "Image list size: 1\n"
     ]
    },
    {
     "name": "stderr",
     "output_type": "stream",
     "text": [
      "DEBUG:PYME.recipes.recipe:recipe.execute()\n",
      "DEBUG:PYME.recipes.recipe:Module timings: {}\n"
     ]
    },
    {
     "name": "stdout",
     "output_type": "stream",
     "text": [
      "0\n",
      "OpenGL - Version: b'4.6.0 NVIDIA 516.94'\n",
      "Shader - Version: b'4.60 NVIDIA'\n",
      "GL.GL_MAX_SAMPLES: 32, GL.GL_SAMPLES: 4\n"
     ]
    },
    {
     "name": "stderr",
     "output_type": "stream",
     "text": [
      "DEBUG:PYME.LMVis.shader_programs.ShaderProgramFactory:New shader program created: <class 'PYME.LMVis.shader_programs.DefaultShaderProgram.DefaultShaderProgram'>\n"
     ]
    },
    {
     "name": "stdout",
     "output_type": "stream",
     "text": [
      "Ev Idle\n",
      "('points', 't')\n",
      "refreshed\n",
      "Input datasources:  []\n",
      "Creating layers GUI\n",
      "height:  0\n",
      "NB best size: wx.Size(0, 0)\n"
     ]
    }
   ],
   "source": [
    "pymevis = VisGUI.ipython_pymevisualize()\n",
    "pipeline = pymevis.pipeline"
   ]
  },
  {
   "cell_type": "code",
   "execution_count": 3,
   "id": "682ab51c-2ff7-49c5-a3fb-0b48a0262f01",
   "metadata": {},
   "outputs": [],
   "source": [
    "import numpy as np\n",
    "\n",
    "# Load data\n",
    "points = \"C:\\\\Users\\\\laf62\\\\Desktop\\\\LAF-Drive\\\\Yale_University\\\\Bewersdorf_Lab\\\\Shrink-wrapping_Paper\\\\Figure 4\\\\V6\\\\Cell04_mapped.hdf\"\n",
    "mesh_1 = \"C:\\\\Users\\\\laf62\\Desktop\\\\LAF-Drive\\\\Yale_University\\\\Bewersdorf_Lab\\\\Shrink-wrapping_Paper\\\\Figure 4\\\\V6\\\\Cell04_ER_NanoSculpt.stl\"\n",
    "mesh_2 = \"C:\\\\Users\\\\laf62\\\\Desktop\\\\LAF-Drive\\\\Yale_University\\\\Bewersdorf_Lab\\\\Shrink-wrapping_Paper\\\\Figure 4\\\\V6\\\\Cell04_Mito_NanoSculpt_V2.stl\"\n",
    "# points = \"E:\\\\4Pi\\\\20220509_U2OS_mCh-Sec61B_Tomm20_STORM_2\\\\Cell04_mapped.hdf\"\n",
    "# mesh_1 = \"E:\\\\4Pi\\\\20220509_U2OS_mCh-Sec61B_Tomm20_STORM_2\\\\Figure_4_shrinkwrap_paper\\\\Cell04_ER_shrinkwrap.stl\"\n",
    "# mesh_2 = \"E:\\\\4Pi\\\\20220509_U2OS_mCh-Sec61B_Tomm20_STORM_2\\\\Figure_4_shrinkwrap_paper\\\\Cell04_Mito_shrinkwrap_iters49_cw20.stl\""
   ]
  },
  {
   "cell_type": "code",
   "execution_count": 4,
   "id": "c090dfc8-d7f9-43fd-8c92-c16577d74103",
   "metadata": {
    "tags": []
   },
   "outputs": [
    {
     "name": "stdout",
     "output_type": "stream",
     "text": [
      "Creating Pipeline\n"
     ]
    },
    {
     "name": "stderr",
     "output_type": "stream",
     "text": [
      "DEBUG:PYME.recipes.recipe:recipe.execute()\n",
      "DEBUG:PYME.recipes.recipe:Executing <PYME.recipes.localisations.Pipelineify object at 0x0000020751F4A2E8>\n",
      "c:\\users\\laf62\\code\\python-microscopy\\PYME\\IO\\MetaDataHandler.py:666: UserWarning: DictMDHandler is not yet fully supported, and will likely cause failures for anything related to localisation fitting\n",
      "  warnings.warn('DictMDHandler is not yet fully supported, and will likely cause failures for anything related to localisation fitting')\n",
      "DEBUG:PYME.recipes.localisations:no events found\n",
      "DEBUG:PYME.recipes.recipe:Executing <PYME.recipes.localisations.ProcessColour object at 0x0000020751F4A168>\n",
      "DEBUG:PYME.recipes.recipe:Executing <PYME.recipes.tablefilters.FilterTable object at 0x0000020751F70CA8>\n",
      "DEBUG:PYME.recipes.recipe:Module timings: {'localisations.AddPipelineDerivedVars': 0.0019698143005371094, 'localisations.ProcessColour': 0.0279538631439209, 'tablefilters.FilterTable': 0.03989291191101074}\n",
      "DEBUG:PYME.LMVis.VisGUI:Creating tabs\n",
      "DEBUG:PYME.LMVis.VisGUI:Finished creating tabs\n"
     ]
    },
    {
     "name": "stdout",
     "output_type": "stream",
     "text": [
      "Pipeline Created\n",
      "0\n",
      "Gui stuff done\n",
      "Input datasources:  ['_Localizations', 'FitResults']\n",
      "vcs:  ['t', 'z']\n",
      "pointcloud.update_from_datasource() - dsname=output\n"
     ]
    },
    {
     "name": "stderr",
     "output_type": "stream",
     "text": [
      "DEBUG:PYME.LMVis.visCore:Added layer, datasouce=output\n"
     ]
    },
    {
     "name": "stdout",
     "output_type": "stream",
     "text": [
      "pointcloud.update_from_datasource() - dsname=output.chan0\n"
     ]
    },
    {
     "name": "stderr",
     "output_type": "stream",
     "text": [
      "DEBUG:PYME.LMVis.visCore:Added layer, datasouce=output.chan0\n"
     ]
    },
    {
     "name": "stdout",
     "output_type": "stream",
     "text": [
      "pointcloud.update_from_datasource() - dsname=output.chan1\n"
     ]
    },
    {
     "name": "stderr",
     "output_type": "stream",
     "text": [
      "DEBUG:PYME.LMVis.visCore:Added layer, datasouce=output.chan1\n",
      "DEBUG:PYME.LMVis.shader_programs.ShaderProgramFactory:New shader program created: <class 'PYME.LMVis.shader_programs.DefaultShaderProgram.OpaquePointShaderProgram'>\n"
     ]
    },
    {
     "name": "stdout",
     "output_type": "stream",
     "text": [
      "Creating layers GUI\n",
      "hl update\n",
      "hl update\n",
      "hl update\n",
      "height:  72\n"
     ]
    }
   ],
   "source": [
    "# Display point data in Visgui\n",
    "pymevis.OpenFile(points)"
   ]
  },
  {
   "cell_type": "code",
   "execution_count": 5,
   "id": "e66818ea-b95d-4f01-8312-4fa84fa53a92",
   "metadata": {
    "tags": []
   },
   "outputs": [
    {
     "name": "stdout",
     "output_type": "stream",
     "text": [
      "NB best size: wx.Size(3, 66)\n",
      "Data munged to vertices, faces\n",
      "initializing halfedges ...\n",
      "vertices.shape = (2312612, 3), faces.shape = (4632454, 3)\n",
      "done initializing halfedges\n",
      "mesh_layer update\n"
     ]
    },
    {
     "name": "stderr",
     "output_type": "stream",
     "text": [
      "DEBUG:PYME.LMVis.shader_programs.ShaderProgramFactory:New shader program created: <class 'PYME.LMVis.shader_programs.GouraudShaderProgram.GouraudShaderProgram'>\n"
     ]
    },
    {
     "name": "stdout",
     "output_type": "stream",
     "text": [
      "Disposing of HistLimitsEditor\n",
      "Disposing of HistLimitsEditor\n",
      "Disposing of HistLimitsEditor\n",
      "Creating layers GUI\n",
      "hl update\n",
      "hl update\n",
      "hl update\n",
      "hl update\n",
      "height:  97\n",
      "NB best size: wx.Size(3, 88)\n"
     ]
    }
   ],
   "source": [
    "# Load mesh_1\n",
    "from PYME.experimental._triangle_mesh import TriangleMesh\n",
    "from PYME.LMVis.layers.mesh import TriangleRenderLayer\n",
    "\n",
    "mesh = TriangleMesh.from_stl(mesh_1)\n",
    "\n",
    "mesh_name = pipeline.new_ds_name('surf1')\n",
    "pipeline.recipe.namespace[mesh_name] = mesh\n",
    "layer = TriangleRenderLayer(pipeline, dsname=mesh_name, method='shaded', cmap = 'SolidMagenta')\n",
    "pymevis.add_layer(layer)\n",
    "\n",
    "# grab the bounding box\n",
    "mesh_bbox = pymevis.glCanvas.layers[-1]._bbox"
   ]
  },
  {
   "cell_type": "code",
   "execution_count": 6,
   "id": "c5f926a5-07ee-4645-908c-1d877acdb03e",
   "metadata": {
    "tags": []
   },
   "outputs": [
    {
     "name": "stdout",
     "output_type": "stream",
     "text": [
      "Data munged to vertices, faces\n",
      "initializing halfedges ...\n",
      "vertices.shape = (337614, 3), faces.shape = (675188, 3)\n",
      "done initializing halfedges\n",
      "mesh_layer update\n",
      "Disposing of HistLimitsEditor\n",
      "Disposing of HistLimitsEditor\n",
      "Disposing of HistLimitsEditor\n",
      "Disposing of HistLimitsEditor\n",
      "Creating layers GUI\n",
      "hl update\n",
      "hl update\n",
      "hl update\n",
      "hl update\n",
      "hl update\n",
      "height:  122\n",
      "NB best size: wx.Size(3, 110)\n"
     ]
    }
   ],
   "source": [
    "# Load mesh_2\n",
    "from PYME.experimental._triangle_mesh import TriangleMesh\n",
    "from PYME.LMVis.layers.mesh import TriangleRenderLayer\n",
    "\n",
    "mesh = TriangleMesh.from_stl(mesh_2)\n",
    "\n",
    "mesh_name = pipeline.new_ds_name('surf2')\n",
    "pipeline.recipe.namespace[mesh_name] = mesh\n",
    "layer = TriangleRenderLayer(pipeline, dsname=mesh_name, method='shaded', cmap = 'SolidGreen')\n",
    "pymevis.add_layer(layer)\n",
    "\n",
    "# grab the bounding box\n",
    "mesh_bbox = pymevis.glCanvas.layers[-1]._bbox"
   ]
  },
  {
   "cell_type": "code",
   "execution_count": 7,
   "id": "c9e3482e-308b-492e-bf90-67799c38bc40",
   "metadata": {
    "tags": []
   },
   "outputs": [
    {
     "name": "stderr",
     "output_type": "stream",
     "text": [
      "c:\\users\\laf62\\code\\python-microscopy\\PYME\\IO\\tabular.py:996: VisibleDeprecationWarning: Mapping filter created with something that is not a tabular object. This will be unsupported in a future release. Consider DictSource or ColumnSource instead\n",
      "  warnings.warn(VisibleDeprecationWarning('Mapping filter created with something that is not a tabular object. This will be unsupported in a future release. Consider DictSource or ColumnSource instead'))\n"
     ]
    },
    {
     "name": "stdout",
     "output_type": "stream",
     "text": [
      "pointcloud.update_from_datasource() - dsname=output\n",
      "pointcloud.update_from_datasource() - dsname=output.chan0\n",
      "hl update\n",
      "pointcloud.update_from_datasource() - dsname=output.chan1\n",
      "hl update\n",
      "mesh_layer update\n",
      "mesh_layer update\n",
      "pointcloud.update_from_datasource() - dsname=output\n",
      "pointcloud.update_from_datasource() - dsname=output.chan0\n",
      "hl update\n",
      "pointcloud.update_from_datasource() - dsname=output.chan1\n",
      "hl update\n",
      "mesh_layer update\n",
      "mesh_layer update\n"
     ]
    }
   ],
   "source": [
    "# extract vertices and faces of surface 1\n",
    "pipeline.selectDataSource('surf10')\n",
    "surf1 = pipeline.selectedDataSource\n",
    "surf1_verts = surf1._vertices['position']\n",
    "surf1_faces = surf1.faces\n",
    "\n",
    "# extract vertices and faces of surface 2\n",
    "pipeline.selectDataSource('surf20')\n",
    "surf2 = pipeline.selectedDataSource\n",
    "surf2_verts = surf2._vertices['position']\n",
    "surf2_faces = surf2.faces"
   ]
  },
  {
   "cell_type": "code",
   "execution_count": 8,
   "id": "2c456b60-7eca-4552-8d15-b2fca311e348",
   "metadata": {},
   "outputs": [],
   "source": [
    "# Calculate distance from the vertices of one mesh to the other\n",
    "from scipy.spatial import cKDTree\n",
    "\n",
    "# Distance from mesh_1 to mesh_2\n",
    "tree_surf2 = cKDTree(surf2_verts)\n",
    "surf1_dist, surf1_ind = tree_surf2.query(surf1_verts, k=1)\n",
    "\n",
    "# Distance from mesh_2 to mesh_1\n",
    "tree_surf1 = cKDTree(surf1_verts)\n",
    "surf2_dist, surf2_ind = tree_surf1.query(surf2_verts, k=1)"
   ]
  },
  {
   "cell_type": "code",
   "execution_count": 9,
   "id": "f9f14478-e88b-4576-af95-67385e48876d",
   "metadata": {},
   "outputs": [],
   "source": [
    "surf1.extra_vertex_data['surf-surf-dist'] = surf1_dist"
   ]
  },
  {
   "cell_type": "code",
   "execution_count": 10,
   "id": "ee1e88ea-a24e-4915-af5c-71511808b3e1",
   "metadata": {},
   "outputs": [],
   "source": [
    "surf2.extra_vertex_data['surf-surf-dist-2'] = surf2_dist"
   ]
  },
  {
   "cell_type": "code",
   "execution_count": 11,
   "id": "d2bbea32-8fb0-40d4-9607-2d92a975ae5d",
   "metadata": {},
   "outputs": [],
   "source": [
    "from PYME.IO import tabular\n",
    "\n",
    "def add_mesh_ds(vertices, faces, surf_dist, pipeline, pymevis, ds_name='surface_dist', color=None, normals=None):\n",
    "    \"\"\"\n",
    "    Quickly add surface that has information about distance to another surface\n",
    "    \"\"\"\n",
    "    \n",
    "    #d = {'vertices': vertices, 'faces': faces, 'surf-surf-distance': surf_dist}\n",
    "    d = {'x': vertices[:,0], 'y': vertices[:,1], 'z': vertices[:,2]} \n",
    "\n",
    "    if color is not None:\n",
    "        d['c'] = color\n",
    "        \n",
    "    if normals is not None:\n",
    "        d['xn'] = normals[:,0]\n",
    "        d['yn'] = normals[:,1]\n",
    "        d['zn'] = normals[:,2]\n",
    "\n",
    "    # create tabular mappingFilter data source and add it to pymevis\n",
    "    out = tabular.MappingFilter(d)\n",
    "    out.addColumn('surf-surf-dist', surf_dist)\n",
    "    pipeline.addDataSource(ds_name, out)                    \n",
    "    pymevis.add_mesh_layer(ds_name=ds_name)\n",
    "    \n",
    "    # select this data source (optional, but helps support \"default behavior\")\n",
    "    pipeline.selectDataSource(ds_name)\n",
    "    \n",
    "#     if normals is not None:\n",
    "#         pymevis.glCanvas.layers[-1].display_normals=True\n",
    "#         pymevis.glCanvas.layers[-1].normal_scaling=25.0"
   ]
  },
  {
   "cell_type": "code",
   "execution_count": 12,
   "id": "fa631748-9fe9-4056-a654-fd5408b8e785",
   "metadata": {
    "tags": []
   },
   "outputs": [
    {
     "name": "stderr",
     "output_type": "stream",
     "text": [
      "ERROR:traits:Exception occurred in traits notification handler for object: <PYME.LMVis.layers.mesh.TriangleRenderLayer object at 0x0000020701494CA8>, trait: method, old value: wireframe, new value: shaded\n",
      "Traceback (most recent call last):\n",
      "  File \"c:\\users\\laf62\\code\\python-microscopy\\PYME\\IO\\tabular.py\", line 197, in __getattr__\n",
      "    return self[item]\n",
      "  File \"c:\\users\\laf62\\code\\python-microscopy\\PYME\\IO\\tabular.py\", line 1017, in __getitem__\n",
      "    return self.resultsSource[keys]\n",
      "KeyError: 'vertices'\n",
      "\n",
      "During handling of the above exception, another exception occurred:\n",
      "\n",
      "Traceback (most recent call last):\n",
      "  File \"C:\\Users\\laf62\\.conda\\envs\\pyme\\lib\\site-packages\\traits\\trait_notifiers.py\", line 524, in _dispatch_change_event\n",
      "    self.dispatch(handler, *args)\n",
      "  File \"C:\\Users\\laf62\\.conda\\envs\\pyme\\lib\\site-packages\\traits\\trait_notifiers.py\", line 486, in dispatch\n",
      "    handler(*args)\n",
      "  File \"c:\\users\\laf62\\code\\python-microscopy\\PYME\\LMVis\\layers\\mesh.py\", line 204, in _set_method\n",
      "    self.update()\n",
      "  File \"c:\\users\\laf62\\code\\python-microscopy\\PYME\\LMVis\\layers\\mesh.py\", line 235, in update\n",
      "    self.update_from_datasource(self.datasource)\n",
      "  File \"c:\\users\\laf62\\code\\python-microscopy\\PYME\\LMVis\\layers\\mesh.py\", line 258, in update_from_datasource\n",
      "    x, y, z = ds.vertices[ds.faces].reshape(-1, 3).T\n",
      "  File \"c:\\users\\laf62\\code\\python-microscopy\\PYME\\IO\\tabular.py\", line 199, in __getattr__\n",
      "    raise AttributeError(\"'%s' has not attribute '%s'\" % (self.__class__, item))\n",
      "AttributeError: '<class 'PYME.IO.tabular.MappingFilter'>' has not attribute 'vertices'\n",
      "DEBUG:PYME.LMVis.visCore:Added layer, datasouce=surface_dist\n"
     ]
    },
    {
     "name": "stdout",
     "output_type": "stream",
     "text": [
      "mesh_layer update\n",
      "pointcloud.update_from_datasource() - dsname=output\n",
      "pointcloud.update_from_datasource() - dsname=output.chan0\n",
      "hl update\n",
      "pointcloud.update_from_datasource() - dsname=output.chan1\n",
      "hl update\n",
      "mesh_layer update\n",
      "mesh_layer update\n",
      "mesh_layer update\n",
      "Disposing of HistLimitsEditor\n",
      "Disposing of HistLimitsEditor\n",
      "Disposing of HistLimitsEditor\n",
      "Disposing of HistLimitsEditor\n",
      "Disposing of HistLimitsEditor\n",
      "Creating layers GUI\n",
      "hl update\n",
      "hl update\n",
      "hl update\n",
      "hl update\n",
      "hl update\n",
      "hl update\n",
      "height:  147\n",
      "NB best size: wx.Size(3, 132)\n",
      "mesh_layer update\n",
      "mesh_layer update\n",
      "hl update\n",
      "mesh_layer update\n",
      "mesh_layer update\n",
      "[0.3630053148576794, 8572.154346867046]\n",
      "mesh_layer update\n",
      "[0.0, 100.0]\n",
      "mesh_layer update\n",
      "Viewport:  (8183, 7450)\n",
      "uint8 (8183, 7450, 3) 255\n",
      "Viewport:  (8183, 7450)\n",
      "uint8 (8183, 7450, 3) 255\n",
      "Viewport:  (8183, 7450)\n",
      "uint8 (8183, 7450, 3) 255\n"
     ]
    }
   ],
   "source": [
    "add_mesh_ds(surf1_verts, surf1_faces, surf1_dist, pipeline, pymevis, color=None, normals=None)"
   ]
  },
  {
   "cell_type": "code",
   "execution_count": null,
   "id": "ae6c317c-5536-45d3-ac22-0fad5c70c0b5",
   "metadata": {},
   "outputs": [],
   "source": [
    "add_mesh_ds(surf2_verts, surf2_faces, surf2_dist, pipeline, pymevis, color=None, normals=None)"
   ]
  }
 ],
 "metadata": {
  "kernelspec": {
   "display_name": "pyme",
   "language": "python",
   "name": "pyme"
  },
  "language_info": {
   "codemirror_mode": {
    "name": "ipython",
    "version": 3
   },
   "file_extension": ".py",
   "mimetype": "text/x-python",
   "name": "python",
   "nbconvert_exporter": "python",
   "pygments_lexer": "ipython3",
   "version": "3.7.9"
  }
 },
 "nbformat": 4,
 "nbformat_minor": 5
}
