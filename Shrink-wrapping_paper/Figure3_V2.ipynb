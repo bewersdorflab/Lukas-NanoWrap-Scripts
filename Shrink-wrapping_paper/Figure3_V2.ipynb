{
 "cells": [
  {
   "cell_type": "code",
   "execution_count": 1,
   "id": "21f960fb",
   "metadata": {
    "tags": []
   },
   "outputs": [
    {
     "name": "stdout",
     "output_type": "stream",
     "text": [
      "Trying to load 3rd party recipe module ch_shrinkwrap.recipe_modules.surface_feature_extraction\n",
      "Loaded 3rd party recipe module ch_shrinkwrap.recipe_modules.surface_feature_extraction\n",
      "Trying to load 3rd party recipe module nep_fitting.recipe_modules.nep_fits\n",
      "Loaded 3rd party recipe module nep_fitting.recipe_modules.nep_fits\n",
      "Trying to load 3rd party recipe module ch_shrinkwrap.recipe_modules.simulation\n",
      "Loaded 3rd party recipe module ch_shrinkwrap.recipe_modules.simulation\n",
      "Trying to load 3rd party recipe module cc_drift_cor.plugins.recipes.localisations\n",
      "Loaded 3rd party recipe module cc_drift_cor.plugins.recipes.localisations\n",
      "Trying to load 3rd party recipe module cc_drift_cor.plugins.recipes.io\n",
      "Loaded 3rd party recipe module cc_drift_cor.plugins.recipes.io\n",
      "Trying to load 3rd party recipe module pyme_4pi.recipe_modules.conversion\n",
      "Loaded 3rd party recipe module pyme_4pi.recipe_modules.conversion\n",
      "Trying to load 3rd party recipe module pyme_picasso.recipe_modules.conversion\n",
      "Loaded 3rd party recipe module pyme_picasso.recipe_modules.conversion\n",
      "Trying to load 3rd party recipe module cc_drift_cor.plugins.recipes.processing\n",
      "Loaded 3rd party recipe module cc_drift_cor.plugins.recipes.processing\n",
      "Trying to load 3rd party recipe module cc_drift_cor.plugins.recipes.chung_cc\n",
      "Loaded 3rd party recipe module cc_drift_cor.plugins.recipes.chung_cc\n",
      "Trying to load 3rd party recipe module ch_shrinkwrap.recipe_modules.surface_fitting\n",
      "Loaded 3rd party recipe module ch_shrinkwrap.recipe_modules.surface_fitting\n",
      "Detected a .git folder, assuming a development install\n",
      "quaternion module not found, disabling custom clip plane orientations\n"
     ]
    }
   ],
   "source": [
    "from PYME.LMVis import VisGUI\n",
    "\n",
    "from PYME.IO import tabular\n",
    "import numpy as np\n",
    "\n",
    "from ch_shrinkwrap import _membrane_mesh as membrane_mesh\n",
    "from PYME.LMVis.layers.mesh import TriangleRenderLayer\n",
    "\n",
    "%gui wx"
   ]
  },
  {
   "cell_type": "code",
   "execution_count": 2,
   "id": "05986a00",
   "metadata": {
    "scrolled": true
   },
   "outputs": [
    {
     "name": "stderr",
     "output_type": "stream",
     "text": [
      "DEBUG:PYME.LMVis.visCore:Creating VisGUI menu bar\n",
      "DEBUG:PYME.LMVis.Extras:Initializing QPobjectSegment plugin\n",
      "DEBUG:PYME.LMVis.Extras:Initializing animation plugin\n"
     ]
    },
    {
     "name": "stdout",
     "output_type": "stream",
     "text": [
      "quaternion module not found, disabling custom clip plane orientations\n",
      "New Canvas\n"
     ]
    },
    {
     "name": "stderr",
     "output_type": "stream",
     "text": [
      "DEBUG:PYME.LMVis.Extras:Initializing annotation plugin\n",
      "c:\\users\\laf62\\code\\python-microscopy\\PYME\\DSView\\modules\\annotation.py:62: wxPyDeprecationWarning: Call to deprecated item. Use SetToolTip instead.\n",
      "  self.bAdjustSnake.SetToolTipString('Adjust the parameters of fo the \"snake\" (active contour) used for curve locking')\n",
      "c:\\users\\laf62\\code\\python-microscopy\\PYME\\DSView\\modules\\annotation.py:73: wxPyDeprecationWarning: Call to deprecated item. Use InsertItem instead.\n",
      "  self.lLabels.InsertStringItem(i, '%d' % i)\n",
      "c:\\users\\laf62\\code\\python-microscopy\\PYME\\DSView\\modules\\annotation.py:74: wxPyDeprecationWarning: Call to deprecated item. Use SetItem instead.\n",
      "  self.lLabels.SetStringItem(i, 1, 'Structure %d' % i)\n",
      "c:\\users\\laf62\\code\\python-microscopy\\PYME\\DSView\\modules\\annotation.py:76: wxPyDeprecationWarning: Call to deprecated item. Use SetItem instead.\n",
      "  self.lLabels.SetStringItem(0, 1, 'No label')\n",
      "c:\\users\\laf62\\code\\python-microscopy\\PYME\\DSView\\modules\\annotation.py:95: wxPyDeprecationWarning: Call to deprecated item. Use SetToolTip instead.\n",
      "  self.bAddLine.SetToolTipString('Add a curve annotation (ctrl-L / cmd-L)')\n",
      "DEBUG:PYME.LMVis.Extras:Initializing clusterAnalysis plugin\n",
      "WARNING:PYME.DSView.modules:Plugin [clusterAnalysis] injects into parent namespace, could result in circular references\n",
      "DEBUG:PYME.LMVis.Extras:Initializing dockedPanel plugin\n",
      "DEBUG:PYME.LMVis.Extras:Initializing extra_layers plugin\n",
      "DEBUG:PYME.LMVis.Extras:Initializing fiducial plugin\n",
      "DEBUG:PYME.LMVis.Extras:Initializing flagZMotionArtifacts plugin\n",
      "DEBUG:root:Adding menu items for event filters\n",
      "WARNING:PYME.DSView.modules:Plugin [flagZMotionArtifacts] injects into parent namespace, could result in circular references\n",
      "DEBUG:PYME.LMVis.Extras:Initializing fusionUtils plugin\n",
      "DEBUG:PYME.LMVis.Extras:Initializing multiColourAnalysis plugin\n",
      "DEBUG:PYME.LMVis.Extras:Initializing multiviewMapping plugin\n",
      "DEBUG:root:Adding menu items for multi-view manipulation\n",
      "WARNING:PYME.DSView.modules:Plugin [multiviewMapping] injects into parent namespace, could result in circular references\n",
      "DEBUG:PYME.LMVis.Extras:Initializing objectMeasurements plugin\n",
      "DEBUG:PYME.LMVis.Extras:Initializing particleTracking plugin\n",
      "WARNING:PYME.DSView.modules:Plugin [particleTracking] injects into parent namespace, could result in circular references\n",
      "DEBUG:PYME.LMVis.Extras:Initializing perFrameVariable plugin\n",
      "DEBUG:PYME.LMVis.Extras:Initializing photophysics plugin\n",
      "DEBUG:PYME.LMVis.Extras:Initializing pointSetGeneration plugin\n",
      "WARNING:PYME.DSView.modules:Plugin [pointSetGeneration] injects into parent namespace, could result in circular references\n",
      "DEBUG:PYME.LMVis.Extras:Initializing pointwiseColoc plugin\n",
      "DEBUG:PYME.LMVis.Extras:Initializing saved_views plugin\n",
      "DEBUG:PYME.LMVis.Extras:Initializing scaleBox plugin\n",
      "DEBUG:PYME.LMVis.Extras:Initializing sequentialSpecies plugin\n",
      "DEBUG:PYME.LMVis.Extras:Initializing setBGImage plugin\n",
      "DEBUG:PYME.LMVis.Extras:Initializing shiftmapGenerator plugin\n",
      "DEBUG:PYME.LMVis.Extras:Initializing showShortcuts plugin\n",
      "DEBUG:PYME.LMVis.Extras:Initializing snapshot plugin\n",
      "DEBUG:PYME.LMVis.Extras:Initializing spherical_harmonics plugin\n",
      "DEBUG:root:Adding menu items for spherical harmonic (shell) fitting\n",
      "WARNING:PYME.DSView.modules:Plugin [spherical_harmonics] injects into parent namespace, could result in circular references\n",
      "DEBUG:PYME.LMVis.Extras:Initializing subsets plugin\n",
      "DEBUG:PYME.LMVis.Extras:Initializing surface_fitting plugin\n",
      "DEBUG:PYME.LMVis.Extras:Initializing temperaturePlot plugin\n",
      "DEBUG:PYME.LMVis.Extras:Initializing vibration plugin\n"
     ]
    },
    {
     "name": "stdout",
     "output_type": "stream",
     "text": [
      "Saved Views are deprecated -  use the ones with animation instead and remove me!\n",
      "Creating fold panel\n",
      "GenPanels\n",
      "Creating datasource panel\n",
      "Image list size: 1\n"
     ]
    },
    {
     "name": "stderr",
     "output_type": "stream",
     "text": [
      "DEBUG:PYME.recipes.recipe:recipe.execute()\n",
      "DEBUG:PYME.recipes.recipe:Module timings: {}\n"
     ]
    },
    {
     "name": "stdout",
     "output_type": "stream",
     "text": [
      "0\n",
      "OpenGL - Version: b'4.6.0 NVIDIA 516.94'\n",
      "Shader - Version: b'4.60 NVIDIA'\n",
      "GL.GL_MAX_SAMPLES: 32, GL.GL_SAMPLES: 4\n"
     ]
    },
    {
     "name": "stderr",
     "output_type": "stream",
     "text": [
      "DEBUG:PYME.LMVis.shader_programs.ShaderProgramFactory:New shader program created: <class 'PYME.LMVis.shader_programs.DefaultShaderProgram.DefaultShaderProgram'>\n"
     ]
    },
    {
     "name": "stdout",
     "output_type": "stream",
     "text": [
      "Ev Idle\n",
      "('points', 't')\n",
      "refreshed\n",
      "Input datasources:  []\n",
      "Creating layers GUI\n",
      "height:  0\n",
      "NB best size: wx.Size(0, 0)\n"
     ]
    }
   ],
   "source": [
    "pymevis = VisGUI.ipython_pymevisualize()\n",
    "pipeline = pymevis.pipeline"
   ]
  },
  {
   "cell_type": "code",
   "execution_count": 14,
   "id": "06ab8dc6",
   "metadata": {},
   "outputs": [],
   "source": [
    "# Parameters to change\n",
    "savedir = \"E:\\\\4Pi\\\\20220328_mCh-Sec61B-Cy3B-PAINT\\\\Figure_3_V3\\\\Fig3_20230516_update\\\\\"\n",
    "points_fn = \"E:\\\\4Pi\\\\20220328_mCh-Sec61B-Cy3B-PAINT\\\\Cell03_mapped_filtered.hdf\"\n",
    "\n",
    "ver = '_NanoSculpt_V4' #adds version numbers to saved images as to not overwright previous versions\n",
    "\n",
    "#mesh_fn = \"E:\\\\4Pi\\\\20220328_mCh-Sec61B-Cy3B-PAINT\\\\Cell03_shrink-wrap-2.stl\"\n",
    "mesh_fn = \"E:\\\\4Pi\\\\20220328_mCh-Sec61B-Cy3B-PAINT\\\\Figure_3_V3\\\\Cell03_NanoSculpt_V5_1.5e-05.stl\""
   ]
  },
  {
   "cell_type": "code",
   "execution_count": 4,
   "id": "ce57d9f4",
   "metadata": {
    "tags": []
   },
   "outputs": [
    {
     "name": "stdout",
     "output_type": "stream",
     "text": [
      "Creating Pipeline\n"
     ]
    },
    {
     "name": "stderr",
     "output_type": "stream",
     "text": [
      "DEBUG:PYME.recipes.recipe:recipe.execute()\n",
      "DEBUG:PYME.recipes.recipe:Executing <PYME.recipes.localisations.Pipelineify object at 0x00000224F4A7B588>\n",
      "c:\\users\\laf62\\code\\python-microscopy\\PYME\\IO\\MetaDataHandler.py:666: UserWarning: DictMDHandler is not yet fully supported, and will likely cause failures for anything related to localisation fitting\n",
      "  warnings.warn('DictMDHandler is not yet fully supported, and will likely cause failures for anything related to localisation fitting')\n",
      "DEBUG:PYME.recipes.localisations:no events found\n",
      "DEBUG:PYME.recipes.recipe:Executing <PYME.recipes.localisations.ProcessColour object at 0x00000224F4A9FEE8>\n",
      "DEBUG:PYME.recipes.recipe:Executing <PYME.recipes.tablefilters.FilterTable object at 0x00000224F4AAF1C8>\n",
      "DEBUG:PYME.recipes.recipe:Module timings: {'localisations.AddPipelineDerivedVars': 0.0010218620300292969, 'localisations.ProcessColour': 0.0010159015655517578, 'tablefilters.FilterTable': 0.02931690216064453}\n",
      "DEBUG:PYME.LMVis.VisGUI:Creating tabs\n",
      "DEBUG:PYME.LMVis.VisGUI:Finished creating tabs\n"
     ]
    },
    {
     "name": "stdout",
     "output_type": "stream",
     "text": [
      "Pipeline Created\n",
      "0\n",
      "Gui stuff done\n",
      "Input datasources:  ['_Localizations', 'FitResults']\n",
      "vcs:  ['t', 'z']\n",
      "pointcloud.update_from_datasource() - dsname=output\n"
     ]
    },
    {
     "name": "stderr",
     "output_type": "stream",
     "text": [
      "DEBUG:PYME.LMVis.visCore:Added layer, datasouce=output\n",
      "DEBUG:PYME.LMVis.shader_programs.ShaderProgramFactory:New shader program created: <class 'PYME.LMVis.shader_programs.DefaultShaderProgram.OpaquePointShaderProgram'>\n"
     ]
    },
    {
     "name": "stdout",
     "output_type": "stream",
     "text": [
      "Creating layers GUI\n",
      "hl update\n",
      "height:  22\n",
      "NB best size: wx.Size(3, 22)\n"
     ]
    }
   ],
   "source": [
    "# Open the points\n",
    "pymevis.OpenFile(points_fn)"
   ]
  },
  {
   "cell_type": "code",
   "execution_count": 5,
   "id": "703ee546",
   "metadata": {
    "tags": []
   },
   "outputs": [
    {
     "name": "stdout",
     "output_type": "stream",
     "text": [
      "Data munged to vertices, faces\n",
      "initializing halfedges ...\n",
      "vertices.shape = (1805198, 3), faces.shape = (3614302, 3)\n",
      "done initializing halfedges\n",
      "mesh_layer update\n"
     ]
    },
    {
     "name": "stderr",
     "output_type": "stream",
     "text": [
      "DEBUG:PYME.LMVis.shader_programs.ShaderProgramFactory:New shader program created: <class 'PYME.LMVis.shader_programs.GouraudShaderProgram.GouraudShaderProgram'>\n"
     ]
    },
    {
     "name": "stdout",
     "output_type": "stream",
     "text": [
      "Disposing of HistLimitsEditor\n",
      "Creating layers GUI\n",
      "hl update\n",
      "hl update\n",
      "height:  47\n",
      "NB best size: wx.Size(3, 44)\n"
     ]
    }
   ],
   "source": [
    "mesh = membrane_mesh.MembraneMesh.from_stl(mesh_fn)\n",
    "\n",
    "mesh_name = pipeline.new_ds_name('er')\n",
    "pipeline.recipe.namespace[mesh_name] = mesh\n",
    "layer = TriangleRenderLayer(pipeline, dsname=mesh_name, method='shaded', cmap = 'SolidMagenta')\n",
    "pymevis.add_layer(layer)"
   ]
  },
  {
   "cell_type": "code",
   "execution_count": 6,
   "id": "eb79a98b",
   "metadata": {},
   "outputs": [
    {
     "name": "stdout",
     "output_type": "stream",
     "text": [
      "pointcloud.update_from_datasource() - dsname=output\n",
      "hl update\n",
      "mesh_layer update\n"
     ]
    }
   ],
   "source": [
    "# Select DataSource\n",
    "pipeline.selectDataSource('filtered_localizations')"
   ]
  },
  {
   "cell_type": "code",
   "execution_count": 12,
   "id": "382e4270-9882-4820-b0c6-75dd42ecca0a",
   "metadata": {},
   "outputs": [],
   "source": [
    "# Save screenshots of the uncropped dataset\n",
    "\n",
    "# Points in Z\n",
    "pymevis.glCanvas.layers[0].cmap = 'gist_rainbow'\n",
    "pymevis.glCanvas.layers[0].method = 'pointsprites'\n",
    "pymevis.glCanvas.layers[0].point_size = 10\n",
    "pymevis.glCanvas.layers[0].alpha = 0.5\n",
    "pymevis.glCanvas.layers[0].vertexColour = 'z'\n",
    "pymevis.glCanvas.layers[0].clim = [-800,0]\n",
    "pymevis.glCanvas.LUTDraw = True\n",
    "pymevis.glCanvas.layers[0].visible = True\n",
    "pymevis.glCanvas.layers[-1].visible = False\n",
    "pymevis.glCanvas.LUTDraw = False\n",
    "dx, dy, dz = -1600, 0, 0\n",
    "pymevis.glCanvas.view.translation[0] += dx\n",
    "pymevis.glCanvas.view.translation[1] += dy\n",
    "pymevis.glCanvas.view.translation[2] += dz\n",
    "pymevis.glCanvas.Refresh()\n",
    "\n",
    "# Save screenshot\n",
    "from PIL import Image\n",
    "#snap = pymevis.glCanvas.getSnapshot().transpose(1,0,2)\n",
    "#Image.fromarray(snap).transpose(Image.FLIP_TOP_BOTTOM).save(savedir + 'All_points_Z' + ver + '.png')"
   ]
  },
  {
   "cell_type": "code",
   "execution_count": 15,
   "id": "574b3a44-1864-4da3-a4a0-c87663fb60b2",
   "metadata": {},
   "outputs": [
    {
     "name": "stdout",
     "output_type": "stream",
     "text": [
      "Viewport:  (3000, 2731)\n"
     ]
    }
   ],
   "source": [
    "xl, yl, zl, xu, yu, zu = mesh.bbox\n",
    "image_width_nm = 1.2*(xu - xl)\n",
    "image_width_in = 5.0\n",
    "ppi = 300\n",
    "pixel_size = pymevis.glCanvas.view_port_size[0]*pymevis.glCanvas.pixelsize/(5*600)\n",
    "snapshot = pymevis.glCanvas.getIm(pixel_size=pixel_size)\n",
    "Image.fromarray(snapshot).transpose(Image.ROTATE_90).save(savedir + 'All_points_Z' + ver + '.png')"
   ]
  },
  {
   "cell_type": "code",
   "execution_count": 16,
   "id": "f71b3da2",
   "metadata": {},
   "outputs": [
    {
     "name": "stdout",
     "output_type": "stream",
     "text": [
      "Viewport:  (3000, 2731)\n"
     ]
    }
   ],
   "source": [
    "# Surface in Z\n",
    "pymevis.glCanvas.layers[0].visible = False\n",
    "pymevis.glCanvas.layers[-1].visible = True\n",
    "pymevis.glCanvas.layers[-1].cmap = 'gist_rainbow'\n",
    "pymevis.glCanvas.layers[-1].vertexColour = 'z'\n",
    "pymevis.glCanvas.layers[-1].clim = [-800,0]\n",
    "pymevis.glCanvas.Refresh()\n",
    "\n",
    "# Save screenshot\n",
    "from PIL import Image\n",
    "#snap = pymevis.glCanvas.getSnapshot().transpose(1,0,2)\n",
    "snapshot = pymevis.glCanvas.getIm(pixel_size=pixel_size)\n",
    "Image.fromarray(snapshot).transpose(Image.ROTATE_90).save(savedir + 'All_surface_Z' + ver + '.png')"
   ]
  },
  {
   "cell_type": "code",
   "execution_count": 17,
   "id": "7c314aea",
   "metadata": {},
   "outputs": [
    {
     "name": "stdout",
     "output_type": "stream",
     "text": [
      "mesh_layer update\n",
      "mesh_layer update\n",
      "hl update\n",
      "mesh_layer update\n",
      "mesh_layer update\n",
      "hl update\n",
      "Viewport:  (3000, 2731)\n"
     ]
    }
   ],
   "source": [
    "# Surface by curvature\n",
    "pymevis.glCanvas.layers[0].visible = False\n",
    "pymevis.glCanvas.layers[-1].visible = True\n",
    "pymevis.glCanvas.layers[-1].cmap = 'RdBu'\n",
    "pymevis.glCanvas.layers[-1].vertexColour = 'curvature_mean'\n",
    "pymevis.glCanvas.layers[-1].clim = [-0.01,0.01]\n",
    "pymevis.glCanvas.Refresh()\n",
    "\n",
    "# Save screenshot\n",
    "from PIL import Image\n",
    "#snap = pymevis.glCanvas.getSnapshot().transpose(1,0,2)\n",
    "snapshot = pymevis.glCanvas.getIm(pixel_size=pixel_size)\n",
    "Image.fromarray(snapshot).transpose(Image.ROTATE_90).save(savedir + 'All_surface_curvature' + ver + '.png')"
   ]
  },
  {
   "cell_type": "code",
   "execution_count": 18,
   "id": "16919286",
   "metadata": {
    "tags": []
   },
   "outputs": [
    {
     "name": "stdout",
     "output_type": "stream",
     "text": [
      "pointcloud.update_from_datasource() - dsname=output\n",
      "hl update\n",
      "Viewport:  (750, 682)\n"
     ]
    }
   ],
   "source": [
    "# ROI screenshot of points in Z\n",
    "\n",
    "# zoom scale\n",
    "rescale = 4\n",
    "# optionally translate\n",
    "dx, dy, dz = -4800, 0, 0 #-7000\n",
    "pymevis.glCanvas.view.scale *= rescale\n",
    "pymevis.glCanvas.view.translation[0] += dx* (1. - 1. / rescale)\n",
    "pymevis.glCanvas.view.translation[1] += dy* (1. - 1. / rescale)\n",
    "pymevis.glCanvas.view.translation[2] += dz* (1. - 1. / rescale)\n",
    "pymevis.glCanvas.Refresh()\n",
    "\n",
    "# Points in Z\n",
    "pymevis.glCanvas.layers[0].cmap = 'gist_rainbow'\n",
    "pymevis.glCanvas.layers[0].method = 'pointsprites'\n",
    "pymevis.glCanvas.layers[0].point_size = 10\n",
    "pymevis.glCanvas.layers[0].alpha = 0.25\n",
    "pymevis.glCanvas.layers[0].vertexColour = 'z'\n",
    "pymevis.glCanvas.layers[0].clim = [-800,0]\n",
    "pymevis.glCanvas.LUTDraw = True\n",
    "pymevis.glCanvas.layers[0].visible = True\n",
    "pymevis.glCanvas.layers[-1].visible = False\n",
    "pymevis.glCanvas.Refresh()\n",
    "\n",
    "# Save screenshot\n",
    "from PIL import Image\n",
    "#snap = pymevis.glCanvas.getSnapshot().transpose(1,0,2)\n",
    "snapshot = pymevis.glCanvas.getIm(pixel_size=pixel_size)\n",
    "Image.fromarray(snapshot).transpose(Image.ROTATE_90).save(savedir + 'All_points_Z_ROI' + ver + '.png')"
   ]
  },
  {
   "cell_type": "code",
   "execution_count": 19,
   "id": "0e209136",
   "metadata": {},
   "outputs": [
    {
     "name": "stdout",
     "output_type": "stream",
     "text": [
      "mesh_layer update\n",
      "mesh_layer update\n",
      "hl update\n",
      "mesh_layer update\n",
      "mesh_layer update\n",
      "hl update\n",
      "Viewport:  (750, 682)\n"
     ]
    }
   ],
   "source": [
    "# ROI screenshot of surface in Z\n",
    "pymevis.glCanvas.layers[0].visible = False\n",
    "pymevis.glCanvas.layers[-1].visible = True\n",
    "pymevis.glCanvas.layers[-1].cmap = 'gist_rainbow'\n",
    "pymevis.glCanvas.layers[-1].vertexColour = 'z'\n",
    "pymevis.glCanvas.layers[-1].clim = [-800,0]\n",
    "pymevis.glCanvas.Refresh()\n",
    "\n",
    "# Save screenshot\n",
    "from PIL import Image\n",
    "#snap = pymevis.glCanvas.getSnapshot().transpose(1,0,2)\n",
    "snapshot = pymevis.glCanvas.getIm(pixel_size=pixel_size)\n",
    "Image.fromarray(snapshot).transpose(Image.ROTATE_90).save(savedir + 'All_surface_Z_ROI' + ver + '.png')"
   ]
  },
  {
   "cell_type": "code",
   "execution_count": 20,
   "id": "26d22bab",
   "metadata": {},
   "outputs": [
    {
     "name": "stdout",
     "output_type": "stream",
     "text": [
      "mesh_layer update\n",
      "mesh_layer update\n",
      "hl update\n",
      "mesh_layer update\n",
      "mesh_layer update\n",
      "hl update\n",
      "Viewport:  (750, 682)\n"
     ]
    }
   ],
   "source": [
    "# ROI screenshot of surface by curvature\n",
    "pymevis.glCanvas.layers[0].visible = False\n",
    "pymevis.glCanvas.layers[-1].visible = True\n",
    "pymevis.glCanvas.layers[-1].cmap = 'RdBu'\n",
    "pymevis.glCanvas.layers[-1].vertexColour = 'curvature_mean'\n",
    "pymevis.glCanvas.layers[-1].clim = [-0.01,0.01]\n",
    "pymevis.glCanvas.Refresh()\n",
    "\n",
    "# Save screenshot\n",
    "from PIL import Image\n",
    "#snap = pymevis.glCanvas.getSnapshot().transpose(1,0,2)\n",
    "snapshot = pymevis.glCanvas.getIm(pixel_size=pixel_size)\n",
    "Image.fromarray(snapshot).transpose(Image.ROTATE_90).save(savedir + 'All_surface_curvature_ROI' + ver + '.png')"
   ]
  },
  {
   "cell_type": "code",
   "execution_count": 21,
   "id": "bba9b590",
   "metadata": {},
   "outputs": [],
   "source": [
    "# Reset GUI view\n",
    "pymevis.glCanvas.view.scale *= 1/rescale\n",
    "pymevis.glCanvas.view.translation[0] += -dx* (1. - 1. / rescale)\n",
    "pymevis.glCanvas.view.translation[1] += -dy* (1. - 1. / rescale) #6750\n",
    "pymevis.glCanvas.view.translation[2] += -dz/ (1. - 1. / rescale)\n",
    "pymevis.glCanvas.Refresh()\n",
    "del dx, dy, dz"
   ]
  },
  {
   "cell_type": "code",
   "execution_count": 22,
   "id": "25cb158f",
   "metadata": {
    "scrolled": true
   },
   "outputs": [
    {
     "name": "stdout",
     "output_type": "stream",
     "text": [
      "pointcloud.update_from_datasource() - dsname=output\n",
      "hl update\n",
      "mesh_layer update\n",
      "pointcloud.update_from_datasource() - dsname=output\n",
      "hl update\n",
      "pointcloud.update_from_datasource() - dsname=output\n",
      "hl update\n"
     ]
    },
    {
     "name": "stderr",
     "output_type": "stream",
     "text": [
      "DEBUG:PYME.LMVis.shader_programs.ShaderProgramFactory:New shader program created: <class 'PYME.LMVis.shader_programs.GouraudShaderProgram.GouraudSphereShaderProgram'>\n"
     ]
    },
    {
     "name": "stdout",
     "output_type": "stream",
     "text": [
      "pointcloud.update_from_datasource() - dsname=output\n",
      "hl update\n",
      "pointcloud.update_from_datasource() - dsname=output\n",
      "hl update\n",
      "pointcloud.update_from_datasource() - dsname=output\n",
      "hl update\n"
     ]
    }
   ],
   "source": [
    "# Cross-section images\n",
    "# optionally zoom\n",
    "rescale = 10\n",
    "# optionally translate\n",
    "dx, dy, dz = -5400, 3906, -1200\n",
    "# dx, dy, dz = 0, -9600, 0\n",
    "# dx, dy, dz = 0, 2000, 0\n",
    "pymevis.glCanvas.view.scale *= rescale\n",
    "pymevis.glCanvas.view.translation[0] += dx* (1. - 1. / rescale)\n",
    "pymevis.glCanvas.view.translation[1] += dy* (1. - 1. / rescale)\n",
    "pymevis.glCanvas.view.translation[2] += dz* (1. - 1. / rescale)\n",
    "\n",
    "\n",
    "# change layer properties to show mesh and points\n",
    "pymevis.glCanvas.layers[0].cmap = 'SolidGreen'\n",
    "pymevis.glCanvas.layers[1].cmap = 'SolidMagenta'\n",
    "# pymevis.glCanvas.layers[0].method = 'spheres'\n",
    "pymevis.glCanvas.layers[0].method = 'spheres'\n",
    "pymevis.glCanvas.layers[0].point_size = 20\n",
    "pymevis.glCanvas.layers[0].alpha = 0.05\n",
    "pymevis.glCanvas.LUTDraw = False\n",
    "pymevis.glCanvas.layers[0].visible = True\n",
    "pymevis.glCanvas.layers[-1].visible = True\n",
    "pymevis.glCanvas.Refresh()\n",
    "# pymevis.glCanvas.layers[0].update()"
   ]
  },
  {
   "cell_type": "code",
   "execution_count": null,
   "id": "a99f17a3-0eb6-4cc1-b80b-9a837620c384",
   "metadata": {},
   "outputs": [],
   "source": [
    "#uncrop,unscale,untranslate - you have manually reset to xy view though\n",
    "pymevis.glCanvas.view.scale *= 1/rescale\n",
    "pymevis.glCanvas.view.translation[0] += -dx* (1. - 1. / rescale)\n",
    "pymevis.glCanvas.view.translation[1] += -dy* (1. - 1. / rescale)\n",
    "#pymevis.glCanvas.view.translation[2] += -dz* (1. - 1. / rescale)\n",
    "dummy_clipping['y'][0][0] = np.min(pipeline['y']) # lower limit\n",
    "dummy_clipping['y'][0][1] = np.max(pipeline['y']) # upper limit\n",
    "pymevis.glCanvas.Refresh()"
   ]
  },
  {
   "cell_type": "code",
   "execution_count": null,
   "id": "2a1864d7-870b-4cc4-ac1c-56c00d3cbacc",
   "metadata": {},
   "outputs": [],
   "source": [
    "pymevis.glCanvas.view.scale *= rescale\n",
    "pymevis.glCanvas.Refresh()"
   ]
  },
  {
   "cell_type": "code",
   "execution_count": null,
   "id": "1e8963f3",
   "metadata": {},
   "outputs": [],
   "source": [
    "# Clip y to central region to show tubule cutaway\n",
    "# clipping_dtype = [('x', '<f4', (2,)), ('y', '<f4', (2,)), ('z', '<f4', (2,)), ('v', '<f4', (2,))]\n",
    "# dummy_clipping = np.array([-1e6, 1e6, -1e6, 1e6, -1e6, 1e6, -1e6, 1e6], 'f4').view(clipping_dtype)\n",
    "# y_center = (pymevis.glCanvas.bounds['y'][0][1]+pymevis.glCanvas.bounds['y'][0][0])/2-dy\n",
    "dummy_clipping = pymevis.glCanvas.view.clipping\n",
    "# y_center = (dummy_clipping['y'][0][0] + dummy_clipping['y'][0][1])/2 + dy* (1. - 1. / rescale)\n",
    "y_center = (np.min(pipeline['y'])+np.max(pipeline['y']))/2+dy*(1. - 1. / rescale)\n",
    "dummy_clipping['y'][0][0] = y_center-30.0 # lower limit\n",
    "dummy_clipping['y'][0][1] = y_center+30.0 # upper limit\n",
    "#How to zoom and crop to the ROI on the right?\n",
    "pymevis.glCanvas.view.clipping = dummy_clipping\n",
    "pymevis.glCanvas.layers[0].visible = True\n",
    "pymevis.glCanvas.layers[0].method = 'spheres'\n",
    "pymevis.glCanvas.layers[0].point_size = 10\n",
    "pymevis.glCanvas.Refresh()"
   ]
  },
  {
   "cell_type": "code",
   "execution_count": null,
   "id": "24f84685",
   "metadata": {},
   "outputs": [],
   "source": [
    "# switch to front view\n",
    "def view_front(glCanvas):\n",
    "    glCanvas.view.vec_up=np.array([0,0,-1])\n",
    "    glCanvas.view.vec_back = np.array([0,-1,0])\n",
    "    glCanvas.view.vec_right = np.array([1,0,0])\n",
    "    glCanvas.displayMode = '3D'\n",
    "    glCanvas.Refresh()\n",
    "\n",
    "view_front(pymevis.glCanvas)"
   ]
  },
  {
   "cell_type": "code",
   "execution_count": 23,
   "id": "2e2f3876",
   "metadata": {},
   "outputs": [
    {
     "name": "stdout",
     "output_type": "stream",
     "text": [
      "Viewport:  (3000, 2731)\n"
     ]
    }
   ],
   "source": [
    "# take a snapshot\n",
    "pymevis.glCanvas.layers[0].visible = True\n",
    "pymevis.glCanvas.layers[-1].visible = False\n",
    "pymevis.glCanvas.Refresh()\n",
    "from PIL import Image\n",
    "#snap = pymevis.glCanvas.getSnapshot().transpose(1,0,2)\n",
    "pixel_size = pymevis.glCanvas.view_port_size[0]*pymevis.glCanvas.pixelsize/(5*600)\n",
    "snapshot = pymevis.glCanvas.getIm(pixel_size=pixel_size)\n",
    "Image.fromarray(snapshot).transpose(Image.ROTATE_90).save(savedir + 'Fig3_sideview_points' + ver + '.png')"
   ]
  },
  {
   "cell_type": "code",
   "execution_count": 24,
   "id": "4a99e2e8",
   "metadata": {},
   "outputs": [
    {
     "name": "stdout",
     "output_type": "stream",
     "text": [
      "Viewport:  (3000, 2731)\n"
     ]
    }
   ],
   "source": [
    "# take a snapshot\n",
    "pymevis.glCanvas.layers[0].visible = False\n",
    "pymevis.glCanvas.layers[-1].visible = True\n",
    "# pymevis.glCanvas.view.translation[2] += -dz* (1. - 1. / rescale)\n",
    "pymevis.glCanvas.Refresh()\n",
    "from PIL import Image\n",
    "#snap = pymevis.glCanvas.getSnapshot().transpose(1,0,2)\n",
    "snapshot = pymevis.glCanvas.getIm(pixel_size=pixel_size)\n",
    "Image.fromarray(snapshot).transpose(Image.ROTATE_90).save(savedir + 'Fig3_sideview_surface' + ver + '.png')"
   ]
  },
  {
   "cell_type": "code",
   "execution_count": 25,
   "id": "55965e0c",
   "metadata": {},
   "outputs": [
    {
     "name": "stdout",
     "output_type": "stream",
     "text": [
      "Viewport:  (3000, 2731)\n"
     ]
    }
   ],
   "source": [
    "# take a snapshot\n",
    "pymevis.glCanvas.layers[0].visible = True\n",
    "pymevis.glCanvas.layers[-1].visible = True\n",
    "pymevis.glCanvas.Refresh()\n",
    "from PIL import Image\n",
    "#snap = pymevis.glCanvas.getSnapshot().transpose(1,0,2)\n",
    "snapshot = pymevis.glCanvas.getIm(pixel_size=pixel_size)\n",
    "Image.fromarray(snapshot).transpose(Image.ROTATE_90).save(savedir + 'Fig3_sideview_both' + ver + '.png')"
   ]
  },
  {
   "cell_type": "code",
   "execution_count": 26,
   "id": "cc981bd4",
   "metadata": {},
   "outputs": [],
   "source": [
    "# now display the snapshots on top of each over - whole dataset\n",
    "points_z_img = Image.open(savedir + 'All_points_Z' + ver + '.png')\n",
    "mesh_z_img = Image.open(savedir + 'All_surface_Z' + ver + '.png')\n",
    "mesh_curv_img = Image.open(savedir + 'All_surface_curvature' + ver + '.png')\n",
    "img_x, img_y = points_z_img.size\n",
    "img_y_third = int(img_y/3)\n",
    "\n",
    "import matplotlib.pyplot as plt\n",
    "\n",
    "z_center = int(pymevis.glCanvas.view_port_size[0]//2)\n",
    "z_size = int((np.max(pymevis.pipeline['z'])-np.min(pymevis.pipeline['z']))//2//5)\n",
    "fig, axs = plt.subplots(3,1, figsize=(8,8))\n",
    "axs[0].imshow(points_z_img.crop((400,0,img_x,img_y_third)))\n",
    "axs[1].imshow(mesh_z_img.crop((400,img_y_third,img_x,2*img_y_third)))\n",
    "axs[2].imshow(mesh_curv_img.crop((400,2*img_y_third,img_x,3*img_y_third)))\n",
    "# axs[1,0].imshow(front_img_points.crop((0, z_center-z_size, pymevis.glCanvas.view_port_size[1], z_center+z_size)))\n",
    "\n",
    "\n",
    "axs[0].set_axis_off()\n",
    "axs[1].set_axis_off()\n",
    "axs[2].set_axis_off()\n",
    "# plt.axis('equal')\n",
    "\n",
    "plt.subplots_adjust(wspace=None, hspace=-0.17)\n",
    "# for 1 pixel gap use hspace=-0.16; for no gap use hspace=-0.17\n",
    "\n",
    "fig.tight_layout()\n",
    "fig.savefig(savedir + 'Fig3' + ver + '.png', dpi=600)"
   ]
  },
  {
   "cell_type": "code",
   "execution_count": 27,
   "id": "e0c0c820",
   "metadata": {},
   "outputs": [],
   "source": [
    "# now display the snapshots on top of each over - ROIs\n",
    "points_z_roi = Image.open(savedir + 'All_points_Z_ROI' + ver + '.png')\n",
    "mesh_z_roi = Image.open(savedir + 'All_surface_Z_ROI' + ver + '.png')\n",
    "mesh_curv_roi = Image.open(savedir + 'All_surface_curvature_ROI' + ver + '.png')\n",
    "img_x, img_y = points_z_img.size\n",
    "img_y_third = int(img_y/3)\n",
    "\n",
    "import matplotlib.pyplot as plt\n",
    "\n",
    "z_center = int(pymevis.glCanvas.view_port_size[0]//2)\n",
    "z_size = int((np.max(pymevis.pipeline['z'])-np.min(pymevis.pipeline['z']))//2//5)\n",
    "fig, axs = plt.subplots(3,1, figsize=(8,8))\n",
    "axs[0].imshow(points_z_roi)\n",
    "axs[1].imshow(mesh_z_roi)\n",
    "axs[2].imshow(mesh_curv_roi)\n",
    "# axs[1,0].imshow(front_img_points.crop((0, z_center-z_size, pymevis.glCanvas.view_port_size[1], z_center+z_size)))\n",
    "\n",
    "\n",
    "axs[0].set_axis_off()\n",
    "axs[1].set_axis_off()\n",
    "axs[2].set_axis_off()\n",
    "# plt.axis('equal')\n",
    "\n",
    "plt.subplots_adjust(wspace=None, hspace=-0.965)\n",
    "# for 1 pixel gap use hspace=-0.16; for no gap use hspace=-0.17\n",
    "\n",
    "fig.tight_layout()\n",
    "fig.savefig(savedir + 'Fig3_ROIs' + ver + '.png', dpi=600)"
   ]
  },
  {
   "cell_type": "code",
   "execution_count": null,
   "id": "2bd97925-d974-4e78-b193-4e4b62bffd42",
   "metadata": {},
   "outputs": [],
   "source": [
    "np.size(points_side)"
   ]
  },
  {
   "cell_type": "code",
   "execution_count": 40,
   "id": "67735602",
   "metadata": {},
   "outputs": [],
   "source": [
    "# now display the snapshots on top of each over - Cross-sections only\n",
    "points_side = Image.open(savedir + 'Fig3_sideview_points' + ver + '.png')\n",
    "mesh_side = Image.open(savedir + 'Fig3_sideview_surface' + ver + '.png')\n",
    "both_side = Image.open(savedir + 'Fig3_sideview_both' + ver + '.png')\n",
    "img_x, img_y = both_side.size\n",
    "# img_y_third = int(img_y/3)\n",
    "\n",
    "import matplotlib.pyplot as plt\n",
    "\n",
    "z_center = int(pymevis.glCanvas.view_port_size[0]//2)\n",
    "z_size = int((np.max(pymevis.pipeline['z'])-np.min(pymevis.pipeline['z']))//2//5)\n",
    "fig, axs = plt.subplots(3,1, figsize=(4,2))\n",
    "#axs[0].imshow(points_z_img.crop((80,0,img_x-70,img_y_third)))\n",
    "ys = 360\n",
    "h = 139\n",
    "axs[0].imshow(points_side.crop((0,0,img_x,img_y/6)))\n",
    "axs[1].imshow(mesh_side.crop((0,0,img_x,img_y/6)))\n",
    "axs[2].imshow(both_side.crop((0,0,img_x,img_y/6)))\n",
    "# axs[1,0].imshow(front_img_points.crop((0, z_center-z_size, pymevis.glCanvas.view_port_size[1], z_center+z_size)))\n",
    "\n",
    "\n",
    "axs[0].set_axis_off()\n",
    "axs[1].set_axis_off()\n",
    "axs[2].set_axis_off()\n",
    "# plt.axis('equal')\n",
    "\n",
    "plt.subplots_adjust(wspace=None, hspace=-0.26)\n",
    "# for 1 pixel gap use hspace=-0.16; for no gap use hspace=-0.17\n",
    "\n",
    "fig.tight_layout()\n",
    "fig.savefig(savedir + 'Fig3_cross_sections' + ver + '.png', dpi=600)"
   ]
  },
  {
   "cell_type": "code",
   "execution_count": null,
   "id": "2c233a49",
   "metadata": {},
   "outputs": [],
   "source": [
    "#uncrop,unscale,untranslate - you have manually reset to xy view though\n",
    "pymevis.glCanvas.view.scale *= 1/rescale\n",
    "pymevis.glCanvas.view.translation[0] += -dx* (1. - 1. / rescale)\n",
    "pymevis.glCanvas.view.translation[1] += -dy* (1. - 1. / rescale)\n",
    "#pymevis.glCanvas.view.translation[2] += -dz* (1. - 1. / rescale)\n",
    "dummy_clipping['y'][0][0] = np.min(pipeline['y']) # lower limit\n",
    "dummy_clipping['y'][0][1] = np.max(pipeline['y']) # upper limit\n",
    "pymevis.glCanvas.Refresh()"
   ]
  },
  {
   "cell_type": "code",
   "execution_count": null,
   "id": "5cb82121-d899-411b-b2a8-9eacc54ab37e",
   "metadata": {},
   "outputs": [],
   "source": []
  }
 ],
 "metadata": {
  "kernelspec": {
   "display_name": "pyme",
   "language": "python",
   "name": "pyme"
  },
  "language_info": {
   "codemirror_mode": {
    "name": "ipython",
    "version": 3
   },
   "file_extension": ".py",
   "mimetype": "text/x-python",
   "name": "python",
   "nbconvert_exporter": "python",
   "pygments_lexer": "ipython3",
   "version": "3.7.9"
  }
 },
 "nbformat": 4,
 "nbformat_minor": 5
}
