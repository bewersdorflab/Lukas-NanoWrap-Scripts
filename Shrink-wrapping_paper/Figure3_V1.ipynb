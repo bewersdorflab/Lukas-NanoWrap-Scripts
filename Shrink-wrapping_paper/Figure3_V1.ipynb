{
 "cells": [
  {
   "cell_type": "code",
   "execution_count": 1,
   "id": "bd1b5b6f",
   "metadata": {
    "jupyter": {
     "outputs_hidden": true
    },
    "tags": []
   },
   "outputs": [
    {
     "name": "stderr",
     "output_type": "stream",
     "text": [
      "ERROR:PYME.recipes.modules:Error loading plugin: nep_fitting.recipe_modules.nep_fits\n",
      "Traceback (most recent call last):\n",
      "  File \"c:\\users\\laf62\\code\\python-microscopy\\PYME\\recipes\\modules.py\", line 42, in <module>\n",
      "    m = __import__(mn, fromlist=mn.split('.')[:-1])\n",
      "  File \"C:\\Users\\laf62\\.conda\\envs\\pyme\\lib\\site-packages\\nep_fitting-1.9-py3.7.egg\\nep_fitting\\recipe_modules\\nep_fits.py\", line 9, in <module>\n",
      "    from nep_fitting.core.handlers import LineProfileHandler, RegionHandler\n",
      "  File \"C:\\Users\\laf62\\.conda\\envs\\pyme\\lib\\site-packages\\nep_fitting-1.9-py3.7.egg\\nep_fitting\\core\\handlers.py\", line 6, in <module>\n",
      "    import dispatch\n",
      "ModuleNotFoundError: No module named 'dispatch'\n"
     ]
    },
    {
     "name": "stdout",
     "output_type": "stream",
     "text": [
      "Trying to load 3rd party recipe module cc_drift_cor.plugins.recipes.chung_cc\n",
      "Loaded 3rd party recipe module cc_drift_cor.plugins.recipes.chung_cc\n",
      "Trying to load 3rd party recipe module ch_shrinkwrap.recipe_modules.surface_fitting\n",
      "Loaded 3rd party recipe module ch_shrinkwrap.recipe_modules.surface_fitting\n",
      "Trying to load 3rd party recipe module cc_drift_cor.plugins.recipes.processing\n",
      "Loaded 3rd party recipe module cc_drift_cor.plugins.recipes.processing\n",
      "Trying to load 3rd party recipe module ch_shrinkwrap.recipe_modules.surface_feature_extraction\n",
      "Loaded 3rd party recipe module ch_shrinkwrap.recipe_modules.surface_feature_extraction\n",
      "Trying to load 3rd party recipe module pyme_picasso.recipe_modules.conversion\n",
      "Loaded 3rd party recipe module pyme_picasso.recipe_modules.conversion\n",
      "Trying to load 3rd party recipe module pyme_4pi.recipe_modules.conversion\n",
      "Loaded 3rd party recipe module pyme_4pi.recipe_modules.conversion\n",
      "Trying to load 3rd party recipe module cc_drift_cor.plugins.recipes.localisations\n",
      "Loaded 3rd party recipe module cc_drift_cor.plugins.recipes.localisations\n",
      "Trying to load 3rd party recipe module nep_fitting.recipe_modules.nep_fits\n",
      "Trying to load 3rd party recipe module cc_drift_cor.plugins.recipes.io\n",
      "Loaded 3rd party recipe module cc_drift_cor.plugins.recipes.io\n",
      "Detected a .git folder, assuming a development install\n",
      "quaternion module not found, disabling custom clip plane orientations\n"
     ]
    }
   ],
   "source": [
    "from PYME.LMVis import VisGUI\n",
    "\n",
    "from PYME.IO import tabular\n",
    "import numpy as np\n",
    "\n",
    "from ch_shrinkwrap import _membrane_mesh as membrane_mesh\n",
    "from PYME.LMVis.layers.mesh import TriangleRenderLayer\n",
    "\n",
    "%gui wx"
   ]
  },
  {
   "cell_type": "code",
   "execution_count": 2,
   "id": "21624b1c",
   "metadata": {
    "scrolled": true
   },
   "outputs": [
    {
     "name": "stdout",
     "output_type": "stream",
     "text": [
      "quaternion module not found, disabling custom clip plane orientations\n",
      "New Canvas\n"
     ]
    },
    {
     "name": "stderr",
     "output_type": "stream",
     "text": [
      "DEBUG:PYME.LMVis.visCore:Creating VisGUI menu bar\n",
      "DEBUG:PYME.LMVis.Extras:Initializing QPobjectSegment plugin\n",
      "DEBUG:PYME.LMVis.Extras:Initializing animation plugin\n",
      "DEBUG:PYME.LMVis.Extras:Initializing clusterAnalysis plugin\n",
      "DEBUG:PYME.LMVis.Extras:Initializing dockedPanel plugin\n",
      "DEBUG:PYME.LMVis.Extras:Initializing extra_layers plugin\n",
      "DEBUG:PYME.LMVis.Extras:Initializing fiducial plugin\n",
      "DEBUG:PYME.LMVis.Extras:Initializing flagZMotionArtifacts plugin\n",
      "DEBUG:root:Adding menu items for event filters\n",
      "DEBUG:PYME.LMVis.Extras:Initializing fusionUtils plugin\n",
      "DEBUG:PYME.LMVis.Extras:Initializing multiColourAnalysis plugin\n",
      "DEBUG:PYME.LMVis.Extras:Initializing multiviewMapping plugin\n",
      "DEBUG:root:Adding menu items for multi-view manipulation\n",
      "DEBUG:PYME.LMVis.Extras:Initializing objectMeasurements plugin\n",
      "DEBUG:PYME.LMVis.Extras:Initializing particleTracking plugin\n",
      "DEBUG:PYME.LMVis.Extras:Initializing perFrameVariable plugin\n",
      "DEBUG:PYME.LMVis.Extras:Initializing photophysics plugin\n",
      "DEBUG:PYME.LMVis.Extras:Initializing pointSetGeneration plugin\n",
      "DEBUG:PYME.LMVis.Extras:Initializing pointwiseColoc plugin\n",
      "DEBUG:PYME.LMVis.Extras:Initializing saved_views plugin\n",
      "DEBUG:PYME.LMVis.Extras:Initializing scaleBox plugin\n",
      "DEBUG:PYME.LMVis.Extras:Initializing sequentialSpecies plugin\n",
      "DEBUG:PYME.LMVis.Extras:Initializing setBGImage plugin\n",
      "DEBUG:PYME.LMVis.Extras:Initializing shiftmapGenerator plugin\n",
      "DEBUG:PYME.LMVis.Extras:Initializing showShortcuts plugin\n",
      "DEBUG:PYME.LMVis.Extras:Initializing snapshot plugin\n",
      "DEBUG:PYME.LMVis.Extras:Initializing spherical_harmonics plugin\n",
      "DEBUG:root:Adding menu items for spherical harmonic (shell) fitting\n",
      "DEBUG:PYME.LMVis.Extras:Initializing subsets plugin\n",
      "DEBUG:PYME.LMVis.Extras:Initializing surface_fitting plugin\n",
      "DEBUG:PYME.LMVis.Extras:Initializing temperaturePlot plugin\n",
      "DEBUG:PYME.LMVis.Extras:Initializing vibration plugin\n"
     ]
    },
    {
     "name": "stdout",
     "output_type": "stream",
     "text": [
      "Saved Views are deprecated -  use the ones with animation instead and remove me!\n",
      "Creating fold panel\n",
      "GenPanels\n",
      "Creating datasource panel\n",
      "RecipeView._layout\n",
      "Input datasources:  []\n",
      "Image list size: 1\n",
      "Creating layers GUI\n",
      "height:  0\n",
      "NB best size: wx.Size(200, 0)\n",
      "RecipeView._layout\n"
     ]
    },
    {
     "ename": "RuntimeError",
     "evalue": "wrapped C/C++ object of type foldPanel has been deleted",
     "output_type": "error",
     "traceback": [
      "\u001b[1;31m---------------------------------------------------------------------------\u001b[0m",
      "\u001b[1;31mRuntimeError\u001b[0m                              Traceback (most recent call last)",
      "\u001b[1;32mc:\\users\\laf62\\code\\python-microscopy\\PYME\\ui\\manualFoldPanel.py\u001b[0m in \u001b[0;36mOnResize\u001b[1;34m(self, event)\u001b[0m\n\u001b[0;32m    760\u001b[0m \u001b[1;33m\u001b[0m\u001b[0m\n\u001b[0;32m    761\u001b[0m     \u001b[1;32mdef\u001b[0m \u001b[0mOnResize\u001b[0m\u001b[1;33m(\u001b[0m\u001b[0mself\u001b[0m\u001b[1;33m,\u001b[0m \u001b[0mevent\u001b[0m\u001b[1;33m)\u001b[0m\u001b[1;33m:\u001b[0m\u001b[1;33m\u001b[0m\u001b[1;33m\u001b[0m\u001b[0m\n\u001b[1;32m--> 762\u001b[1;33m         \u001b[1;32mif\u001b[0m \u001b[1;33m(\u001b[0m\u001b[1;32mnot\u001b[0m \u001b[0mself\u001b[0m\u001b[1;33m.\u001b[0m\u001b[0m_in_fold1\u001b[0m\u001b[1;33m)\u001b[0m \u001b[1;32mand\u001b[0m \u001b[0mself\u001b[0m\u001b[1;33m.\u001b[0m\u001b[0mIsShownOnScreen\u001b[0m\u001b[1;33m(\u001b[0m\u001b[1;33m)\u001b[0m\u001b[1;33m:\u001b[0m\u001b[1;33m\u001b[0m\u001b[1;33m\u001b[0m\u001b[0m\n\u001b[0m\u001b[0;32m    763\u001b[0m             \u001b[0mself\u001b[0m\u001b[1;33m.\u001b[0m\u001b[0mfold1\u001b[0m\u001b[1;33m(\u001b[0m\u001b[1;33m)\u001b[0m\u001b[1;33m\u001b[0m\u001b[1;33m\u001b[0m\u001b[0m\n\u001b[0;32m    764\u001b[0m \u001b[1;33m\u001b[0m\u001b[0m\n",
      "\u001b[1;31mRuntimeError\u001b[0m: wrapped C/C++ object of type foldPanel has been deleted"
     ]
    },
    {
     "name": "stdout",
     "output_type": "stream",
     "text": [
      "Input datasources:  []\n",
      "recipe.execute()\n",
      "RecipeView._layout\n"
     ]
    },
    {
     "ename": "RuntimeError",
     "evalue": "wrapped C/C++ object of type foldPanel has been deleted",
     "output_type": "error",
     "traceback": [
      "\u001b[1;31m---------------------------------------------------------------------------\u001b[0m",
      "\u001b[1;31mRuntimeError\u001b[0m                              Traceback (most recent call last)",
      "\u001b[1;32mc:\\users\\laf62\\code\\python-microscopy\\PYME\\ui\\manualFoldPanel.py\u001b[0m in \u001b[0;36mOnResize\u001b[1;34m(self, event)\u001b[0m\n\u001b[0;32m    760\u001b[0m \u001b[1;33m\u001b[0m\u001b[0m\n\u001b[0;32m    761\u001b[0m     \u001b[1;32mdef\u001b[0m \u001b[0mOnResize\u001b[0m\u001b[1;33m(\u001b[0m\u001b[0mself\u001b[0m\u001b[1;33m,\u001b[0m \u001b[0mevent\u001b[0m\u001b[1;33m)\u001b[0m\u001b[1;33m:\u001b[0m\u001b[1;33m\u001b[0m\u001b[1;33m\u001b[0m\u001b[0m\n\u001b[1;32m--> 762\u001b[1;33m         \u001b[1;32mif\u001b[0m \u001b[1;33m(\u001b[0m\u001b[1;32mnot\u001b[0m \u001b[0mself\u001b[0m\u001b[1;33m.\u001b[0m\u001b[0m_in_fold1\u001b[0m\u001b[1;33m)\u001b[0m \u001b[1;32mand\u001b[0m \u001b[0mself\u001b[0m\u001b[1;33m.\u001b[0m\u001b[0mIsShownOnScreen\u001b[0m\u001b[1;33m(\u001b[0m\u001b[1;33m)\u001b[0m\u001b[1;33m:\u001b[0m\u001b[1;33m\u001b[0m\u001b[1;33m\u001b[0m\u001b[0m\n\u001b[0m\u001b[0;32m    763\u001b[0m             \u001b[0mself\u001b[0m\u001b[1;33m.\u001b[0m\u001b[0mfold1\u001b[0m\u001b[1;33m(\u001b[0m\u001b[1;33m)\u001b[0m\u001b[1;33m\u001b[0m\u001b[1;33m\u001b[0m\u001b[0m\n\u001b[0;32m    764\u001b[0m \u001b[1;33m\u001b[0m\u001b[0m\n",
      "\u001b[1;31mRuntimeError\u001b[0m: wrapped C/C++ object of type foldPanel has been deleted"
     ]
    },
    {
     "name": "stdout",
     "output_type": "stream",
     "text": [
      "Input datasources:  []\n",
      "0\n",
      "OpenGL - Version: b'4.6.0 NVIDIA 456.71'\n",
      "Shader - Version: b'4.60 NVIDIA'\n",
      "GL.GL_MAX_SAMPLES: 32, GL.GL_SAMPLES: 4\n"
     ]
    },
    {
     "name": "stderr",
     "output_type": "stream",
     "text": [
      "DEBUG:PYME.LMVis.shader_programs.ShaderProgramFactory:New shader program created: <class 'PYME.LMVis.shader_programs.DefaultShaderProgram.DefaultShaderProgram'>\n"
     ]
    },
    {
     "name": "stdout",
     "output_type": "stream",
     "text": [
      "Ev Idle\n",
      "('points', 't')\n",
      "refreshed\n"
     ]
    }
   ],
   "source": [
    "pymevis = VisGUI.ipython_pymevisualize()\n",
    "pipeline = pymevis.pipeline"
   ]
  },
  {
   "cell_type": "code",
   "execution_count": 3,
   "id": "beb4f5da",
   "metadata": {},
   "outputs": [],
   "source": [
    "points_fn = \"E:\\\\4Pi\\\\20220328_mCh-Sec61B-Cy3B-PAINT\\\\Cell03_mapped_filtered.hdf\"\n",
    "\n",
    "er_chan = 'chan1'\n",
    "rtn4_chan = 'chan0'\n",
    "\n",
    "mesh_fn = \"E:\\\\4Pi\\\\20220328_mCh-Sec61B-Cy3B-PAINT\\\\Cell03_shrink-wrap-2.stl\""
   ]
  },
  {
   "cell_type": "code",
   "execution_count": 4,
   "id": "7d5b1c2d",
   "metadata": {
    "jupyter": {
     "outputs_hidden": true
    },
    "tags": []
   },
   "outputs": [
    {
     "name": "stdout",
     "output_type": "stream",
     "text": [
      "Creating Pipeline\n",
      "RecipeView._layout\n"
     ]
    },
    {
     "ename": "RuntimeError",
     "evalue": "wrapped C/C++ object of type foldPanel has been deleted",
     "output_type": "error",
     "traceback": [
      "\u001b[1;31m---------------------------------------------------------------------------\u001b[0m",
      "\u001b[1;31mRuntimeError\u001b[0m                              Traceback (most recent call last)",
      "\u001b[1;32mc:\\users\\laf62\\code\\python-microscopy\\PYME\\ui\\manualFoldPanel.py\u001b[0m in \u001b[0;36mOnResize\u001b[1;34m(self, event)\u001b[0m\n\u001b[0;32m    760\u001b[0m \u001b[1;33m\u001b[0m\u001b[0m\n\u001b[0;32m    761\u001b[0m     \u001b[1;32mdef\u001b[0m \u001b[0mOnResize\u001b[0m\u001b[1;33m(\u001b[0m\u001b[0mself\u001b[0m\u001b[1;33m,\u001b[0m \u001b[0mevent\u001b[0m\u001b[1;33m)\u001b[0m\u001b[1;33m:\u001b[0m\u001b[1;33m\u001b[0m\u001b[1;33m\u001b[0m\u001b[0m\n\u001b[1;32m--> 762\u001b[1;33m         \u001b[1;32mif\u001b[0m \u001b[1;33m(\u001b[0m\u001b[1;32mnot\u001b[0m \u001b[0mself\u001b[0m\u001b[1;33m.\u001b[0m\u001b[0m_in_fold1\u001b[0m\u001b[1;33m)\u001b[0m \u001b[1;32mand\u001b[0m \u001b[0mself\u001b[0m\u001b[1;33m.\u001b[0m\u001b[0mIsShownOnScreen\u001b[0m\u001b[1;33m(\u001b[0m\u001b[1;33m)\u001b[0m\u001b[1;33m:\u001b[0m\u001b[1;33m\u001b[0m\u001b[1;33m\u001b[0m\u001b[0m\n\u001b[0m\u001b[0;32m    763\u001b[0m             \u001b[0mself\u001b[0m\u001b[1;33m.\u001b[0m\u001b[0mfold1\u001b[0m\u001b[1;33m(\u001b[0m\u001b[1;33m)\u001b[0m\u001b[1;33m\u001b[0m\u001b[1;33m\u001b[0m\u001b[0m\n\u001b[0;32m    764\u001b[0m \u001b[1;33m\u001b[0m\u001b[0m\n",
      "\u001b[1;31mRuntimeError\u001b[0m: wrapped C/C++ object of type foldPanel has been deleted"
     ]
    },
    {
     "name": "stdout",
     "output_type": "stream",
     "text": [
      "Input datasources:  ['_Localizations', 'FitResults']\n",
      "RecipeView._layout\n"
     ]
    },
    {
     "ename": "SystemError",
     "evalue": "<class 'wx._core.WindowDestroyEvent'> returned a result with an error set",
     "output_type": "error",
     "traceback": [
      "\u001b[1;31m---------------------------------------------------------------------------\u001b[0m",
      "\u001b[1;31mwxAssertionError\u001b[0m                          Traceback (most recent call last)",
      "\u001b[1;31mwxAssertionError\u001b[0m: C++ assertion \"GetEventHandler() == this\" failed at ..\\..\\src\\common\\wincmn.cpp(478) in wxWindowBase::~wxWindowBase(): any pushed event handlers must have been removed",
      "\nThe above exception was the direct cause of the following exception:\n",
      "\u001b[1;31mSystemError\u001b[0m                               Traceback (most recent call last)",
      "\u001b[1;31mSystemError\u001b[0m: <class 'wx._core.WindowDestroyEvent'> returned a result with an error set"
     ]
    },
    {
     "ename": "RuntimeError",
     "evalue": "wrapped C/C++ object of type foldPanel has been deleted",
     "output_type": "error",
     "traceback": [
      "\u001b[1;31m---------------------------------------------------------------------------\u001b[0m",
      "\u001b[1;31mRuntimeError\u001b[0m                              Traceback (most recent call last)",
      "\u001b[1;32mc:\\users\\laf62\\code\\python-microscopy\\PYME\\ui\\manualFoldPanel.py\u001b[0m in \u001b[0;36mOnResize\u001b[1;34m(self, event)\u001b[0m\n\u001b[0;32m    760\u001b[0m \u001b[1;33m\u001b[0m\u001b[0m\n\u001b[0;32m    761\u001b[0m     \u001b[1;32mdef\u001b[0m \u001b[0mOnResize\u001b[0m\u001b[1;33m(\u001b[0m\u001b[0mself\u001b[0m\u001b[1;33m,\u001b[0m \u001b[0mevent\u001b[0m\u001b[1;33m)\u001b[0m\u001b[1;33m:\u001b[0m\u001b[1;33m\u001b[0m\u001b[1;33m\u001b[0m\u001b[0m\n\u001b[1;32m--> 762\u001b[1;33m         \u001b[1;32mif\u001b[0m \u001b[1;33m(\u001b[0m\u001b[1;32mnot\u001b[0m \u001b[0mself\u001b[0m\u001b[1;33m.\u001b[0m\u001b[0m_in_fold1\u001b[0m\u001b[1;33m)\u001b[0m \u001b[1;32mand\u001b[0m \u001b[0mself\u001b[0m\u001b[1;33m.\u001b[0m\u001b[0mIsShownOnScreen\u001b[0m\u001b[1;33m(\u001b[0m\u001b[1;33m)\u001b[0m\u001b[1;33m:\u001b[0m\u001b[1;33m\u001b[0m\u001b[1;33m\u001b[0m\u001b[0m\n\u001b[0m\u001b[0;32m    763\u001b[0m             \u001b[0mself\u001b[0m\u001b[1;33m.\u001b[0m\u001b[0mfold1\u001b[0m\u001b[1;33m(\u001b[0m\u001b[1;33m)\u001b[0m\u001b[1;33m\u001b[0m\u001b[1;33m\u001b[0m\u001b[0m\n\u001b[0;32m    764\u001b[0m \u001b[1;33m\u001b[0m\u001b[0m\n",
      "\u001b[1;31mRuntimeError\u001b[0m: wrapped C/C++ object of type foldPanel has been deleted"
     ]
    },
    {
     "name": "stdout",
     "output_type": "stream",
     "text": [
      "Input datasources:  ['_Localizations', 'FitResults']\n",
      "RecipeView._layout\n"
     ]
    },
    {
     "ename": "SystemError",
     "evalue": "<class 'wx._core.WindowDestroyEvent'> returned a result with an error set",
     "output_type": "error",
     "traceback": [
      "\u001b[1;31m---------------------------------------------------------------------------\u001b[0m",
      "\u001b[1;31mwxAssertionError\u001b[0m                          Traceback (most recent call last)",
      "\u001b[1;31mwxAssertionError\u001b[0m: C++ assertion \"GetEventHandler() == this\" failed at ..\\..\\src\\common\\wincmn.cpp(478) in wxWindowBase::~wxWindowBase(): any pushed event handlers must have been removed",
      "\nThe above exception was the direct cause of the following exception:\n",
      "\u001b[1;31mSystemError\u001b[0m                               Traceback (most recent call last)",
      "\u001b[1;31mSystemError\u001b[0m: <class 'wx._core.WindowDestroyEvent'> returned a result with an error set"
     ]
    },
    {
     "ename": "SystemError",
     "evalue": "<class 'wx._core.WindowDestroyEvent'> returned a result with an error set",
     "output_type": "error",
     "traceback": [
      "\u001b[1;31m---------------------------------------------------------------------------\u001b[0m",
      "\u001b[1;31mwxAssertionError\u001b[0m                          Traceback (most recent call last)",
      "\u001b[1;31mwxAssertionError\u001b[0m: C++ assertion \"GetEventHandler() == this\" failed at ..\\..\\src\\common\\wincmn.cpp(478) in wxWindowBase::~wxWindowBase(): any pushed event handlers must have been removed",
      "\nThe above exception was the direct cause of the following exception:\n",
      "\u001b[1;31mSystemError\u001b[0m                               Traceback (most recent call last)",
      "\u001b[1;31mSystemError\u001b[0m: <class 'wx._core.WindowDestroyEvent'> returned a result with an error set"
     ]
    },
    {
     "ename": "RuntimeError",
     "evalue": "wrapped C/C++ object of type foldPanel has been deleted",
     "output_type": "error",
     "traceback": [
      "\u001b[1;31m---------------------------------------------------------------------------\u001b[0m",
      "\u001b[1;31mRuntimeError\u001b[0m                              Traceback (most recent call last)",
      "\u001b[1;32mc:\\users\\laf62\\code\\python-microscopy\\PYME\\ui\\manualFoldPanel.py\u001b[0m in \u001b[0;36mOnResize\u001b[1;34m(self, event)\u001b[0m\n\u001b[0;32m    760\u001b[0m \u001b[1;33m\u001b[0m\u001b[0m\n\u001b[0;32m    761\u001b[0m     \u001b[1;32mdef\u001b[0m \u001b[0mOnResize\u001b[0m\u001b[1;33m(\u001b[0m\u001b[0mself\u001b[0m\u001b[1;33m,\u001b[0m \u001b[0mevent\u001b[0m\u001b[1;33m)\u001b[0m\u001b[1;33m:\u001b[0m\u001b[1;33m\u001b[0m\u001b[1;33m\u001b[0m\u001b[0m\n\u001b[1;32m--> 762\u001b[1;33m         \u001b[1;32mif\u001b[0m \u001b[1;33m(\u001b[0m\u001b[1;32mnot\u001b[0m \u001b[0mself\u001b[0m\u001b[1;33m.\u001b[0m\u001b[0m_in_fold1\u001b[0m\u001b[1;33m)\u001b[0m \u001b[1;32mand\u001b[0m \u001b[0mself\u001b[0m\u001b[1;33m.\u001b[0m\u001b[0mIsShownOnScreen\u001b[0m\u001b[1;33m(\u001b[0m\u001b[1;33m)\u001b[0m\u001b[1;33m:\u001b[0m\u001b[1;33m\u001b[0m\u001b[1;33m\u001b[0m\u001b[0m\n\u001b[0m\u001b[0;32m    763\u001b[0m             \u001b[0mself\u001b[0m\u001b[1;33m.\u001b[0m\u001b[0mfold1\u001b[0m\u001b[1;33m(\u001b[0m\u001b[1;33m)\u001b[0m\u001b[1;33m\u001b[0m\u001b[1;33m\u001b[0m\u001b[0m\n\u001b[0;32m    764\u001b[0m \u001b[1;33m\u001b[0m\u001b[0m\n",
      "\u001b[1;31mRuntimeError\u001b[0m: wrapped C/C++ object of type foldPanel has been deleted"
     ]
    },
    {
     "name": "stdout",
     "output_type": "stream",
     "text": [
      "Input datasources:  ['_Localizations', 'FitResults']\n"
     ]
    },
    {
     "name": "stderr",
     "output_type": "stream",
     "text": [
      "DEBUG:PYME.recipes.localisations:no events found\n"
     ]
    },
    {
     "name": "stdout",
     "output_type": "stream",
     "text": [
      "recipe.execute()\n",
      "Executing <PYME.recipes.localisations.Pipelineify object at 0x0000019D1D665228>\n",
      "Executing <PYME.recipes.localisations.ProcessColour object at 0x0000019D2F8731C8>\n",
      "Executing <PYME.recipes.tablefilters.FilterTable object at 0x0000019D2F862CA8>\n",
      "RecipeView._layout\n"
     ]
    },
    {
     "ename": "SystemError",
     "evalue": "<class 'wx._core.WindowDestroyEvent'> returned a result with an error set",
     "output_type": "error",
     "traceback": [
      "\u001b[1;31m---------------------------------------------------------------------------\u001b[0m",
      "\u001b[1;31mwxAssertionError\u001b[0m                          Traceback (most recent call last)",
      "\u001b[1;31mwxAssertionError\u001b[0m: C++ assertion \"GetEventHandler() == this\" failed at ..\\..\\src\\common\\wincmn.cpp(478) in wxWindowBase::~wxWindowBase(): any pushed event handlers must have been removed",
      "\nThe above exception was the direct cause of the following exception:\n",
      "\u001b[1;31mSystemError\u001b[0m                               Traceback (most recent call last)",
      "\u001b[1;31mSystemError\u001b[0m: <class 'wx._core.WindowDestroyEvent'> returned a result with an error set"
     ]
    },
    {
     "ename": "SystemError",
     "evalue": "<class 'wx._core.WindowDestroyEvent'> returned a result with an error set",
     "output_type": "error",
     "traceback": [
      "\u001b[1;31m---------------------------------------------------------------------------\u001b[0m",
      "\u001b[1;31mwxAssertionError\u001b[0m                          Traceback (most recent call last)",
      "\u001b[1;31mwxAssertionError\u001b[0m: C++ assertion \"GetEventHandler() == this\" failed at ..\\..\\src\\common\\wincmn.cpp(478) in wxWindowBase::~wxWindowBase(): any pushed event handlers must have been removed",
      "\nThe above exception was the direct cause of the following exception:\n",
      "\u001b[1;31mSystemError\u001b[0m                               Traceback (most recent call last)",
      "\u001b[1;31mSystemError\u001b[0m: <class 'wx._core.WindowDestroyEvent'> returned a result with an error set"
     ]
    },
    {
     "ename": "SystemError",
     "evalue": "<class 'wx._core.WindowDestroyEvent'> returned a result with an error set",
     "output_type": "error",
     "traceback": [
      "\u001b[1;31m---------------------------------------------------------------------------\u001b[0m",
      "\u001b[1;31mwxAssertionError\u001b[0m                          Traceback (most recent call last)",
      "\u001b[1;31mwxAssertionError\u001b[0m: C++ assertion \"GetEventHandler() == this\" failed at ..\\..\\src\\common\\wincmn.cpp(478) in wxWindowBase::~wxWindowBase(): any pushed event handlers must have been removed",
      "\nThe above exception was the direct cause of the following exception:\n",
      "\u001b[1;31mSystemError\u001b[0m                               Traceback (most recent call last)",
      "\u001b[1;31mSystemError\u001b[0m: <class 'wx._core.WindowDestroyEvent'> returned a result with an error set"
     ]
    },
    {
     "ename": "RuntimeError",
     "evalue": "wrapped C/C++ object of type foldPanel has been deleted",
     "output_type": "error",
     "traceback": [
      "\u001b[1;31m---------------------------------------------------------------------------\u001b[0m",
      "\u001b[1;31mRuntimeError\u001b[0m                              Traceback (most recent call last)",
      "\u001b[1;32mc:\\users\\laf62\\code\\python-microscopy\\PYME\\ui\\manualFoldPanel.py\u001b[0m in \u001b[0;36mOnResize\u001b[1;34m(self, event)\u001b[0m\n\u001b[0;32m    760\u001b[0m \u001b[1;33m\u001b[0m\u001b[0m\n\u001b[0;32m    761\u001b[0m     \u001b[1;32mdef\u001b[0m \u001b[0mOnResize\u001b[0m\u001b[1;33m(\u001b[0m\u001b[0mself\u001b[0m\u001b[1;33m,\u001b[0m \u001b[0mevent\u001b[0m\u001b[1;33m)\u001b[0m\u001b[1;33m:\u001b[0m\u001b[1;33m\u001b[0m\u001b[1;33m\u001b[0m\u001b[0m\n\u001b[1;32m--> 762\u001b[1;33m         \u001b[1;32mif\u001b[0m \u001b[1;33m(\u001b[0m\u001b[1;32mnot\u001b[0m \u001b[0mself\u001b[0m\u001b[1;33m.\u001b[0m\u001b[0m_in_fold1\u001b[0m\u001b[1;33m)\u001b[0m \u001b[1;32mand\u001b[0m \u001b[0mself\u001b[0m\u001b[1;33m.\u001b[0m\u001b[0mIsShownOnScreen\u001b[0m\u001b[1;33m(\u001b[0m\u001b[1;33m)\u001b[0m\u001b[1;33m:\u001b[0m\u001b[1;33m\u001b[0m\u001b[1;33m\u001b[0m\u001b[0m\n\u001b[0m\u001b[0;32m    763\u001b[0m             \u001b[0mself\u001b[0m\u001b[1;33m.\u001b[0m\u001b[0mfold1\u001b[0m\u001b[1;33m(\u001b[0m\u001b[1;33m)\u001b[0m\u001b[1;33m\u001b[0m\u001b[1;33m\u001b[0m\u001b[0m\n\u001b[0;32m    764\u001b[0m \u001b[1;33m\u001b[0m\u001b[0m\n",
      "\u001b[1;31mRuntimeError\u001b[0m: wrapped C/C++ object of type foldPanel has been deleted"
     ]
    },
    {
     "name": "stdout",
     "output_type": "stream",
     "text": [
      "Input datasources:  ['_Localizations', 'FitResults']\n",
      "Pipeline Created\n",
      "RecipeView._layout\n"
     ]
    },
    {
     "ename": "SystemError",
     "evalue": "<class 'wx._core.WindowDestroyEvent'> returned a result with an error set",
     "output_type": "error",
     "traceback": [
      "\u001b[1;31m---------------------------------------------------------------------------\u001b[0m",
      "\u001b[1;31mwxAssertionError\u001b[0m                          Traceback (most recent call last)",
      "\u001b[1;31mwxAssertionError\u001b[0m: C++ assertion \"GetEventHandler() == this\" failed at ..\\..\\src\\common\\wincmn.cpp(478) in wxWindowBase::~wxWindowBase(): any pushed event handlers must have been removed",
      "\nThe above exception was the direct cause of the following exception:\n",
      "\u001b[1;31mSystemError\u001b[0m                               Traceback (most recent call last)",
      "\u001b[1;31mSystemError\u001b[0m: <class 'wx._core.WindowDestroyEvent'> returned a result with an error set"
     ]
    },
    {
     "ename": "SystemError",
     "evalue": "<class 'wx._core.WindowDestroyEvent'> returned a result with an error set",
     "output_type": "error",
     "traceback": [
      "\u001b[1;31m---------------------------------------------------------------------------\u001b[0m",
      "\u001b[1;31mwxAssertionError\u001b[0m                          Traceback (most recent call last)",
      "\u001b[1;31mwxAssertionError\u001b[0m: C++ assertion \"GetEventHandler() == this\" failed at ..\\..\\src\\common\\wincmn.cpp(478) in wxWindowBase::~wxWindowBase(): any pushed event handlers must have been removed",
      "\nThe above exception was the direct cause of the following exception:\n",
      "\u001b[1;31mSystemError\u001b[0m                               Traceback (most recent call last)",
      "\u001b[1;31mSystemError\u001b[0m: <class 'wx._core.WindowDestroyEvent'> returned a result with an error set"
     ]
    },
    {
     "ename": "SystemError",
     "evalue": "<class 'wx._core.WindowDestroyEvent'> returned a result with an error set",
     "output_type": "error",
     "traceback": [
      "\u001b[1;31m---------------------------------------------------------------------------\u001b[0m",
      "\u001b[1;31mwxAssertionError\u001b[0m                          Traceback (most recent call last)",
      "\u001b[1;31mwxAssertionError\u001b[0m: C++ assertion \"GetEventHandler() == this\" failed at ..\\..\\src\\common\\wincmn.cpp(478) in wxWindowBase::~wxWindowBase(): any pushed event handlers must have been removed",
      "\nThe above exception was the direct cause of the following exception:\n",
      "\u001b[1;31mSystemError\u001b[0m                               Traceback (most recent call last)",
      "\u001b[1;31mSystemError\u001b[0m: <class 'wx._core.WindowDestroyEvent'> returned a result with an error set"
     ]
    },
    {
     "ename": "RuntimeError",
     "evalue": "wrapped C/C++ object of type foldPanel has been deleted",
     "output_type": "error",
     "traceback": [
      "\u001b[1;31m---------------------------------------------------------------------------\u001b[0m",
      "\u001b[1;31mRuntimeError\u001b[0m                              Traceback (most recent call last)",
      "\u001b[1;32mc:\\users\\laf62\\code\\python-microscopy\\PYME\\ui\\manualFoldPanel.py\u001b[0m in \u001b[0;36mOnResize\u001b[1;34m(self, event)\u001b[0m\n\u001b[0;32m    760\u001b[0m \u001b[1;33m\u001b[0m\u001b[0m\n\u001b[0;32m    761\u001b[0m     \u001b[1;32mdef\u001b[0m \u001b[0mOnResize\u001b[0m\u001b[1;33m(\u001b[0m\u001b[0mself\u001b[0m\u001b[1;33m,\u001b[0m \u001b[0mevent\u001b[0m\u001b[1;33m)\u001b[0m\u001b[1;33m:\u001b[0m\u001b[1;33m\u001b[0m\u001b[1;33m\u001b[0m\u001b[0m\n\u001b[1;32m--> 762\u001b[1;33m         \u001b[1;32mif\u001b[0m \u001b[1;33m(\u001b[0m\u001b[1;32mnot\u001b[0m \u001b[0mself\u001b[0m\u001b[1;33m.\u001b[0m\u001b[0m_in_fold1\u001b[0m\u001b[1;33m)\u001b[0m \u001b[1;32mand\u001b[0m \u001b[0mself\u001b[0m\u001b[1;33m.\u001b[0m\u001b[0mIsShownOnScreen\u001b[0m\u001b[1;33m(\u001b[0m\u001b[1;33m)\u001b[0m\u001b[1;33m:\u001b[0m\u001b[1;33m\u001b[0m\u001b[1;33m\u001b[0m\u001b[0m\n\u001b[0m\u001b[0;32m    763\u001b[0m             \u001b[0mself\u001b[0m\u001b[1;33m.\u001b[0m\u001b[0mfold1\u001b[0m\u001b[1;33m(\u001b[0m\u001b[1;33m)\u001b[0m\u001b[1;33m\u001b[0m\u001b[1;33m\u001b[0m\u001b[0m\n\u001b[0;32m    764\u001b[0m \u001b[1;33m\u001b[0m\u001b[0m\n",
      "\u001b[1;31mRuntimeError\u001b[0m: wrapped C/C++ object of type foldPanel has been deleted"
     ]
    },
    {
     "name": "stderr",
     "output_type": "stream",
     "text": [
      "DEBUG:PYME.LMVis.VisGUI:Creating tabs\n"
     ]
    },
    {
     "name": "stdout",
     "output_type": "stream",
     "text": [
      "Input datasources:  ['_Localizations', 'FitResults']\n",
      "0\n"
     ]
    },
    {
     "name": "stderr",
     "output_type": "stream",
     "text": [
      "DEBUG:PYME.LMVis.VisGUI:Finished creating tabs\n"
     ]
    },
    {
     "name": "stdout",
     "output_type": "stream",
     "text": [
      "Gui stuff done\n",
      "vcs:  ['t', 'z']\n",
      "lw update\n",
      "Creating layers GUI\n",
      "hl update\n",
      "height:  320\n",
      "NB best size: wx.Size(222, 320)\n"
     ]
    },
    {
     "name": "stderr",
     "output_type": "stream",
     "text": [
      "DEBUG:PYME.LMVis.visCore:Added layer, datasouce=output\n",
      "DEBUG:PYME.LMVis.shader_programs.ShaderProgramFactory:New shader program created: <class 'PYME.LMVis.shader_programs.DefaultShaderProgram.OpaquePointShaderProgram'>\n"
     ]
    }
   ],
   "source": [
    "# Open the points\n",
    "pymevis.OpenFile(points_fn)"
   ]
  },
  {
   "cell_type": "code",
   "execution_count": 5,
   "id": "c12d7f26",
   "metadata": {
    "tags": []
   },
   "outputs": [
    {
     "name": "stdout",
     "output_type": "stream",
     "text": [
      "Data munged to vertices, faces\n",
      "initializing halfedges ...\n",
      "vertices.shape = (4083265, 3), faces.shape = (8173420, 3)\n",
      "iterating edges\n",
      "done initializing halfedges\n",
      "lw update\n",
      "Disposing of HistLimitsEditor\n",
      "Creating layers GUI\n",
      "hl update\n",
      "hl update\n",
      "height:  349\n",
      "NB best size: wx.Size(237, 349)\n"
     ]
    },
    {
     "name": "stderr",
     "output_type": "stream",
     "text": [
      "DEBUG:PYME.LMVis.shader_programs.ShaderProgramFactory:New shader program created: <class 'PYME.LMVis.shader_programs.GouraudShaderProgram.GouraudShaderProgram'>\n"
     ]
    }
   ],
   "source": [
    "mesh = membrane_mesh.MembraneMesh.from_stl(mesh_fn)\n",
    "\n",
    "mesh_name = pipeline.new_ds_name('er')\n",
    "pipeline.recipe.namespace[mesh_name] = mesh\n",
    "layer = TriangleRenderLayer(pipeline, dsname=mesh_name, method='shaded', cmap = 'SolidMagenta')\n",
    "pymevis.add_layer(layer)"
   ]
  },
  {
   "cell_type": "code",
   "execution_count": null,
   "id": "fc578e0c",
   "metadata": {
    "scrolled": true
   },
   "outputs": [],
   "source": [
    "## Import ExtractTableChannel Recipe\n",
    "#from PYME.recipes.localisations import ExtractTableChannel\n",
    "#recipe = pipeline.recipe\n",
    "\n",
    "## Extract ER points\n",
    "#recipe.add_modules_and_execute([ExtractTableChannel(recipe, inputName = 'filtered_localizations', outputName = 'er',\n",
    "#                                                    channel = er_chan)])\n",
    "\n",
    "## Extract Rtn4 points\n",
    "#recipe.add_modules_and_execute([ExtractTableChannel(recipe, inputName = 'filtered_localizations', outputName = 'rtn4',\n",
    "#                                                    channel = rtn4_chan)])"
   ]
  },
  {
   "cell_type": "code",
   "execution_count": 6,
   "id": "d29ecab2",
   "metadata": {},
   "outputs": [
    {
     "name": "stderr",
     "output_type": "stream",
     "text": [
      "ERROR:traits:Exception occurred in traits notification handler for object: <PYME.LMVis.layers.pointcloud.PointCloudRenderLayer object at 0x0000019D2FD45588>, trait: _datasource_choices, old value: ['output', '_Localizations', 'FitResults', 'Localizations', 'colour_mapped', 'filtered_localizations'], new value: ['output', '_Localizations', 'FitResults', 'Localizations', 'colour_mapped', 'filtered_localizations', 'er0']\n",
      "Traceback (most recent call last):\n",
      "  File \"C:\\Users\\laf62\\.conda\\envs\\pyme\\lib\\site-packages\\traits\\trait_notifiers.py\", line 524, in _dispatch_change_event\n",
      "    self.dispatch(handler, *args)\n",
      "  File \"C:\\Users\\laf62\\.conda\\envs\\pyme\\lib\\site-packages\\traits\\trait_notifiers.py\", line 486, in dispatch\n",
      "    handler(*args)\n",
      "  File \"c:\\users\\laf62\\code\\python-microscopy\\PYME\\ui\\layerFoldPanel.py\", line 118, in _refresh\n",
      "    self.Refresh()\n",
      "RuntimeError: wrapped C/C++ object of type LayerCaptionBar has been deleted\n"
     ]
    },
    {
     "name": "stdout",
     "output_type": "stream",
     "text": [
      "lw update\n",
      "hl update\n",
      "lw update\n"
     ]
    }
   ],
   "source": [
    "# Select ER DataSource\n",
    "# pipeline.selectDataSource('er')\n",
    "pipeline.selectDataSource('filtered_localizations')"
   ]
  },
  {
   "cell_type": "code",
   "execution_count": 7,
   "id": "946f2023",
   "metadata": {},
   "outputs": [
    {
     "name": "stderr",
     "output_type": "stream",
     "text": [
      "ERROR:traits:Exception occurred in traits notification handler for object: <PYME.LMVis.layers.pointcloud.PointCloudRenderLayer object at 0x0000019D2FD45588>, trait: engine, old value: <PYME.LMVis.layers.pointcloud.Points3DEngine object at 0x0000019D30F37B88>, new value: <PYME.LMVis.layers.pointcloud.PointSpritesEngine object at 0x0000019D30825B88>\n",
      "Traceback (most recent call last):\n",
      "  File \"C:\\Users\\laf62\\.conda\\envs\\pyme\\lib\\site-packages\\traits\\trait_notifiers.py\", line 524, in _dispatch_change_event\n",
      "    self.dispatch(handler, *args)\n",
      "  File \"C:\\Users\\laf62\\.conda\\envs\\pyme\\lib\\site-packages\\traits\\trait_notifiers.py\", line 486, in dispatch\n",
      "    handler(*args)\n",
      "  File \"c:\\users\\laf62\\code\\python-microscopy\\PYME\\ui\\layerFoldPanel.py\", line 118, in _refresh\n",
      "    self.Refresh()\n",
      "RuntimeError: wrapped C/C++ object of type LayerCaptionBar has been deleted\n",
      "ERROR:traits:Exception occurred in traits notification handler for object: <PYME.LMVis.layers.pointcloud.PointCloudRenderLayer object at 0x0000019D2FD45588>, trait: method, old value: points, new value: pointsprites\n",
      "Traceback (most recent call last):\n",
      "  File \"C:\\Users\\laf62\\.conda\\envs\\pyme\\lib\\site-packages\\traits\\trait_notifiers.py\", line 524, in _dispatch_change_event\n",
      "    self.dispatch(handler, *args)\n",
      "  File \"C:\\Users\\laf62\\.conda\\envs\\pyme\\lib\\site-packages\\traits\\trait_notifiers.py\", line 486, in dispatch\n",
      "    handler(*args)\n",
      "  File \"c:\\users\\laf62\\code\\python-microscopy\\PYME\\LMVis\\layers\\pointcloud.py\", line 169, in _set_method\n",
      "    self.update()\n",
      "  File \"c:\\users\\laf62\\code\\python-microscopy\\PYME\\LMVis\\layers\\pointcloud.py\", line 192, in update\n",
      "    self.on_update.send(self)\n",
      "  File \"c:\\users\\laf62\\code\\python-microscopy\\PYME\\contrib\\dispatch\\dispatcher.py\", line 174, in send\n",
      "    for receiver in self._live_receivers(sender)\n",
      "  File \"c:\\users\\laf62\\code\\python-microscopy\\PYME\\contrib\\dispatch\\dispatcher.py\", line 174, in <listcomp>\n",
      "    for receiver in self._live_receivers(sender)\n",
      "  File \"c:\\users\\laf62\\code\\python-microscopy\\PYME\\ui\\custom_traits_editors.py\", line 465, in n_update\n",
      "    self.update_editor()\n",
      "  File \"c:\\users\\laf62\\code\\python-microscopy\\PYME\\ui\\custom_traits_editors.py\", line 477, in update_editor\n",
      "    self.control.SetData(self.factory.data(), *self.value)\n",
      "AttributeError: 'NoneType' object has no attribute 'SetData'\n",
      "ERROR:traits:Exception occurred in traits notification handler for object: <PYME.LMVis.layers.pointcloud.PointCloudRenderLayer object at 0x0000019D2FD45588>, trait: method, old value: points, new value: pointsprites\n",
      "Traceback (most recent call last):\n",
      "  File \"C:\\Users\\laf62\\.conda\\envs\\pyme\\lib\\site-packages\\traits\\trait_notifiers.py\", line 524, in _dispatch_change_event\n",
      "    self.dispatch(handler, *args)\n",
      "  File \"C:\\Users\\laf62\\.conda\\envs\\pyme\\lib\\site-packages\\traits\\trait_notifiers.py\", line 486, in dispatch\n",
      "    handler(*args)\n",
      "  File \"c:\\users\\laf62\\code\\python-microscopy\\PYME\\ui\\layerFoldPanel.py\", line 118, in _refresh\n",
      "    self.Refresh()\n",
      "RuntimeError: wrapped C/C++ object of type LayerCaptionBar has been deleted\n"
     ]
    },
    {
     "name": "stdout",
     "output_type": "stream",
     "text": [
      "lw update\n",
      "hl update\n",
      "lw update\n"
     ]
    },
    {
     "name": "stderr",
     "output_type": "stream",
     "text": [
      "ERROR:traits:Exception occurred in traits notification handler for object: <PYME.LMVis.layers.pointcloud.PointCloudRenderLayer object at 0x0000019D2FD45588>, trait: point_size, old value: 30.0, new value: 10.0\n",
      "Traceback (most recent call last):\n",
      "  File \"C:\\Users\\laf62\\.conda\\envs\\pyme\\lib\\site-packages\\traits\\trait_notifiers.py\", line 524, in _dispatch_change_event\n",
      "    self.dispatch(handler, *args)\n",
      "  File \"C:\\Users\\laf62\\.conda\\envs\\pyme\\lib\\site-packages\\traits\\trait_notifiers.py\", line 486, in dispatch\n",
      "    handler(*args)\n",
      "  File \"c:\\users\\laf62\\code\\python-microscopy\\PYME\\LMVis\\layers\\pointcloud.py\", line 192, in update\n",
      "    self.on_update.send(self)\n",
      "  File \"c:\\users\\laf62\\code\\python-microscopy\\PYME\\contrib\\dispatch\\dispatcher.py\", line 174, in send\n",
      "    for receiver in self._live_receivers(sender)\n",
      "  File \"c:\\users\\laf62\\code\\python-microscopy\\PYME\\contrib\\dispatch\\dispatcher.py\", line 174, in <listcomp>\n",
      "    for receiver in self._live_receivers(sender)\n",
      "  File \"c:\\users\\laf62\\code\\python-microscopy\\PYME\\ui\\custom_traits_editors.py\", line 465, in n_update\n",
      "    self.update_editor()\n",
      "  File \"c:\\users\\laf62\\code\\python-microscopy\\PYME\\ui\\custom_traits_editors.py\", line 477, in update_editor\n",
      "    self.control.SetData(self.factory.data(), *self.value)\n",
      "AttributeError: 'NoneType' object has no attribute 'SetData'\n",
      "ERROR:traits:Exception occurred in traits notification handler for object: <PYME.LMVis.layers.pointcloud.PointCloudRenderLayer object at 0x0000019D2FD45588>, trait: point_size, old value: 30.0, new value: 10.0\n",
      "Traceback (most recent call last):\n",
      "  File \"C:\\Users\\laf62\\.conda\\envs\\pyme\\lib\\site-packages\\traits\\trait_notifiers.py\", line 524, in _dispatch_change_event\n",
      "    self.dispatch(handler, *args)\n",
      "  File \"C:\\Users\\laf62\\.conda\\envs\\pyme\\lib\\site-packages\\traits\\trait_notifiers.py\", line 486, in dispatch\n",
      "    handler(*args)\n",
      "  File \"c:\\users\\laf62\\code\\python-microscopy\\PYME\\ui\\layerFoldPanel.py\", line 118, in _refresh\n",
      "    self.Refresh()\n",
      "RuntimeError: wrapped C/C++ object of type LayerCaptionBar has been deleted\n",
      "ERROR:traits:Exception occurred in traits notification handler for object: <PYME.LMVis.layers.pointcloud.PointCloudRenderLayer object at 0x0000019D2FD45588>, trait: alpha, old value: 1.0, new value: 0.25\n",
      "Traceback (most recent call last):\n",
      "  File \"C:\\Users\\laf62\\.conda\\envs\\pyme\\lib\\site-packages\\traits\\trait_notifiers.py\", line 524, in _dispatch_change_event\n",
      "    self.dispatch(handler, *args)\n",
      "  File \"C:\\Users\\laf62\\.conda\\envs\\pyme\\lib\\site-packages\\traits\\trait_notifiers.py\", line 486, in dispatch\n",
      "    handler(*args)\n",
      "  File \"c:\\users\\laf62\\code\\python-microscopy\\PYME\\LMVis\\layers\\pointcloud.py\", line 192, in update\n",
      "    self.on_update.send(self)\n",
      "  File \"c:\\users\\laf62\\code\\python-microscopy\\PYME\\contrib\\dispatch\\dispatcher.py\", line 174, in send\n",
      "    for receiver in self._live_receivers(sender)\n",
      "  File \"c:\\users\\laf62\\code\\python-microscopy\\PYME\\contrib\\dispatch\\dispatcher.py\", line 174, in <listcomp>\n",
      "    for receiver in self._live_receivers(sender)\n",
      "  File \"c:\\users\\laf62\\code\\python-microscopy\\PYME\\ui\\custom_traits_editors.py\", line 465, in n_update\n",
      "    self.update_editor()\n",
      "  File \"c:\\users\\laf62\\code\\python-microscopy\\PYME\\ui\\custom_traits_editors.py\", line 477, in update_editor\n",
      "    self.control.SetData(self.factory.data(), *self.value)\n",
      "AttributeError: 'NoneType' object has no attribute 'SetData'\n",
      "ERROR:traits:Exception occurred in traits notification handler for object: <PYME.LMVis.layers.pointcloud.PointCloudRenderLayer object at 0x0000019D2FD45588>, trait: alpha, old value: 1.0, new value: 0.25\n",
      "Traceback (most recent call last):\n",
      "  File \"C:\\Users\\laf62\\.conda\\envs\\pyme\\lib\\site-packages\\traits\\trait_notifiers.py\", line 524, in _dispatch_change_event\n",
      "    self.dispatch(handler, *args)\n",
      "  File \"C:\\Users\\laf62\\.conda\\envs\\pyme\\lib\\site-packages\\traits\\trait_notifiers.py\", line 486, in dispatch\n",
      "    handler(*args)\n",
      "  File \"c:\\users\\laf62\\code\\python-microscopy\\PYME\\ui\\layerFoldPanel.py\", line 118, in _refresh\n",
      "    self.Refresh()\n",
      "RuntimeError: wrapped C/C++ object of type LayerCaptionBar has been deleted\n"
     ]
    },
    {
     "name": "stdout",
     "output_type": "stream",
     "text": [
      "hl update\n",
      "lw update\n",
      "hl update\n",
      "lw update\n"
     ]
    },
    {
     "name": "stderr",
     "output_type": "stream",
     "text": [
      "ERROR:traits:Exception occurred in traits notification handler for object: <PYME.LMVis.layers.pointcloud.PointCloudRenderLayer object at 0x0000019D2FD45588>, trait: clim, old value: [0.0, 1.0], new value: [-959.2848510742188, 589.0087280283437]\n",
      "Traceback (most recent call last):\n",
      "  File \"C:\\Users\\laf62\\.conda\\envs\\pyme\\lib\\site-packages\\traits\\trait_notifiers.py\", line 524, in _dispatch_change_event\n",
      "    self.dispatch(handler, *args)\n",
      "  File \"C:\\Users\\laf62\\.conda\\envs\\pyme\\lib\\site-packages\\traits\\trait_notifiers.py\", line 486, in dispatch\n",
      "    handler(*args)\n",
      "  File \"c:\\users\\laf62\\code\\python-microscopy\\PYME\\LMVis\\layers\\pointcloud.py\", line 192, in update\n",
      "    self.on_update.send(self)\n",
      "  File \"c:\\users\\laf62\\code\\python-microscopy\\PYME\\contrib\\dispatch\\dispatcher.py\", line 174, in send\n",
      "    for receiver in self._live_receivers(sender)\n",
      "  File \"c:\\users\\laf62\\code\\python-microscopy\\PYME\\contrib\\dispatch\\dispatcher.py\", line 174, in <listcomp>\n",
      "    for receiver in self._live_receivers(sender)\n",
      "  File \"c:\\users\\laf62\\code\\python-microscopy\\PYME\\ui\\custom_traits_editors.py\", line 465, in n_update\n",
      "    self.update_editor()\n",
      "  File \"c:\\users\\laf62\\code\\python-microscopy\\PYME\\ui\\custom_traits_editors.py\", line 477, in update_editor\n",
      "    self.control.SetData(self.factory.data(), *self.value)\n",
      "AttributeError: 'NoneType' object has no attribute 'SetData'\n"
     ]
    },
    {
     "name": "stdout",
     "output_type": "stream",
     "text": [
      "hl update\n",
      "hl update\n"
     ]
    },
    {
     "name": "stderr",
     "output_type": "stream",
     "text": [
      "ERROR:traits:Exception occurred in traits notification handler for object: <PYME.LMVis.layers.pointcloud.PointCloudRenderLayer object at 0x0000019D2FD45588>, trait: clim, old value: [0.0, 1.0], new value: [-959.2848510742188, 589.0087280283437]\n",
      "Traceback (most recent call last):\n",
      "  File \"C:\\Users\\laf62\\.conda\\envs\\pyme\\lib\\site-packages\\traits\\trait_notifiers.py\", line 524, in _dispatch_change_event\n",
      "    self.dispatch(handler, *args)\n",
      "  File \"C:\\Users\\laf62\\.conda\\envs\\pyme\\lib\\site-packages\\traits\\trait_notifiers.py\", line 486, in dispatch\n",
      "    handler(*args)\n",
      "  File \"c:\\users\\laf62\\code\\python-microscopy\\PYME\\ui\\layerFoldPanel.py\", line 118, in _refresh\n",
      "    self.Refresh()\n",
      "RuntimeError: wrapped C/C++ object of type LayerCaptionBar has been deleted\n",
      "ERROR:traits:Exception occurred in traits notification handler for object: <PYME.LMVis.layers.pointcloud.PointCloudRenderLayer object at 0x0000019D2FD45588>, trait: vertexColour, old value: t, new value: z\n",
      "Traceback (most recent call last):\n",
      "  File \"C:\\Users\\laf62\\.conda\\envs\\pyme\\lib\\site-packages\\traits\\trait_notifiers.py\", line 524, in _dispatch_change_event\n",
      "    self.dispatch(handler, *args)\n",
      "  File \"C:\\Users\\laf62\\.conda\\envs\\pyme\\lib\\site-packages\\traits\\trait_notifiers.py\", line 486, in dispatch\n",
      "    handler(*args)\n",
      "  File \"c:\\users\\laf62\\code\\python-microscopy\\PYME\\ui\\layerFoldPanel.py\", line 118, in _refresh\n",
      "    self.Refresh()\n",
      "RuntimeError: wrapped C/C++ object of type LayerCaptionBar has been deleted\n",
      "ERROR:traits:Exception occurred in traits notification handler for object: <PYME.LMVis.layers.pointcloud.PointCloudRenderLayer object at 0x0000019D2FD45588>, trait: clim, old value: [-959.2848510742188, 589.0087280283437], new value: [-800.0, 0.0]\n",
      "Traceback (most recent call last):\n",
      "  File \"C:\\Users\\laf62\\.conda\\envs\\pyme\\lib\\site-packages\\traits\\trait_notifiers.py\", line 524, in _dispatch_change_event\n",
      "    self.dispatch(handler, *args)\n",
      "  File \"C:\\Users\\laf62\\.conda\\envs\\pyme\\lib\\site-packages\\traits\\trait_notifiers.py\", line 486, in dispatch\n",
      "    handler(*args)\n",
      "  File \"c:\\users\\laf62\\code\\python-microscopy\\PYME\\LMVis\\layers\\pointcloud.py\", line 192, in update\n",
      "    self.on_update.send(self)\n",
      "  File \"c:\\users\\laf62\\code\\python-microscopy\\PYME\\contrib\\dispatch\\dispatcher.py\", line 174, in send\n",
      "    for receiver in self._live_receivers(sender)\n",
      "  File \"c:\\users\\laf62\\code\\python-microscopy\\PYME\\contrib\\dispatch\\dispatcher.py\", line 174, in <listcomp>\n",
      "    for receiver in self._live_receivers(sender)\n",
      "  File \"c:\\users\\laf62\\code\\python-microscopy\\PYME\\ui\\custom_traits_editors.py\", line 465, in n_update\n",
      "    self.update_editor()\n",
      "  File \"c:\\users\\laf62\\code\\python-microscopy\\PYME\\ui\\custom_traits_editors.py\", line 477, in update_editor\n",
      "    self.control.SetData(self.factory.data(), *self.value)\n",
      "AttributeError: 'NoneType' object has no attribute 'SetData'\n"
     ]
    },
    {
     "name": "stdout",
     "output_type": "stream",
     "text": [
      "lw update\n",
      "hl update\n",
      "hl update\n"
     ]
    },
    {
     "name": "stderr",
     "output_type": "stream",
     "text": [
      "ERROR:traits:Exception occurred in traits notification handler for object: <PYME.LMVis.layers.pointcloud.PointCloudRenderLayer object at 0x0000019D2FD45588>, trait: clim, old value: [-959.2848510742188, 589.0087280283437], new value: [-800.0, 0.0]\n",
      "Traceback (most recent call last):\n",
      "  File \"C:\\Users\\laf62\\.conda\\envs\\pyme\\lib\\site-packages\\traits\\trait_notifiers.py\", line 524, in _dispatch_change_event\n",
      "    self.dispatch(handler, *args)\n",
      "  File \"C:\\Users\\laf62\\.conda\\envs\\pyme\\lib\\site-packages\\traits\\trait_notifiers.py\", line 486, in dispatch\n",
      "    handler(*args)\n",
      "  File \"c:\\users\\laf62\\code\\python-microscopy\\PYME\\ui\\layerFoldPanel.py\", line 118, in _refresh\n",
      "    self.Refresh()\n",
      "RuntimeError: wrapped C/C++ object of type LayerCaptionBar has been deleted\n"
     ]
    },
    {
     "ename": "ImportError",
     "evalue": "cannot import name 'image' from 'PIL' (C:\\Users\\laf62\\.conda\\envs\\pyme\\lib\\site-packages\\PIL\\__init__.py)",
     "output_type": "error",
     "traceback": [
      "\u001b[1;31m---------------------------------------------------------------------------\u001b[0m",
      "\u001b[1;31mImportError\u001b[0m                               Traceback (most recent call last)",
      "\u001b[1;32m<ipython-input-7-55069eb315e3>\u001b[0m in \u001b[0;36m<module>\u001b[1;34m\u001b[0m\n\u001b[0;32m     15\u001b[0m \u001b[1;33m\u001b[0m\u001b[0m\n\u001b[0;32m     16\u001b[0m \u001b[1;31m# Save screenshot\u001b[0m\u001b[1;33m\u001b[0m\u001b[1;33m\u001b[0m\u001b[1;33m\u001b[0m\u001b[0m\n\u001b[1;32m---> 17\u001b[1;33m \u001b[1;32mfrom\u001b[0m \u001b[0mPIL\u001b[0m \u001b[1;32mimport\u001b[0m \u001b[0mimage\u001b[0m\u001b[1;33m\u001b[0m\u001b[1;33m\u001b[0m\u001b[0m\n\u001b[0m\u001b[0;32m     18\u001b[0m \u001b[0msnap\u001b[0m \u001b[1;33m=\u001b[0m \u001b[0mpymevis\u001b[0m\u001b[1;33m.\u001b[0m\u001b[0mglCanvas\u001b[0m\u001b[1;33m.\u001b[0m\u001b[0mgetSnapshot\u001b[0m\u001b[1;33m(\u001b[0m\u001b[1;33m)\u001b[0m\u001b[1;33m.\u001b[0m\u001b[0mtranspose\u001b[0m\u001b[1;33m(\u001b[0m\u001b[1;36m1\u001b[0m\u001b[1;33m,\u001b[0m\u001b[1;36m0\u001b[0m\u001b[1;33m,\u001b[0m\u001b[1;36m2\u001b[0m\u001b[1;33m)\u001b[0m\u001b[1;33m\u001b[0m\u001b[1;33m\u001b[0m\u001b[0m\n\u001b[0;32m     19\u001b[0m \u001b[0mImage\u001b[0m\u001b[1;33m.\u001b[0m\u001b[0mfromarray\u001b[0m\u001b[1;33m(\u001b[0m\u001b[0msnap\u001b[0m\u001b[1;33m)\u001b[0m\u001b[1;33m.\u001b[0m\u001b[0mtranspose\u001b[0m\u001b[1;33m(\u001b[0m\u001b[0mImage\u001b[0m\u001b[1;33m.\u001b[0m\u001b[0mFLIP_TOP_BOTTOM\u001b[0m\u001b[1;33m)\u001b[0m\u001b[1;33m.\u001b[0m\u001b[0msave\u001b[0m\u001b[1;33m(\u001b[0m\u001b[1;34m'All_points_Z.png'\u001b[0m\u001b[1;33m)\u001b[0m\u001b[1;33m\u001b[0m\u001b[1;33m\u001b[0m\u001b[0m\n",
      "\u001b[1;31mImportError\u001b[0m: cannot import name 'image' from 'PIL' (C:\\Users\\laf62\\.conda\\envs\\pyme\\lib\\site-packages\\PIL\\__init__.py)"
     ]
    },
    {
     "name": "stderr",
     "output_type": "stream",
     "text": [
      "DEBUG:PYME.LMVis.shader_programs.ShaderProgramFactory:New shader program created: <class 'PYME.LMVis.shader_programs.PointSpriteShaderProgram.PointSpriteShaderProgram'>\n"
     ]
    }
   ],
   "source": [
    "# Save screenshots of the entire dataset\n",
    "\n",
    "# Points in Z\n",
    "pymevis.glCanvas.layers[0].cmap = 'gist_rainbow'\n",
    "# pymevis.glCanvas.layers[0].method = 'spheres'\n",
    "pymevis.glCanvas.layers[0].method = 'pointsprites'\n",
    "pymevis.glCanvas.layers[0].point_size = 10\n",
    "pymevis.glCanvas.layers[0].alpha = 0.25\n",
    "pymevis.glCanvas.layers[0].vertexColour = 'z'\n",
    "pymevis.glCanvas.layers[0].clim = [-800,0]\n",
    "pymevis.glCanvas.LUTDraw = True\n",
    "pymevis.glCanvas.layers[0].visible = True\n",
    "pymevis.glCanvas.layers[-1].visible = False\n",
    "pymevis.glCanvas.Refresh()\n",
    "\n",
    "# Save screenshot\n",
    "from PIL import image\n",
    "snap = pymevis.glCanvas.getSnapshot().transpose(1,0,2)\n",
    "Image.fromarray(snap).transpose(Image.FLIP_TOP_BOTTOM).save('All_points_Z.png')"
   ]
  },
  {
   "cell_type": "code",
   "execution_count": 8,
   "id": "b269e3e1",
   "metadata": {},
   "outputs": [
    {
     "name": "stdout",
     "output_type": "stream",
     "text": [
      "Viewport:  (1009, 894)\n"
     ]
    }
   ],
   "source": [
    "# ROI screenshot of points in Z\n",
    "\n",
    "# optionally zoom\n",
    "rescale = 4\n",
    "# optionally translate\n",
    "dx, dy, dz = 0, -9000, 0\n",
    "pymevis.glCanvas.view.scale *= rescale\n",
    "pymevis.glCanvas.view.translation[0] += dx* (1. - 1. / rescale)\n",
    "pymevis.glCanvas.view.translation[1] += dy* (1. - 1. / rescale)\n",
    "pymevis.glCanvas.view.translation[2] += dz* (1. - 1. / rescale)\n",
    "\n",
    "pymevis.glCanvas.Refresh()\n",
    "# Save screenshot\n",
    "from PIL import Image\n",
    "snap = pymevis.glCanvas.getSnapshot().transpose(1,0,2)\n",
    "Image.fromarray(snap).transpose(Image.FLIP_TOP_BOTTOM).save('All_points_Z_ROI.png')"
   ]
  },
  {
   "cell_type": "code",
   "execution_count": 9,
   "id": "70cfc78a",
   "metadata": {},
   "outputs": [],
   "source": [
    "# Reset GUI view\n",
    "pymevis.glCanvas.view.scale *= 1/rescale\n",
    "pymevis.glCanvas.view.translation[0] += -dx* (1. - 1. / rescale)\n",
    "pymevis.glCanvas.view.translation[1] += -dy* (1. - 1. / rescale) #6750\n",
    "pymevis.glCanvas.view.translation[2] += -dz/ (1. - 1. / rescale)\n",
    "pymevis.glCanvas.Refresh()\n",
    "del dx, dy, dz"
   ]
  },
  {
   "cell_type": "code",
   "execution_count": 10,
   "id": "9fb506f2",
   "metadata": {},
   "outputs": [],
   "source": [
    "# optionally zoom\n",
    "#rescale = 4\n",
    "# optionally translate\n",
    "#dx, dy, dz = 0, -9000, 0\n",
    "#pymevis.glCanvas.view.scale *= rescale\n",
    "#pymevis.glCanvas.view.translation[0] += dx* (1. - 1. / rescale)\n",
    "#pymevis.glCanvas.view.translation[1] += dy* (1. - 1. / rescale)\n",
    "#pymevis.glCanvas.view.translation[2] += dz* (1. - 1. / rescale)\n",
    "#pymevis.glCanvas.Refresh()\n",
    "\n",
    "#pymevis.glCanvas.view.scale *= 1/rescale\n",
    "#pymevis.glCanvas.view.translation[0] += -dx* (1. - 1. / rescale)\n",
    "#pymevis.glCanvas.view.translation[1] += -dy* (1. - 1. / rescale) #6750\n",
    "#pymevis.glCanvas.view.translation[2] += -dz/ (1. - 1. / rescale)\n",
    "#pymevis.glCanvas.Refresh()"
   ]
  },
  {
   "cell_type": "code",
   "execution_count": 11,
   "id": "400e8dd0",
   "metadata": {},
   "outputs": [
    {
     "name": "stderr",
     "output_type": "stream",
     "text": [
      "ERROR:traits:Exception occurred in traits notification handler for object: <PYME.LMVis.layers.pointcloud.PointCloudRenderLayer object at 0x0000019D2FD45588>, trait: visible, old value: True, new value: False\n",
      "Traceback (most recent call last):\n",
      "  File \"C:\\Users\\laf62\\.conda\\envs\\pyme\\lib\\site-packages\\traits\\trait_notifiers.py\", line 524, in _dispatch_change_event\n",
      "    self.dispatch(handler, *args)\n",
      "  File \"C:\\Users\\laf62\\.conda\\envs\\pyme\\lib\\site-packages\\traits\\trait_notifiers.py\", line 486, in dispatch\n",
      "    handler(*args)\n",
      "  File \"c:\\users\\laf62\\code\\python-microscopy\\PYME\\LMVis\\layers\\pointcloud.py\", line 139, in <lambda>\n",
      "    self.on_trait_change(lambda: self.on_update.send(self), 'visible')\n",
      "  File \"c:\\users\\laf62\\code\\python-microscopy\\PYME\\contrib\\dispatch\\dispatcher.py\", line 174, in send\n",
      "    for receiver in self._live_receivers(sender)\n",
      "  File \"c:\\users\\laf62\\code\\python-microscopy\\PYME\\contrib\\dispatch\\dispatcher.py\", line 174, in <listcomp>\n",
      "    for receiver in self._live_receivers(sender)\n",
      "  File \"c:\\users\\laf62\\code\\python-microscopy\\PYME\\ui\\custom_traits_editors.py\", line 465, in n_update\n",
      "    self.update_editor()\n",
      "  File \"c:\\users\\laf62\\code\\python-microscopy\\PYME\\ui\\custom_traits_editors.py\", line 477, in update_editor\n",
      "    self.control.SetData(self.factory.data(), *self.value)\n",
      "AttributeError: 'NoneType' object has no attribute 'SetData'\n",
      "ERROR:traits:Exception occurred in traits notification handler for object: <PYME.LMVis.layers.pointcloud.PointCloudRenderLayer object at 0x0000019D2FD45588>, trait: visible, old value: True, new value: False\n",
      "Traceback (most recent call last):\n",
      "  File \"C:\\Users\\laf62\\.conda\\envs\\pyme\\lib\\site-packages\\traits\\trait_notifiers.py\", line 524, in _dispatch_change_event\n",
      "    self.dispatch(handler, *args)\n",
      "  File \"C:\\Users\\laf62\\.conda\\envs\\pyme\\lib\\site-packages\\traits\\trait_notifiers.py\", line 486, in dispatch\n",
      "    handler(*args)\n",
      "  File \"c:\\users\\laf62\\code\\python-microscopy\\PYME\\ui\\layerFoldPanel.py\", line 118, in _refresh\n",
      "    self.Refresh()\n",
      "RuntimeError: wrapped C/C++ object of type LayerCaptionBar has been deleted\n"
     ]
    },
    {
     "name": "stdout",
     "output_type": "stream",
     "text": [
      "hl update\n",
      "lw update\n",
      "lw update\n",
      "hl update\n",
      "lw update\n",
      "lw update\n",
      "hl update\n",
      "Viewport:  (1009, 894)\n"
     ]
    }
   ],
   "source": [
    "# Surface in Z\n",
    "pymevis.glCanvas.layers[0].visible = False\n",
    "pymevis.glCanvas.layers[-1].visible = True\n",
    "pymevis.glCanvas.layers[-1].cmap = 'gist_rainbow'\n",
    "pymevis.glCanvas.layers[-1].vertexColour = 'z'\n",
    "pymevis.glCanvas.layers[-1].clim = [-800,0]\n",
    "pymevis.glCanvas.Refresh()\n",
    "\n",
    "# Save screenshot\n",
    "from PIL import Image\n",
    "snap = pymevis.glCanvas.getSnapshot().transpose(1,0,2)\n",
    "Image.fromarray(snap).transpose(Image.FLIP_TOP_BOTTOM).save('All_surface_Z.png')\n"
   ]
  },
  {
   "cell_type": "code",
   "execution_count": 12,
   "id": "c22b4e90",
   "metadata": {},
   "outputs": [
    {
     "name": "stdout",
     "output_type": "stream",
     "text": [
      "Viewport:  (1009, 894)\n"
     ]
    }
   ],
   "source": [
    "# ROI screenshot of surface in Z\n",
    "\n",
    "# optionally zoom\n",
    "rescale = 4\n",
    "# optionally translate\n",
    "dx, dy, dz = -7000, 0, 0\n",
    "pymevis.glCanvas.view.scale *= rescale\n",
    "pymevis.glCanvas.view.translation[0] += dx* (1. - 1. / rescale)\n",
    "pymevis.glCanvas.view.translation[1] += dy* (1. - 1. / rescale)\n",
    "pymevis.glCanvas.view.translation[2] += dz* (1. - 1. / rescale)\n",
    "\n",
    "pymevis.glCanvas.Refresh()\n",
    "# Save screenshot\n",
    "from PIL import Image\n",
    "snap = pymevis.glCanvas.getSnapshot().transpose(1,0,2)\n",
    "Image.fromarray(snap).transpose(Image.FLIP_TOP_BOTTOM).save('All_surface_Z_ROI.png')"
   ]
  },
  {
   "cell_type": "code",
   "execution_count": 13,
   "id": "da342227",
   "metadata": {},
   "outputs": [],
   "source": [
    "pymevis.glCanvas.view.scale *= 1/rescale\n",
    "pymevis.glCanvas.view.translation[0] += -dx* (1. - 1. / rescale)\n",
    "pymevis.glCanvas.view.translation[1] += -dy* (1. - 1. / rescale) #6750\n",
    "pymevis.glCanvas.view.translation[2] += -dz/ (1. - 1. / rescale)\n",
    "pymevis.glCanvas.Refresh()\n",
    "del dx, dy, dz"
   ]
  },
  {
   "cell_type": "code",
   "execution_count": 14,
   "id": "9b305514",
   "metadata": {},
   "outputs": [
    {
     "name": "stdout",
     "output_type": "stream",
     "text": [
      "lw update\n",
      "lw update\n",
      "hl update\n",
      "lw update\n",
      "lw update\n",
      "hl update\n",
      "Viewport:  (1009, 894)\n"
     ]
    }
   ],
   "source": [
    "# Surface by curvature\n",
    "pymevis.glCanvas.layers[0].visible = False\n",
    "pymevis.glCanvas.layers[-1].visible = True\n",
    "pymevis.glCanvas.layers[-1].cmap = 'RdBu'\n",
    "pymevis.glCanvas.layers[-1].vertexColour = 'curvature_mean'\n",
    "pymevis.glCanvas.layers[-1].clim = [-0.01,0.01]\n",
    "pymevis.glCanvas.Refresh()\n",
    "\n",
    "# Save screenshot\n",
    "from PIL import Image\n",
    "snap = pymevis.glCanvas.getSnapshot().transpose(1,0,2)\n",
    "Image.fromarray(snap).transpose(Image.FLIP_TOP_BOTTOM).save('All_surface_curvature.png')"
   ]
  },
  {
   "cell_type": "code",
   "execution_count": 15,
   "id": "9803df24",
   "metadata": {},
   "outputs": [
    {
     "name": "stdout",
     "output_type": "stream",
     "text": [
      "Viewport:  (1009, 894)\n"
     ]
    }
   ],
   "source": [
    "# ROI screenshot of surface by curvature\n",
    "\n",
    "# optionally zoom\n",
    "rescale = 4\n",
    "# optionally translate\n",
    "dx, dy, dz = -5000, 9000, 0\n",
    "pymevis.glCanvas.view.scale *= rescale\n",
    "pymevis.glCanvas.view.translation[0] += dx* (1. - 1. / rescale)\n",
    "pymevis.glCanvas.view.translation[1] += dy* (1. - 1. / rescale)\n",
    "pymevis.glCanvas.view.translation[2] += dz* (1. - 1. / rescale)\n",
    "\n",
    "pymevis.glCanvas.Refresh()\n",
    "# Save screenshot\n",
    "from PIL import Image\n",
    "snap = pymevis.glCanvas.getSnapshot().transpose(1,0,2)\n",
    "Image.fromarray(snap).transpose(Image.FLIP_TOP_BOTTOM).save('All_surface_curvature_ROI.png')"
   ]
  },
  {
   "cell_type": "code",
   "execution_count": 16,
   "id": "356fb84a",
   "metadata": {},
   "outputs": [],
   "source": [
    "pymevis.glCanvas.view.scale *= 1/rescale\n",
    "pymevis.glCanvas.view.translation[0] += -dx* (1. - 1. / rescale)\n",
    "pymevis.glCanvas.view.translation[1] += -dy* (1. - 1. / rescale) #6750\n",
    "pymevis.glCanvas.view.translation[2] += -dz/ (1. - 1. / rescale)\n",
    "pymevis.glCanvas.Refresh()\n",
    "del dx, dy, dz"
   ]
  },
  {
   "cell_type": "code",
   "execution_count": 20,
   "id": "da7f404c",
   "metadata": {},
   "outputs": [],
   "source": [
    "# now display the snapshots on top of each over - with ROIs\n",
    "points_z_img = Image.open('All_points_Z.png')\n",
    "mesh_z_img = Image.open('All_surface_Z.png')\n",
    "mesh_curv_img = Image.open('All_surface_curvature.png')\n",
    "points_z_roi = Image.open('All_points_Z_ROI.png')\n",
    "mesh_z_roi = Image.open('All_surface_Z_ROI.png')\n",
    "mesh_curv_roi = Image.open('All_surface_curvature_ROI.png')\n",
    "img_x, img_y = points_z_img.size\n",
    "img_y_third = int(img_y/3)\n",
    "\n",
    "import matplotlib.pyplot as plt\n",
    "\n",
    "z_center = int(pymevis.glCanvas.view_port_size[0]//2)\n",
    "z_size = int((np.max(pymevis.pipeline['z'])-np.min(pymevis.pipeline['z']))//2//5)\n",
    "fig, axs = plt.subplots(3,2, figsize=(8,8))\n",
    "axs[0,0].imshow(points_z_img.crop((80,0,img_x-70,img_y_third)))\n",
    "axs[1,0].imshow(mesh_z_img.crop((80,img_y_third,img_x-70,2*img_y_third)))\n",
    "axs[2,0].imshow(mesh_curv_img.crop((80,2*img_y_third,img_x-70,3*img_y_third)))\n",
    "axs[0,1].imshow(points_z_roi)\n",
    "axs[1,1].imshow(mesh_z_roi)\n",
    "axs[2,1].imshow(mesh_curv_roi)\n",
    "# axs[1,0].imshow(front_img_points.crop((0, z_center-z_size, pymevis.glCanvas.view_port_size[1], z_center+z_size)))\n",
    "\n",
    "\n",
    "axs[0,0].set_axis_off()\n",
    "axs[1,0].set_axis_off()\n",
    "axs[2,0].set_axis_off()\n",
    "# plt.axis('equal')\n",
    "\n",
    "plt.subplots_adjust(wspace=None, hspace=-0.17)\n",
    "# for 1 pixel gap use hspace=-0.16; for no gap use hspace=-0.17\n",
    "\n",
    "fig.tight_layout()\n",
    "fig.savefig('testing_fig3.png', dpi=900)"
   ]
  },
  {
   "cell_type": "code",
   "execution_count": 23,
   "id": "8fd9d3b1",
   "metadata": {},
   "outputs": [],
   "source": [
    "# now display the snapshots on top of each over - no ROIs\n",
    "points_z_img = Image.open('All_points_Z.png')\n",
    "mesh_z_img = Image.open('All_surface_Z.png')\n",
    "mesh_curv_img = Image.open('All_surface_curvature.png')\n",
    "img_x, img_y = points_z_img.size\n",
    "img_y_third = int(img_y/3)\n",
    "\n",
    "import matplotlib.pyplot as plt\n",
    "\n",
    "z_center = int(pymevis.glCanvas.view_port_size[0]//2)\n",
    "z_size = int((np.max(pymevis.pipeline['z'])-np.min(pymevis.pipeline['z']))//2//5)\n",
    "fig, axs = plt.subplots(3,1, figsize=(8,8))\n",
    "axs[0].imshow(points_z_img.crop((80,0,img_x-70,img_y_third)))\n",
    "axs[1].imshow(mesh_z_img.crop((80,img_y_third,img_x-70,2*img_y_third)))\n",
    "axs[2].imshow(mesh_curv_img.crop((80,2*img_y_third,img_x-70,3*img_y_third)))\n",
    "# axs[1,0].imshow(front_img_points.crop((0, z_center-z_size, pymevis.glCanvas.view_port_size[1], z_center+z_size)))\n",
    "\n",
    "\n",
    "axs[0].set_axis_off()\n",
    "axs[1].set_axis_off()\n",
    "axs[2].set_axis_off()\n",
    "# plt.axis('equal')\n",
    "\n",
    "plt.subplots_adjust(wspace=None, hspace=-0.17)\n",
    "# for 1 pixel gap use hspace=-0.16; for no gap use hspace=-0.17\n",
    "\n",
    "fig.tight_layout()\n",
    "fig.savefig('Fig3_', dpi=900)"
   ]
  },
  {
   "cell_type": "code",
   "execution_count": 32,
   "id": "2a407218",
   "metadata": {},
   "outputs": [],
   "source": [
    "# now display the snapshots on top of each over - ROIs only\n",
    "points_z_roi = Image.open('All_points_Z_ROI.png')\n",
    "mesh_z_roi = Image.open('All_surface_Z_ROI.png')\n",
    "mesh_curv_roi = Image.open('All_surface_curvature_ROI.png')\n",
    "img_x, img_y = points_z_img.size\n",
    "img_y_third = int(img_y/3)\n",
    "\n",
    "import matplotlib.pyplot as plt\n",
    "\n",
    "z_center = int(pymevis.glCanvas.view_port_size[0]//2)\n",
    "z_size = int((np.max(pymevis.pipeline['z'])-np.min(pymevis.pipeline['z']))//2//5)\n",
    "fig, axs = plt.subplots(3,1, figsize=(8,8))\n",
    "axs[0].imshow(points_z_roi)\n",
    "axs[1].imshow(mesh_z_roi)\n",
    "axs[2].imshow(mesh_curv_roi)\n",
    "# axs[1,0].imshow(front_img_points.crop((0, z_center-z_size, pymevis.glCanvas.view_port_size[1], z_center+z_size)))\n",
    "\n",
    "\n",
    "axs[0].set_axis_off()\n",
    "axs[1].set_axis_off()\n",
    "axs[2].set_axis_off()\n",
    "# plt.axis('equal')\n",
    "\n",
    "plt.subplots_adjust(wspace=None, hspace=-0.95)\n",
    "# for 1 pixel gap use hspace=-0.16; for no gap use hspace=-0.17\n",
    "\n",
    "fig.tight_layout()\n",
    "fig.savefig('testing_fig3.png', dpi=600)"
   ]
  },
  {
   "cell_type": "code",
   "execution_count": null,
   "id": "c27bd2b6",
   "metadata": {
    "scrolled": true
   },
   "outputs": [],
   "source": [
    "# optionally zoom\n",
    "rescale = 4\n",
    "# optionally translate\n",
    "dx, dy, dz = 0, -3100, 0\n",
    "# dx, dy, dz = 0, -9600, 0\n",
    "# dx, dy, dz = 0, 2000, 0\n",
    "pymevis.glCanvas.view.scale *= rescale\n",
    "pymevis.glCanvas.view.translation[0] += dx* (1. - 1. / rescale)\n",
    "pymevis.glCanvas.view.translation[1] += dy* (1. - 1. / rescale)\n",
    "pymevis.glCanvas.view.translation[2] += dz* (1. - 1. / rescale)\n",
    "\n",
    "\n",
    "# change layer properties to show mesh and points\n",
    "pymevis.glCanvas.layers[0].cmap = 'SolidGreen'\n",
    "# pymevis.glCanvas.layers[0].method = 'spheres'\n",
    "pymevis.glCanvas.layers[0].method = 'pointsprites'\n",
    "pymevis.glCanvas.layers[0].point_size = 20\n",
    "pymevis.glCanvas.layers[0].alpha = 0.05\n",
    "pymevis.glCanvas.LUTDraw = False\n",
    "pymevis.glCanvas.layers[-1].visible = False\n",
    "pymevis.glCanvas.Refresh()\n",
    "# pymevis.glCanvas.layers[0].update()"
   ]
  },
  {
   "cell_type": "code",
   "execution_count": null,
   "id": "bfd066e8",
   "metadata": {},
   "outputs": [],
   "source": [
    "# take points\n",
    "from PIL import Image\n",
    "snap = pymevis.glCanvas.getSnapshot().transpose(1,0,2)\n",
    "Image.fromarray(snap).transpose(Image.FLIP_TOP_BOTTOM).save('top_view_points.png')"
   ]
  },
  {
   "cell_type": "code",
   "execution_count": null,
   "id": "7424d6e9",
   "metadata": {},
   "outputs": [],
   "source": [
    "pymevis.glCanvas.layers[0].visible = False\n",
    "pymevis.glCanvas.layers[-1].visible = True\n",
    "pymevis.glCanvas.Refresh()"
   ]
  },
  {
   "cell_type": "code",
   "execution_count": null,
   "id": "bb7aaa69",
   "metadata": {},
   "outputs": [],
   "source": [
    "# take a snapshot\n",
    "from PIL import Image\n",
    "snap = pymevis.glCanvas.getSnapshot().transpose(1,0,2)\n",
    "Image.fromarray(snap).transpose(Image.FLIP_TOP_BOTTOM).save('top_view_mesh.png')"
   ]
  },
  {
   "cell_type": "code",
   "execution_count": null,
   "id": "f47eadaa",
   "metadata": {},
   "outputs": [],
   "source": [
    "# Clip y to central region to show tubule cutaway\n",
    "# clipping_dtype = [('x', '<f4', (2,)), ('y', '<f4', (2,)), ('z', '<f4', (2,)), ('v', '<f4', (2,))]\n",
    "# dummy_clipping = np.array([-1e6, 1e6, -1e6, 1e6, -1e6, 1e6, -1e6, 1e6], 'f4').view(clipping_dtype)\n",
    "# y_center = (pymevis.glCanvas.bounds['y'][0][1]+pymevis.glCanvas.bounds['y'][0][0])/2-dy\n",
    "dummy_clipping = pymevis.glCanvas.view.clipping\n",
    "# y_center = (dummy_clipping['y'][0][0] + dummy_clipping['y'][0][1])/2 + dy* (1. - 1. / rescale)\n",
    "y_center = (np.min(pipeline['y'])+np.max(pipeline['y']))/2+dy*(1. - 1. / rescale)\n",
    "dummy_clipping['y'][0][0] = y_center-30.0 # lower limit\n",
    "dummy_clipping['y'][0][1] = y_center+30.0 # upper limit\n",
    "pymevis.glCanvas.view.clipping = dummy_clipping\n",
    "pymevis.glCanvas.layers[0].visible = True\n",
    "pymevis.glCanvas.layers[0].method = 'spheres'\n",
    "pymevis.glCanvas.layers[0].point_size = 10\n",
    "pymevis.glCanvas.Refresh()"
   ]
  },
  {
   "cell_type": "code",
   "execution_count": null,
   "id": "4ee1f4f1",
   "metadata": {},
   "outputs": [],
   "source": [
    "# switch to front view\n",
    "def view_front(glCanvas):\n",
    "    glCanvas.view.vec_up=np.array([0,0,-1])\n",
    "    glCanvas.view.vec_back = np.array([0,-1,0])\n",
    "    glCanvas.view.vec_right = np.array([1,0,0])\n",
    "    glCanvas.displayMode = '3D'\n",
    "    glCanvas.Refresh()\n",
    "\n",
    "view_front(pymevis.glCanvas)"
   ]
  },
  {
   "cell_type": "code",
   "execution_count": null,
   "id": "094c87f4",
   "metadata": {},
   "outputs": [],
   "source": [
    "# side view snapshot\n",
    "snap = pymevis.glCanvas.getSnapshot().transpose(1,0,2)\n",
    "Image.fromarray(snap).transpose(Image.FLIP_TOP_BOTTOM).save('front_view_mesh.png')"
   ]
  },
  {
   "cell_type": "code",
   "execution_count": null,
   "id": "b3039043",
   "metadata": {},
   "outputs": [],
   "source": [
    "pymevis.glCanvas.layers[-1].visible = False\n",
    "pymevis.glCanvas.layers[0].method = 'pointsprites'\n",
    "pymevis.glCanvas.layers[0].point_size = 20\n",
    "pymevis.glCanvas.layers[0].alpha = 0.05\n",
    "pymevis.glCanvas.Refresh()"
   ]
  },
  {
   "cell_type": "code",
   "execution_count": null,
   "id": "f367d2b4",
   "metadata": {},
   "outputs": [],
   "source": [
    "# side view snapshot\n",
    "snap = pymevis.glCanvas.getSnapshot().transpose(1,0,2)\n",
    "Image.fromarray(snap).transpose(Image.FLIP_TOP_BOTTOM).save('front_view_points.png')"
   ]
  },
  {
   "cell_type": "code",
   "execution_count": null,
   "id": "e0f23a25",
   "metadata": {},
   "outputs": [],
   "source": [
    "# now display the snapshots on top of each over\n",
    "top_img_mesh = Image.open('top_view_mesh.png')\n",
    "front_img_mesh = Image.open('front_view_mesh.png')\n",
    "top_img_points = Image.open('top_view_points.png')\n",
    "front_img_points = Image.open('front_view_points.png')\n",
    "\n",
    "import matplotlib.pyplot as plt\n",
    "\n",
    "z_center = int(pymevis.glCanvas.view_port_size[0]//2)\n",
    "z_size = int((np.max(pymevis.pipeline['z'])-np.min(pymevis.pipeline['z']))//2//5)\n",
    "fig, axs = plt.subplots(2,2, figsize=(8,8))\n",
    "axs[0,0].imshow(top_img_points)\n",
    "axs[0,1].imshow(top_img_mesh)\n",
    "axs[1,0].imshow(front_img_points.crop((0, z_center-z_size, pymevis.glCanvas.view_port_size[1], z_center+z_size)))\n",
    "axs[1,1].imshow(front_img_mesh.crop((0, z_center-z_size, pymevis.glCanvas.view_port_size[1], z_center+z_size)))\n",
    "\n",
    "axs[0,0].set_axis_off()\n",
    "axs[0,1].set_axis_off()\n",
    "axs[1,0].set_axis_off()\n",
    "axs[1,1].set_axis_off()\n",
    "# plt.axis('equal')\n",
    "plt.subplots_adjust(wspace=0, hspace=-0.5)\n",
    "fig.tight_layout()"
   ]
  },
  {
   "cell_type": "code",
   "execution_count": null,
   "id": "bad02572",
   "metadata": {},
   "outputs": [],
   "source": [
    "fig.savefig('wrapped_er_4pi.png', dpi=600)"
   ]
  },
  {
   "cell_type": "code",
   "execution_count": null,
   "id": "e20a24ba",
   "metadata": {},
   "outputs": [],
   "source": [
    "pymevis.glCanvas.view.translation"
   ]
  },
  {
   "cell_type": "code",
   "execution_count": null,
   "id": "2d869601",
   "metadata": {},
   "outputs": [],
   "source": [
    "dummy_clipping"
   ]
  },
  {
   "cell_type": "code",
   "execution_count": null,
   "id": "a61217a6",
   "metadata": {},
   "outputs": [],
   "source": [
    "pymevis.glCanvas.view.translation[1]"
   ]
  },
  {
   "cell_type": "code",
   "execution_count": null,
   "id": "2c56afe7",
   "metadata": {},
   "outputs": [],
   "source": []
  }
 ],
 "metadata": {
  "kernelspec": {
   "display_name": "pyme",
   "language": "python",
   "name": "pyme"
  },
  "language_info": {
   "codemirror_mode": {
    "name": "ipython",
    "version": 3
   },
   "file_extension": ".py",
   "mimetype": "text/x-python",
   "name": "python",
   "nbconvert_exporter": "python",
   "pygments_lexer": "ipython3",
   "version": "3.7.9"
  }
 },
 "nbformat": 4,
 "nbformat_minor": 5
}
