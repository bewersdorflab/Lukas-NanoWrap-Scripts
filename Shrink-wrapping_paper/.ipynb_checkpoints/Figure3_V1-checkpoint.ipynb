{
 "cells": [
  {
   "cell_type": "code",
   "execution_count": 1,
   "id": "de527fc8",
   "metadata": {
    "jupyter": {
     "outputs_hidden": true
    },
    "tags": []
   },
   "outputs": [
    {
     "name": "stderr",
     "output_type": "stream",
     "text": [
      "ERROR:PYME.recipes.modules:Error loading plugin: nep_fitting.recipe_modules.nep_fits\n",
      "Traceback (most recent call last):\n",
      "  File \"c:\\users\\laf62\\code\\python-microscopy\\PYME\\recipes\\modules.py\", line 42, in <module>\n",
      "    m = __import__(mn, fromlist=mn.split('.')[:-1])\n",
      "  File \"C:\\Users\\laf62\\.conda\\envs\\pyme\\lib\\site-packages\\nep_fitting-1.9-py3.7.egg\\nep_fitting\\recipe_modules\\nep_fits.py\", line 9, in <module>\n",
      "    from nep_fitting.core.handlers import LineProfileHandler, RegionHandler\n",
      "  File \"C:\\Users\\laf62\\.conda\\envs\\pyme\\lib\\site-packages\\nep_fitting-1.9-py3.7.egg\\nep_fitting\\core\\handlers.py\", line 6, in <module>\n",
      "    import dispatch\n",
      "ModuleNotFoundError: No module named 'dispatch'\n"
     ]
    },
    {
     "name": "stdout",
     "output_type": "stream",
     "text": [
      "Trying to load 3rd party recipe module cc_drift_cor.plugins.recipes.io\n",
      "Loaded 3rd party recipe module cc_drift_cor.plugins.recipes.io\n",
      "Trying to load 3rd party recipe module nep_fitting.recipe_modules.nep_fits\n",
      "Trying to load 3rd party recipe module cc_drift_cor.plugins.recipes.chung_cc\n",
      "Loaded 3rd party recipe module cc_drift_cor.plugins.recipes.chung_cc\n",
      "Trying to load 3rd party recipe module cc_drift_cor.plugins.recipes.localisations\n",
      "Loaded 3rd party recipe module cc_drift_cor.plugins.recipes.localisations\n",
      "Trying to load 3rd party recipe module cc_drift_cor.plugins.recipes.processing\n",
      "Loaded 3rd party recipe module cc_drift_cor.plugins.recipes.processing\n",
      "Trying to load 3rd party recipe module ch_shrinkwrap.recipe_modules.surface_fitting\n",
      "Loaded 3rd party recipe module ch_shrinkwrap.recipe_modules.surface_fitting\n",
      "Trying to load 3rd party recipe module pyme_picasso.recipe_modules.conversion\n",
      "Loaded 3rd party recipe module pyme_picasso.recipe_modules.conversion\n",
      "Trying to load 3rd party recipe module ch_shrinkwrap.recipe_modules.surface_feature_extraction\n",
      "Loaded 3rd party recipe module ch_shrinkwrap.recipe_modules.surface_feature_extraction\n",
      "Trying to load 3rd party recipe module pyme_4pi.recipe_modules.conversion\n",
      "Loaded 3rd party recipe module pyme_4pi.recipe_modules.conversion\n",
      "Detected a .git folder, assuming a development install\n",
      "quaternion module not found, disabling custom clip plane orientations\n"
     ]
    }
   ],
   "source": [
    "from PYME.LMVis import VisGUI\n",
    "\n",
    "from PYME.IO import tabular\n",
    "import numpy as np\n",
    "\n",
    "from ch_shrinkwrap import _membrane_mesh as membrane_mesh\n",
    "from PYME.LMVis.layers.mesh import TriangleRenderLayer\n",
    "\n",
    "%gui wx"
   ]
  },
  {
   "cell_type": "code",
   "execution_count": 2,
   "id": "3e8a80f8",
   "metadata": {
    "scrolled": true
   },
   "outputs": [
    {
     "name": "stderr",
     "output_type": "stream",
     "text": [
      "DEBUG:PYME.LMVis.visCore:Creating VisGUI menu bar\n",
      "DEBUG:PYME.LMVis.Extras:Initializing QPobjectSegment plugin\n"
     ]
    },
    {
     "name": "stdout",
     "output_type": "stream",
     "text": [
      "quaternion module not found, disabling custom clip plane orientations\n",
      "New Canvas\n"
     ]
    },
    {
     "name": "stderr",
     "output_type": "stream",
     "text": [
      "DEBUG:PYME.LMVis.Extras:Initializing animation plugin\n",
      "DEBUG:PYME.LMVis.Extras:Initializing clusterAnalysis plugin\n",
      "DEBUG:PYME.LMVis.Extras:Initializing dockedPanel plugin\n",
      "DEBUG:PYME.LMVis.Extras:Initializing extra_layers plugin\n",
      "DEBUG:PYME.LMVis.Extras:Initializing fiducial plugin\n",
      "DEBUG:PYME.LMVis.Extras:Initializing flagZMotionArtifacts plugin\n",
      "DEBUG:root:Adding menu items for event filters\n",
      "DEBUG:PYME.LMVis.Extras:Initializing fusionUtils plugin\n",
      "DEBUG:PYME.LMVis.Extras:Initializing multiColourAnalysis plugin\n",
      "DEBUG:PYME.LMVis.Extras:Initializing multiviewMapping plugin\n",
      "DEBUG:root:Adding menu items for multi-view manipulation\n",
      "DEBUG:PYME.LMVis.Extras:Initializing objectMeasurements plugin\n",
      "DEBUG:PYME.LMVis.Extras:Initializing particleTracking plugin\n",
      "DEBUG:PYME.LMVis.Extras:Initializing perFrameVariable plugin\n",
      "DEBUG:PYME.LMVis.Extras:Initializing photophysics plugin\n",
      "DEBUG:PYME.LMVis.Extras:Initializing pointSetGeneration plugin\n",
      "DEBUG:PYME.LMVis.Extras:Initializing pointwiseColoc plugin\n",
      "DEBUG:PYME.LMVis.Extras:Initializing saved_views plugin\n",
      "DEBUG:PYME.LMVis.Extras:Initializing scaleBox plugin\n",
      "DEBUG:PYME.LMVis.Extras:Initializing sequentialSpecies plugin\n",
      "DEBUG:PYME.LMVis.Extras:Initializing setBGImage plugin\n",
      "DEBUG:PYME.LMVis.Extras:Initializing shiftmapGenerator plugin\n",
      "DEBUG:PYME.LMVis.Extras:Initializing showShortcuts plugin\n",
      "DEBUG:PYME.LMVis.Extras:Initializing snapshot plugin\n",
      "DEBUG:PYME.LMVis.Extras:Initializing spherical_harmonics plugin\n",
      "DEBUG:root:Adding menu items for spherical harmonic (shell) fitting\n",
      "DEBUG:PYME.LMVis.Extras:Initializing subsets plugin\n",
      "DEBUG:PYME.LMVis.Extras:Initializing surface_fitting plugin\n",
      "DEBUG:PYME.LMVis.Extras:Initializing temperaturePlot plugin\n",
      "DEBUG:PYME.LMVis.Extras:Initializing vibration plugin\n"
     ]
    },
    {
     "name": "stdout",
     "output_type": "stream",
     "text": [
      "Saved Views are deprecated -  use the ones with animation instead and remove me!\n",
      "Creating fold panel\n",
      "GenPanels\n",
      "Creating datasource panel\n",
      "RecipeView._layout\n",
      "Input datasources:  []\n",
      "Image list size: 1\n",
      "Creating layers GUI\n",
      "height:  0\n",
      "NB best size: wx.Size(200, 0)\n",
      "RecipeView._layout\n"
     ]
    },
    {
     "ename": "RuntimeError",
     "evalue": "wrapped C/C++ object of type foldPanel has been deleted",
     "output_type": "error",
     "traceback": [
      "\u001b[1;31m---------------------------------------------------------------------------\u001b[0m",
      "\u001b[1;31mRuntimeError\u001b[0m                              Traceback (most recent call last)",
      "\u001b[1;32mc:\\users\\laf62\\code\\python-microscopy\\PYME\\ui\\manualFoldPanel.py\u001b[0m in \u001b[0;36mOnResize\u001b[1;34m(self, event)\u001b[0m\n\u001b[0;32m    760\u001b[0m \u001b[1;33m\u001b[0m\u001b[0m\n\u001b[0;32m    761\u001b[0m     \u001b[1;32mdef\u001b[0m \u001b[0mOnResize\u001b[0m\u001b[1;33m(\u001b[0m\u001b[0mself\u001b[0m\u001b[1;33m,\u001b[0m \u001b[0mevent\u001b[0m\u001b[1;33m)\u001b[0m\u001b[1;33m:\u001b[0m\u001b[1;33m\u001b[0m\u001b[1;33m\u001b[0m\u001b[0m\n\u001b[1;32m--> 762\u001b[1;33m         \u001b[1;32mif\u001b[0m \u001b[1;33m(\u001b[0m\u001b[1;32mnot\u001b[0m \u001b[0mself\u001b[0m\u001b[1;33m.\u001b[0m\u001b[0m_in_fold1\u001b[0m\u001b[1;33m)\u001b[0m \u001b[1;32mand\u001b[0m \u001b[0mself\u001b[0m\u001b[1;33m.\u001b[0m\u001b[0mIsShownOnScreen\u001b[0m\u001b[1;33m(\u001b[0m\u001b[1;33m)\u001b[0m\u001b[1;33m:\u001b[0m\u001b[1;33m\u001b[0m\u001b[1;33m\u001b[0m\u001b[0m\n\u001b[0m\u001b[0;32m    763\u001b[0m             \u001b[0mself\u001b[0m\u001b[1;33m.\u001b[0m\u001b[0mfold1\u001b[0m\u001b[1;33m(\u001b[0m\u001b[1;33m)\u001b[0m\u001b[1;33m\u001b[0m\u001b[1;33m\u001b[0m\u001b[0m\n\u001b[0;32m    764\u001b[0m \u001b[1;33m\u001b[0m\u001b[0m\n",
      "\u001b[1;31mRuntimeError\u001b[0m: wrapped C/C++ object of type foldPanel has been deleted"
     ]
    },
    {
     "name": "stdout",
     "output_type": "stream",
     "text": [
      "Input datasources:  []\n",
      "recipe.execute()\n",
      "RecipeView._layout\n"
     ]
    },
    {
     "ename": "RuntimeError",
     "evalue": "wrapped C/C++ object of type foldPanel has been deleted",
     "output_type": "error",
     "traceback": [
      "\u001b[1;31m---------------------------------------------------------------------------\u001b[0m",
      "\u001b[1;31mRuntimeError\u001b[0m                              Traceback (most recent call last)",
      "\u001b[1;32mc:\\users\\laf62\\code\\python-microscopy\\PYME\\ui\\manualFoldPanel.py\u001b[0m in \u001b[0;36mOnResize\u001b[1;34m(self, event)\u001b[0m\n\u001b[0;32m    760\u001b[0m \u001b[1;33m\u001b[0m\u001b[0m\n\u001b[0;32m    761\u001b[0m     \u001b[1;32mdef\u001b[0m \u001b[0mOnResize\u001b[0m\u001b[1;33m(\u001b[0m\u001b[0mself\u001b[0m\u001b[1;33m,\u001b[0m \u001b[0mevent\u001b[0m\u001b[1;33m)\u001b[0m\u001b[1;33m:\u001b[0m\u001b[1;33m\u001b[0m\u001b[1;33m\u001b[0m\u001b[0m\n\u001b[1;32m--> 762\u001b[1;33m         \u001b[1;32mif\u001b[0m \u001b[1;33m(\u001b[0m\u001b[1;32mnot\u001b[0m \u001b[0mself\u001b[0m\u001b[1;33m.\u001b[0m\u001b[0m_in_fold1\u001b[0m\u001b[1;33m)\u001b[0m \u001b[1;32mand\u001b[0m \u001b[0mself\u001b[0m\u001b[1;33m.\u001b[0m\u001b[0mIsShownOnScreen\u001b[0m\u001b[1;33m(\u001b[0m\u001b[1;33m)\u001b[0m\u001b[1;33m:\u001b[0m\u001b[1;33m\u001b[0m\u001b[1;33m\u001b[0m\u001b[0m\n\u001b[0m\u001b[0;32m    763\u001b[0m             \u001b[0mself\u001b[0m\u001b[1;33m.\u001b[0m\u001b[0mfold1\u001b[0m\u001b[1;33m(\u001b[0m\u001b[1;33m)\u001b[0m\u001b[1;33m\u001b[0m\u001b[1;33m\u001b[0m\u001b[0m\n\u001b[0;32m    764\u001b[0m \u001b[1;33m\u001b[0m\u001b[0m\n",
      "\u001b[1;31mRuntimeError\u001b[0m: wrapped C/C++ object of type foldPanel has been deleted"
     ]
    },
    {
     "name": "stdout",
     "output_type": "stream",
     "text": [
      "Input datasources:  []\n",
      "0\n",
      "OpenGL - Version: b'4.6.0 NVIDIA 456.71'\n",
      "Shader - Version: b'4.60 NVIDIA'\n",
      "GL.GL_MAX_SAMPLES: 32, GL.GL_SAMPLES: 4\n"
     ]
    },
    {
     "name": "stderr",
     "output_type": "stream",
     "text": [
      "DEBUG:PYME.LMVis.shader_programs.ShaderProgramFactory:New shader program created: <class 'PYME.LMVis.shader_programs.DefaultShaderProgram.DefaultShaderProgram'>\n"
     ]
    },
    {
     "name": "stdout",
     "output_type": "stream",
     "text": [
      "Ev Idle\n",
      "('points', 't')\n",
      "refreshed\n"
     ]
    }
   ],
   "source": [
    "pymevis = VisGUI.ipython_pymevisualize()\n",
    "pipeline = pymevis.pipeline"
   ]
  },
  {
   "cell_type": "code",
   "execution_count": null,
   "id": "29467fe6",
   "metadata": {},
   "outputs": [],
   "source": [
    "points_fn = '20210907_U2OS-Rtn4-Ab+mCh-Sec61B-Nano/Cell02_mapped.hdf'\n",
    "points_fn = '/Users/zrc4/Downloads/test_er_data.hdf'\n",
    "points_fn = 'Cell10_642v20_60_two_color.hdf'\n",
    "# points_fn = 'F:\\\\Shrink-wrapping paper\\\\4Pi\\\\20220404_U2OS-mCh-Sec61B-TOMM20_two-color-STORM_1\\\\Cell06_mapped-best.hdf'\n",
    "# points_fn = 'filtered.hdf'\n",
    "er_chan = 'chan1'\n",
    "rtn4_chan = 'chan0'\n",
    "\n",
    "mesh_fn = '20210907_U2OS-Rtn4-Ab+mCh-Sec61B-Nano/er_data_wrapped.stl'\n",
    "# mesh_fn = '/Users/zrc4/Downloads/test_er_data.stl'\n",
    "mesh_fn = 'Cell10_wrapped_good.stl'\n",
    "# mesh_fn = 'er_wrapped_good.stl'\n",
    "# mesh_fn = 'F:\\\\Shrink-wrapping paper\\\\4Pi\\\\20220404_U2OS-mCh-Sec61B-TOMM20_two-color-STORM_1\\\\cell06_ER_shrink-wrap.stl'\n"
   ]
  },
  {
   "cell_type": "code",
   "execution_count": null,
   "id": "b6f56b76",
   "metadata": {
    "jupyter": {
     "outputs_hidden": true
    },
    "tags": []
   },
   "outputs": [],
   "source": [
    "# Open the points\n",
    "pymevis.OpenFile(points_fn)"
   ]
  },
  {
   "cell_type": "code",
   "execution_count": null,
   "id": "a027d30f",
   "metadata": {
    "tags": []
   },
   "outputs": [],
   "source": [
    "mesh = membrane_mesh.MembraneMesh.from_stl(mesh_fn)\n",
    "\n",
    "mesh_name = pipeline.new_ds_name('er')\n",
    "pipeline.recipe.namespace[mesh_name] = mesh\n",
    "layer = TriangleRenderLayer(pipeline, dsname=mesh_name, method='shaded', cmap = 'SolidMagenta')\n",
    "pymevis.add_layer(layer)"
   ]
  },
  {
   "cell_type": "code",
   "execution_count": null,
   "id": "886f5c60",
   "metadata": {
    "scrolled": true
   },
   "outputs": [],
   "source": [
    "# Import ExtractTableChannel Recipe\n",
    "from PYME.recipes.localisations import ExtractTableChannel\n",
    "recipe = pipeline.recipe\n",
    "\n",
    "# Extract ER points\n",
    "recipe.add_modules_and_execute([ExtractTableChannel(recipe, inputName = 'filtered_localizations', outputName = 'er',\n",
    "                                                    channel = er_chan)])\n",
    "\n",
    "# Extract Rtn4 points\n",
    "recipe.add_modules_and_execute([ExtractTableChannel(recipe, inputName = 'filtered_localizations', outputName = 'rtn4',\n",
    "                                                    channel = rtn4_chan)])"
   ]
  },
  {
   "cell_type": "code",
   "execution_count": null,
   "id": "64a5b356",
   "metadata": {},
   "outputs": [],
   "source": [
    "# Select ER DataSource\n",
    "pipeline.selectDataSource('er')"
   ]
  },
  {
   "cell_type": "code",
   "execution_count": null,
   "id": "7428aaac",
   "metadata": {
    "scrolled": true
   },
   "outputs": [],
   "source": [
    "# optionally zoom\n",
    "rescale = 4\n",
    "# optionally translate\n",
    "dx, dy, dz = 0, -3100, 0\n",
    "# dx, dy, dz = 0, -9600, 0\n",
    "# dx, dy, dz = 0, 2000, 0\n",
    "pymevis.glCanvas.view.scale *= rescale\n",
    "pymevis.glCanvas.view.translation[0] += dx* (1. - 1. / rescale)\n",
    "pymevis.glCanvas.view.translation[1] += dy* (1. - 1. / rescale)\n",
    "pymevis.glCanvas.view.translation[2] += dz* (1. - 1. / rescale)\n",
    "\n",
    "\n",
    "# change layer properties to show mesh and points\n",
    "pymevis.glCanvas.layers[0].cmap = 'SolidGreen'\n",
    "# pymevis.glCanvas.layers[0].method = 'spheres'\n",
    "pymevis.glCanvas.layers[0].method = 'pointsprites'\n",
    "pymevis.glCanvas.layers[0].point_size = 20\n",
    "pymevis.glCanvas.layers[0].alpha = 0.05\n",
    "pymevis.glCanvas.LUTDraw = False\n",
    "pymevis.glCanvas.layers[-1].visible = False\n",
    "pymevis.glCanvas.Refresh()\n",
    "# pymevis.glCanvas.layers[0].update()"
   ]
  },
  {
   "cell_type": "code",
   "execution_count": null,
   "id": "c3cf069c",
   "metadata": {},
   "outputs": [],
   "source": [
    "# take points\n",
    "from PIL import Image\n",
    "snap = pymevis.glCanvas.getSnapshot().transpose(1,0,2)\n",
    "Image.fromarray(snap).transpose(Image.FLIP_TOP_BOTTOM).save('top_view_points.png')"
   ]
  },
  {
   "cell_type": "code",
   "execution_count": null,
   "id": "4338a46c",
   "metadata": {},
   "outputs": [],
   "source": [
    "pymevis.glCanvas.layers[0].visible = False\n",
    "pymevis.glCanvas.layers[-1].visible = True\n",
    "pymevis.glCanvas.Refresh()"
   ]
  },
  {
   "cell_type": "code",
   "execution_count": null,
   "id": "92ce4d07",
   "metadata": {},
   "outputs": [],
   "source": [
    "# take a snapshot\n",
    "from PIL import Image\n",
    "snap = pymevis.glCanvas.getSnapshot().transpose(1,0,2)\n",
    "Image.fromarray(snap).transpose(Image.FLIP_TOP_BOTTOM).save('top_view_mesh.png')"
   ]
  },
  {
   "cell_type": "code",
   "execution_count": null,
   "id": "da0f0370",
   "metadata": {},
   "outputs": [],
   "source": [
    "# Clip y to central region to show tubule cutaway\n",
    "# clipping_dtype = [('x', '<f4', (2,)), ('y', '<f4', (2,)), ('z', '<f4', (2,)), ('v', '<f4', (2,))]\n",
    "# dummy_clipping = np.array([-1e6, 1e6, -1e6, 1e6, -1e6, 1e6, -1e6, 1e6], 'f4').view(clipping_dtype)\n",
    "# y_center = (pymevis.glCanvas.bounds['y'][0][1]+pymevis.glCanvas.bounds['y'][0][0])/2-dy\n",
    "dummy_clipping = pymevis.glCanvas.view.clipping\n",
    "# y_center = (dummy_clipping['y'][0][0] + dummy_clipping['y'][0][1])/2 + dy* (1. - 1. / rescale)\n",
    "y_center = (np.min(pipeline['y'])+np.max(pipeline['y']))/2+dy*(1. - 1. / rescale)\n",
    "dummy_clipping['y'][0][0] = y_center-30.0 # lower limit\n",
    "dummy_clipping['y'][0][1] = y_center+30.0 # upper limit\n",
    "pymevis.glCanvas.view.clipping = dummy_clipping\n",
    "pymevis.glCanvas.layers[0].visible = True\n",
    "pymevis.glCanvas.layers[0].method = 'spheres'\n",
    "pymevis.glCanvas.layers[0].point_size = 10\n",
    "pymevis.glCanvas.Refresh()"
   ]
  },
  {
   "cell_type": "code",
   "execution_count": null,
   "id": "863a0a52",
   "metadata": {},
   "outputs": [],
   "source": [
    "# switch to front view\n",
    "def view_front(glCanvas):\n",
    "    glCanvas.view.vec_up=np.array([0,0,-1])\n",
    "    glCanvas.view.vec_back = np.array([0,-1,0])\n",
    "    glCanvas.view.vec_right = np.array([1,0,0])\n",
    "    glCanvas.displayMode = '3D'\n",
    "    glCanvas.Refresh()\n",
    "\n",
    "view_front(pymevis.glCanvas)"
   ]
  },
  {
   "cell_type": "code",
   "execution_count": null,
   "id": "007fbb15",
   "metadata": {},
   "outputs": [],
   "source": [
    "# side view snapshot\n",
    "snap = pymevis.glCanvas.getSnapshot().transpose(1,0,2)\n",
    "Image.fromarray(snap).transpose(Image.FLIP_TOP_BOTTOM).save('front_view_mesh.png')"
   ]
  },
  {
   "cell_type": "code",
   "execution_count": null,
   "id": "40dc314e",
   "metadata": {},
   "outputs": [],
   "source": [
    "pymevis.glCanvas.layers[-1].visible = False\n",
    "pymevis.glCanvas.layers[0].method = 'pointsprites'\n",
    "pymevis.glCanvas.layers[0].point_size = 20\n",
    "pymevis.glCanvas.layers[0].alpha = 0.05\n",
    "pymevis.glCanvas.Refresh()"
   ]
  },
  {
   "cell_type": "code",
   "execution_count": null,
   "id": "c279d99e",
   "metadata": {},
   "outputs": [],
   "source": [
    "# side view snapshot\n",
    "snap = pymevis.glCanvas.getSnapshot().transpose(1,0,2)\n",
    "Image.fromarray(snap).transpose(Image.FLIP_TOP_BOTTOM).save('front_view_points.png')"
   ]
  },
  {
   "cell_type": "code",
   "execution_count": null,
   "id": "1af3d81d",
   "metadata": {},
   "outputs": [],
   "source": [
    "# now display the snapshots on top of each over\n",
    "top_img_mesh = Image.open('top_view_mesh.png')\n",
    "front_img_mesh = Image.open('front_view_mesh.png')\n",
    "top_img_points = Image.open('top_view_points.png')\n",
    "front_img_points = Image.open('front_view_points.png')\n",
    "\n",
    "import matplotlib.pyplot as plt\n",
    "\n",
    "z_center = int(pymevis.glCanvas.view_port_size[0]//2)\n",
    "z_size = int((np.max(pymevis.pipeline['z'])-np.min(pymevis.pipeline['z']))//2//5)\n",
    "fig, axs = plt.subplots(2,2, figsize=(8,8))\n",
    "axs[0,0].imshow(top_img_points)\n",
    "axs[0,1].imshow(top_img_mesh)\n",
    "axs[1,0].imshow(front_img_points.crop((0, z_center-z_size, pymevis.glCanvas.view_port_size[1], z_center+z_size)))\n",
    "axs[1,1].imshow(front_img_mesh.crop((0, z_center-z_size, pymevis.glCanvas.view_port_size[1], z_center+z_size)))\n",
    "\n",
    "axs[0,0].set_axis_off()\n",
    "axs[0,1].set_axis_off()\n",
    "axs[1,0].set_axis_off()\n",
    "axs[1,1].set_axis_off()\n",
    "# plt.axis('equal')\n",
    "plt.subplots_adjust(wspace=0, hspace=-0.5)\n",
    "fig.tight_layout()"
   ]
  },
  {
   "cell_type": "code",
   "execution_count": null,
   "id": "d5268697",
   "metadata": {},
   "outputs": [],
   "source": [
    "fig.savefig('wrapped_er_4pi.png', dpi=600)"
   ]
  },
  {
   "cell_type": "code",
   "execution_count": null,
   "id": "47e846f2",
   "metadata": {},
   "outputs": [],
   "source": [
    "pymevis.glCanvas.view.translation"
   ]
  },
  {
   "cell_type": "code",
   "execution_count": null,
   "id": "ea621054",
   "metadata": {},
   "outputs": [],
   "source": [
    "dummy_clipping"
   ]
  },
  {
   "cell_type": "code",
   "execution_count": null,
   "id": "8331f1d8",
   "metadata": {},
   "outputs": [],
   "source": [
    "pymevis.glCanvas.view.translation[1]"
   ]
  },
  {
   "cell_type": "code",
   "execution_count": null,
   "id": "09b7b2d1",
   "metadata": {},
   "outputs": [],
   "source": []
  }
 ],
 "metadata": {
  "kernelspec": {
   "display_name": "pyme",
   "language": "python",
   "name": "pyme"
  },
  "language_info": {
   "codemirror_mode": {
    "name": "ipython",
    "version": 3
   },
   "file_extension": ".py",
   "mimetype": "text/x-python",
   "name": "python",
   "nbconvert_exporter": "python",
   "pygments_lexer": "ipython3",
   "version": "3.7.9"
  }
 },
 "nbformat": 4,
 "nbformat_minor": 5
}
