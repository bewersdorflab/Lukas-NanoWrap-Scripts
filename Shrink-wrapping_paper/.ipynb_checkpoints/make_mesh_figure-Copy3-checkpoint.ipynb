{
 "cells": [
  {
   "cell_type": "code",
   "execution_count": null,
   "id": "04dad373",
   "metadata": {
    "jupyter": {
     "outputs_hidden": true
    },
    "tags": []
   },
   "outputs": [],
   "source": [
    "from PYME.LMVis import VisGUI\n",
    "\n",
    "from PYME.IO import tabular\n",
    "import numpy as np\n",
    "\n",
    "from ch_shrinkwrap import _membrane_mesh as membrane_mesh\n",
    "from PYME.LMVis.layers.mesh import TriangleRenderLayer\n",
    "\n",
    "%gui wx"
   ]
  },
  {
   "cell_type": "code",
   "execution_count": null,
   "id": "035400d3",
   "metadata": {
    "scrolled": true
   },
   "outputs": [],
   "source": [
    "pymevis = VisGUI.ipython_pymevisualize()\n",
    "pipeline = pymevis.pipeline"
   ]
  },
  {
   "cell_type": "code",
   "execution_count": null,
   "id": "ccc0fcc1",
   "metadata": {},
   "outputs": [],
   "source": [
    "points_fn = 'C:\\\\Users\\\\zrc4\\\\Documents\\\\Shrinkwrapping\\\\20210907_U2OS-Rtn4-Ab+mCh-Sec61B-Nano\\\\Cell02_mapped.hdf'\n",
    "# points_fn = '/Users/zrc4/Downloads/test_er_data.hdf'\n",
    "# points_fn = 'Cell10_642v20_60_two_color.hdf'\n",
    "# points_fn = 'filtered.hdf'\n",
    "er_chan = 'chan0'\n",
    "rtn4_chan = 'chan1'\n",
    "\n",
    "mesh_fn = 'C:\\\\Users\\\\zrc4\\\\Documents\\\\Shrinkwrapping\\\\20210907_U2OS-Rtn4-Ab+mCh-Sec61B-Nano\\\\er_data_wrapped.stl'\n",
    "# mesh_fn = '/Users/zrc4/Downloads/test_er_data.stl'\n",
    "# mesh_fn = 'Cell10_wrapped_good.stl'\n",
    "# mesh_fn = 'er_wrapped_good.stl'"
   ]
  },
  {
   "cell_type": "code",
   "execution_count": null,
   "id": "00fee156",
   "metadata": {
    "jupyter": {
     "outputs_hidden": true
    },
    "tags": []
   },
   "outputs": [],
   "source": [
    "# Open the points\n",
    "pymevis.OpenFile(points_fn)"
   ]
  },
  {
   "cell_type": "code",
   "execution_count": null,
   "id": "6bf33fed",
   "metadata": {},
   "outputs": [],
   "source": [
    "mesh = membrane_mesh.MembraneMesh.from_stl(mesh_fn)\n",
    "\n",
    "mesh_name = pipeline.new_ds_name('er')\n",
    "pipeline.recipe.namespace[mesh_name] = mesh\n",
    "layer = TriangleRenderLayer(pipeline, dsname=mesh_name, method='shaded', cmap = 'SolidMagenta')\n",
    "pymevis.add_layer(layer)"
   ]
  },
  {
   "cell_type": "code",
   "execution_count": null,
   "id": "6213d75b",
   "metadata": {
    "scrolled": true
   },
   "outputs": [],
   "source": [
    "# Import ExtractTableChannel Recipe\n",
    "from PYME.recipes.localisations import ExtractTableChannel\n",
    "recipe = pipeline.recipe\n",
    "\n",
    "# Extract ER points\n",
    "recipe.add_modules_and_execute([ExtractTableChannel(recipe, inputName = 'filtered_localizations', outputName = 'er',\n",
    "                                                    channel = er_chan)])\n",
    "\n",
    "# Extract Rtn4 points\n",
    "recipe.add_modules_and_execute([ExtractTableChannel(recipe, inputName = 'filtered_localizations', outputName = 'rtn4',\n",
    "                                                    channel = rtn4_chan)])"
   ]
  },
  {
   "cell_type": "code",
   "execution_count": null,
   "id": "604480ae",
   "metadata": {},
   "outputs": [],
   "source": [
    "# Select ER DataSource\n",
    "pipeline.selectDataSource('rtn4')"
   ]
  },
  {
   "cell_type": "code",
   "execution_count": null,
   "id": "adb8e17c",
   "metadata": {
    "scrolled": true
   },
   "outputs": [],
   "source": [
    "# optionally zoom\n",
    "rescale = 1\n",
    "# optionally translate\n",
    "dx, dy, dz = 0, 0, 0\n",
    "# dx, dy, dz = 0, 2000, 0\n",
    "pymevis.glCanvas.view.scale *= rescale\n",
    "pymevis.glCanvas.view.translation[0] += dx* (1. - 1. / rescale)\n",
    "pymevis.glCanvas.view.translation[1] += dy* (1. - 1. / rescale)\n",
    "pymevis.glCanvas.view.translation[2] += dz* (1. - 1. / rescale)\n",
    "\n",
    "\n",
    "# change layer properties to show mesh and points\n",
    "pymevis.glCanvas.layers[0].cmap = 'SolidGreen'\n",
    "pymevis.glCanvas.layers[0].method = 'spheres'\n",
    "pymevis.glCanvas.LUTDraw = False\n",
    "# pymevis.glCanvas.layers[-1].visible = False\n",
    "pymevis.glCanvas.Refresh()\n",
    "# pymevis.glCanvas.layers[0].update()"
   ]
  },
  {
   "cell_type": "code",
   "execution_count": null,
   "id": "7b792ffd",
   "metadata": {},
   "outputs": [],
   "source": [
    "# take points\n",
    "from PIL import Image\n",
    "snap = pymevis.glCanvas.getSnapshot().transpose(1,0,2)\n",
    "Image.fromarray(snap).transpose(Image.FLIP_TOP_BOTTOM).save('er_rtn4.png')"
   ]
  },
  {
   "cell_type": "code",
   "execution_count": null,
   "id": "72b2fbbc",
   "metadata": {},
   "outputs": [],
   "source": [
    "# pymevis.glCanvas.layers[0].visible = False\n",
    "# pymevis.glCanvas.layers[-1].visible = True\n",
    "# pymevis.glCanvas.Refresh()"
   ]
  },
  {
   "cell_type": "code",
   "execution_count": null,
   "id": "533314b6",
   "metadata": {},
   "outputs": [],
   "source": [
    "# # take a snapshot\n",
    "# from PIL import Image\n",
    "# snap = pymevis.glCanvas.getSnapshot().transpose(1,0,2)\n",
    "# Image.fromarray(snap).transpose(Image.FLIP_TOP_BOTTOM).save('top_view_mesh.png')"
   ]
  },
  {
   "cell_type": "code",
   "execution_count": null,
   "id": "cf7a280a",
   "metadata": {},
   "outputs": [],
   "source": [
    "# # Clip y to central region to show tubule cutaway\n",
    "# # clipping_dtype = [('x', '<f4', (2,)), ('y', '<f4', (2,)), ('z', '<f4', (2,)), ('v', '<f4', (2,))]\n",
    "# # dummy_clipping = np.array([-1e6, 1e6, -1e6, 1e6, -1e6, 1e6, -1e6, 1e6], 'f4').view(clipping_dtype)\n",
    "# # y_center = (pymevis.glCanvas.bounds['y'][0][1]+pymevis.glCanvas.bounds['y'][0][0])/2-dy\n",
    "# dummy_clipping = pymevis.glCanvas.view.clipping\n",
    "# # y_center = (dummy_clipping['y'][0][0] + dummy_clipping['y'][0][1])/2 + dy* (1. - 1. / rescale)\n",
    "# y_center = (np.min(pipeline['y'])+np.max(pipeline['y']))/2+dy*(1. - 1. / rescale)\n",
    "# dummy_clipping['y'][0][0] = y_center-75.0 # lower limit\n",
    "# dummy_clipping['y'][0][1] = y_center+75.0 # upper limit\n",
    "# pymevis.glCanvas.view.clipping = dummy_clipping\n",
    "# pymevis.glCanvas.layers[0].visible = True\n",
    "# pymevis.glCanvas.layers[0].point_size = 10\n",
    "# pymevis.glCanvas.Refresh()"
   ]
  },
  {
   "cell_type": "code",
   "execution_count": null,
   "id": "ee3f5094",
   "metadata": {},
   "outputs": [],
   "source": [
    "# # switch to front view\n",
    "# def view_front(glCanvas):\n",
    "#     glCanvas.view.vec_up=np.array([0,0,-1])\n",
    "#     glCanvas.view.vec_back = np.array([0,-1,0])\n",
    "#     glCanvas.view.vec_right = np.array([1,0,0])\n",
    "#     glCanvas.displayMode = '3D'\n",
    "#     glCanvas.Refresh()\n",
    "\n",
    "# view_front(pymevis.glCanvas)"
   ]
  },
  {
   "cell_type": "code",
   "execution_count": null,
   "id": "ea827b06",
   "metadata": {},
   "outputs": [],
   "source": [
    "# # side view snapshot\n",
    "# snap = pymevis.glCanvas.getSnapshot().transpose(1,0,2)\n",
    "# Image.fromarray(snap).transpose(Image.FLIP_TOP_BOTTOM).save('front_view_mesh.png')"
   ]
  },
  {
   "cell_type": "code",
   "execution_count": null,
   "id": "b29927f6",
   "metadata": {},
   "outputs": [],
   "source": [
    "# pymevis.glCanvas.layers[-1].visible = False\n",
    "# pymevis.glCanvas.layers[0].point_size = 30\n",
    "# pymevis.glCanvas.Refresh()"
   ]
  },
  {
   "cell_type": "code",
   "execution_count": null,
   "id": "54076bbe",
   "metadata": {},
   "outputs": [],
   "source": [
    "# # side view snapshot\n",
    "# snap = pymevis.glCanvas.getSnapshot().transpose(1,0,2)\n",
    "# Image.fromarray(snap).transpose(Image.FLIP_TOP_BOTTOM).save('front_view_points.png')"
   ]
  },
  {
   "cell_type": "code",
   "execution_count": null,
   "id": "dce632fc",
   "metadata": {},
   "outputs": [],
   "source": [
    "nbins = 50\n",
    "ll = -0.05\n",
    "ul = 0.1\n",
    "\n",
    "count0, bin0 = np.histogram(mesh.curvature_principal1, range=(ll,ul), bins=nbins)\n",
    "\n",
    "print(np.median(mesh.curvature_principal0), np.median(mesh.curvature_principal1))"
   ]
  },
  {
   "cell_type": "code",
   "execution_count": null,
   "id": "3cbccc54",
   "metadata": {},
   "outputs": [],
   "source": [
    "from PYME.experimental.isosurface import distance_to_mesh\n",
    "import scipy.spatial\n",
    "\n",
    "pts = np.vstack([pipeline['x'],pipeline['y'],pipeline['z']]).T\n",
    "\n",
    "tree = scipy.spatial.cKDTree(mesh._vertices['position'], compact_nodes=False)\n",
    "\n",
    "dists, inds = tree.query(pts, k=1)\n",
    "\n",
    "curv = mesh.curvature_principal1[inds]\n",
    "use_curv = curv[dists < 20.0]\n",
    "\n",
    "count1, bin1 = np.histogram(use_curv, range=(ll,ul), bins=nbins)\n",
    "print(np.mean(use_curv))"
   ]
  },
  {
   "cell_type": "code",
   "execution_count": null,
   "id": "08061f92",
   "metadata": {},
   "outputs": [],
   "source": [
    "import matplotlib.pyplot as plt\n",
    "import matplotlib\n",
    "matplotlib.rcParams.update({'font.size': 14})\n",
    "\n",
    "fig, axs = plt.subplots(3,1, figsize=(12,8))\n",
    "axs[0].step(bin0[:-1], count0, color='magenta')\n",
    "axs[1].step(bin1[:-1], count1, color='green')\n",
    "axs[2].step(bin1[:-1], count1/count0, color='black')\n",
    "# axs[0].axvline(np.median(mesh.curvature_principal1), linestyle='--', c='k')\n",
    "x0 = bin1[:-1][np.argmax(count0)]\n",
    "y0 = np.max(count0)//3\n",
    "dx = 0.5*(bin1[1]-bin1[0])\n",
    "axs[0].axvline(x0, linestyle='--', c='k')\n",
    "axs[0].text(x0-dx,y0,f'1/{(1/x0):.0f} nm', ha='right')\n",
    "x0m = np.median(mesh.curvature_principal1)\n",
    "axs[0].axvline(x0m, linestyle='dotted', c='k')\n",
    "axs[0].text(x0m+dx,y0,f'1/{(1/x0m):.0f} nm')\n",
    "# axs[0,1].step(bin1[:-1], count1/np.sum(count0), color='cyan')\n",
    "# axs[1,1].axvline(np.median(mesh1.curvature_principal1), linestyle='--', c='k')\n",
    "# axs[1].axvline(np.median(use_curv), linestyle='--', c='k')\n",
    "x1 = bin1[:-1][np.argmax(count1)]\n",
    "y1 = np.max(count1)//3\n",
    "axs[1].axvline(x1, linestyle='--', c='k')\n",
    "axs[1].text(x1-dx,y1,f'1/{(1/x1):.0f} nm', ha='right')\n",
    "x1m = np.median(use_curv)\n",
    "axs[1].axvline(x1m, linestyle='dotted', c='k')\n",
    "axs[1].text(x1m+dx,y1,f'1/{(1/x1m):.0f} nm')\n",
    "x2 = bin1[:-1][np.argmax(count1/count0)]\n",
    "y2 = np.max(count1/count0)\n",
    "axs[2].axvline(x2, linestyle='--', c='k')\n",
    "axs[2].text(x2+dx,0.5,f'1/{(1/x2):.0f} nm')\n",
    "x2m = bin1[:-1][np.argsort(count1/count0)[len(count1/count0)//2]]\n",
    "axs[2].axvline(x2m, linestyle='dotted', c='k')\n",
    "axs[2].text(x2m-dx,0.5,f'1/{(1/x2m):.0f} nm', ha='right')\n",
    "\n",
    "axs[0].set_ylabel('Frequency', color='magenta')\n",
    "axs[1].set_ylabel('Rtn4 Density', color='green')\n",
    "axs[2].set_ylabel('Rtn4 Density/Frequency', color='black')\n",
    "# axs[1,1].set_ylabel('Frequency')\n",
    "axs[2].set_xlabel('Maximal principal curvature (1/nm)')\n",
    "# plt.axis('equal')\n",
    "plt.subplots_adjust(wspace=0, hspace=0)\n",
    "fig.tight_layout()"
   ]
  },
  {
   "cell_type": "code",
   "execution_count": null,
   "id": "8b5ee4e9",
   "metadata": {},
   "outputs": [],
   "source": [
    "fig.savefig('rtn4_density.png', dpi=600)"
   ]
  },
  {
   "cell_type": "code",
   "execution_count": null,
   "id": "93c0ba28",
   "metadata": {},
   "outputs": [],
   "source": [
    "1/bin1[:-1][np.argmax(count1/count0)]"
   ]
  },
  {
   "cell_type": "code",
   "execution_count": null,
   "id": "04cc61c3",
   "metadata": {},
   "outputs": [],
   "source": [
    "1/bin1[:-1][np.argsort(count1/count0)[len(count1/count0)//2]]"
   ]
  },
  {
   "cell_type": "code",
   "execution_count": null,
   "id": "897b0ad4",
   "metadata": {},
   "outputs": [],
   "source": [
    "1/0.016955841"
   ]
  },
  {
   "cell_type": "code",
   "execution_count": null,
   "id": "74ee0cc6",
   "metadata": {},
   "outputs": [],
   "source": [
    "1/0.023729473\n"
   ]
  },
  {
   "cell_type": "code",
   "execution_count": null,
   "id": "21ff8c7f",
   "metadata": {},
   "outputs": [],
   "source": [
    "1/np.median(mesh.curvature_principal1)"
   ]
  },
  {
   "cell_type": "code",
   "execution_count": null,
   "id": "81260dbb",
   "metadata": {},
   "outputs": [],
   "source": [
    "np.mean(use_curv)"
   ]
  },
  {
   "cell_type": "code",
   "execution_count": null,
   "id": "1b0d6d57",
   "metadata": {},
   "outputs": [],
   "source": []
  },
  {
   "cell_type": "code",
   "execution_count": null,
   "id": "2abce7b6",
   "metadata": {},
   "outputs": [],
   "source": []
  }
 ],
 "metadata": {
  "kernelspec": {
   "display_name": "pyme",
   "language": "python",
   "name": "pyme"
  },
  "language_info": {
   "codemirror_mode": {
    "name": "ipython",
    "version": 3
   },
   "file_extension": ".py",
   "mimetype": "text/x-python",
   "name": "python",
   "nbconvert_exporter": "python",
   "pygments_lexer": "ipython3",
   "version": "3.7.9"
  }
 },
 "nbformat": 4,
 "nbformat_minor": 5
}
