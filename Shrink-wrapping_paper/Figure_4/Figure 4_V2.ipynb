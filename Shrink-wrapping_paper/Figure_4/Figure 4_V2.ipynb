{
 "cells": [
  {
   "cell_type": "code",
   "execution_count": 1,
   "id": "2260e8b1",
   "metadata": {
    "scrolled": true
   },
   "outputs": [
    {
     "name": "stdout",
     "output_type": "stream",
     "text": [
      "Trying to load 3rd party recipe module nep_fitting.recipe_modules.nep_fits\n",
      "Loaded 3rd party recipe module nep_fitting.recipe_modules.nep_fits\n",
      "Trying to load 3rd party recipe module cc_drift_cor.plugins.recipes.chung_cc\n",
      "Loaded 3rd party recipe module cc_drift_cor.plugins.recipes.chung_cc\n",
      "Trying to load 3rd party recipe module cc_drift_cor.plugins.recipes.io\n",
      "Loaded 3rd party recipe module cc_drift_cor.plugins.recipes.io\n",
      "Trying to load 3rd party recipe module pyme_4pi.recipe_modules.conversion\n",
      "Loaded 3rd party recipe module pyme_4pi.recipe_modules.conversion\n",
      "Trying to load 3rd party recipe module cc_drift_cor.plugins.recipes.localisations\n",
      "Loaded 3rd party recipe module cc_drift_cor.plugins.recipes.localisations\n",
      "Trying to load 3rd party recipe module ch_shrinkwrap.recipe_modules.surface_feature_extraction\n",
      "Loaded 3rd party recipe module ch_shrinkwrap.recipe_modules.surface_feature_extraction\n",
      "Trying to load 3rd party recipe module ch_shrinkwrap.recipe_modules.surface_fitting\n",
      "Loaded 3rd party recipe module ch_shrinkwrap.recipe_modules.surface_fitting\n",
      "Trying to load 3rd party recipe module ch_shrinkwrap.recipe_modules.simulation\n",
      "Loaded 3rd party recipe module ch_shrinkwrap.recipe_modules.simulation\n",
      "Trying to load 3rd party recipe module cc_drift_cor.plugins.recipes.processing\n",
      "Loaded 3rd party recipe module cc_drift_cor.plugins.recipes.processing\n",
      "Trying to load 3rd party recipe module pyme_picasso.recipe_modules.conversion\n",
      "Loaded 3rd party recipe module pyme_picasso.recipe_modules.conversion\n",
      "Detected a .git folder, assuming a development install\n",
      "quaternion module not found, disabling custom clip plane orientations\n"
     ]
    }
   ],
   "source": [
    "from PYME.LMVis import VisGUI\n",
    "\n",
    "from PYME.IO import tabular\n",
    "import numpy as np\n",
    "\n",
    "from ch_shrinkwrap import _membrane_mesh as membrane_mesh\n",
    "from PYME.LMVis.layers.mesh import TriangleRenderLayer\n",
    "\n",
    "%gui wx"
   ]
  },
  {
   "cell_type": "code",
   "execution_count": 2,
   "id": "6dbe05f7",
   "metadata": {},
   "outputs": [
    {
     "name": "stderr",
     "output_type": "stream",
     "text": [
      "DEBUG:PYME.LMVis.visCore:Creating VisGUI menu bar\n",
      "DEBUG:PYME.LMVis.Extras:Initializing QPobjectSegment plugin\n"
     ]
    },
    {
     "name": "stdout",
     "output_type": "stream",
     "text": [
      "quaternion module not found, disabling custom clip plane orientations\n",
      "New Canvas\n"
     ]
    },
    {
     "name": "stderr",
     "output_type": "stream",
     "text": [
      "DEBUG:PYME.LMVis.Extras:Initializing animation plugin\n",
      "DEBUG:PYME.LMVis.Extras:Initializing annotation plugin\n",
      "c:\\users\\laf62\\code\\python-microscopy\\PYME\\DSView\\modules\\annotation.py:62: wxPyDeprecationWarning: Call to deprecated item. Use SetToolTip instead.\n",
      "  self.bAdjustSnake.SetToolTipString('Adjust the parameters of fo the \"snake\" (active contour) used for curve locking')\n",
      "c:\\users\\laf62\\code\\python-microscopy\\PYME\\DSView\\modules\\annotation.py:73: wxPyDeprecationWarning: Call to deprecated item. Use InsertItem instead.\n",
      "  self.lLabels.InsertStringItem(i, '%d' % i)\n",
      "c:\\users\\laf62\\code\\python-microscopy\\PYME\\DSView\\modules\\annotation.py:74: wxPyDeprecationWarning: Call to deprecated item. Use SetItem instead.\n",
      "  self.lLabels.SetStringItem(i, 1, 'Structure %d' % i)\n",
      "c:\\users\\laf62\\code\\python-microscopy\\PYME\\DSView\\modules\\annotation.py:76: wxPyDeprecationWarning: Call to deprecated item. Use SetItem instead.\n",
      "  self.lLabels.SetStringItem(0, 1, 'No label')\n",
      "c:\\users\\laf62\\code\\python-microscopy\\PYME\\DSView\\modules\\annotation.py:95: wxPyDeprecationWarning: Call to deprecated item. Use SetToolTip instead.\n",
      "  self.bAddLine.SetToolTipString('Add a curve annotation (ctrl-L / cmd-L)')\n",
      "DEBUG:PYME.LMVis.Extras:Initializing clusterAnalysis plugin\n",
      "WARNING:PYME.DSView.modules:Plugin [clusterAnalysis] injects into parent namespace, could result in circular references\n",
      "DEBUG:PYME.LMVis.Extras:Initializing dockedPanel plugin\n",
      "DEBUG:PYME.LMVis.Extras:Initializing extra_layers plugin\n",
      "DEBUG:PYME.LMVis.Extras:Initializing fiducial plugin\n",
      "DEBUG:PYME.LMVis.Extras:Initializing flagZMotionArtifacts plugin\n",
      "DEBUG:root:Adding menu items for event filters\n",
      "WARNING:PYME.DSView.modules:Plugin [flagZMotionArtifacts] injects into parent namespace, could result in circular references\n",
      "DEBUG:PYME.LMVis.Extras:Initializing fusionUtils plugin\n",
      "DEBUG:PYME.LMVis.Extras:Initializing multiColourAnalysis plugin\n",
      "DEBUG:PYME.LMVis.Extras:Initializing multiviewMapping plugin\n",
      "DEBUG:root:Adding menu items for multi-view manipulation\n",
      "WARNING:PYME.DSView.modules:Plugin [multiviewMapping] injects into parent namespace, could result in circular references\n",
      "DEBUG:PYME.LMVis.Extras:Initializing objectMeasurements plugin\n",
      "DEBUG:PYME.LMVis.Extras:Initializing particleTracking plugin\n",
      "WARNING:PYME.DSView.modules:Plugin [particleTracking] injects into parent namespace, could result in circular references\n",
      "DEBUG:PYME.LMVis.Extras:Initializing perFrameVariable plugin\n",
      "DEBUG:PYME.LMVis.Extras:Initializing photophysics plugin\n",
      "DEBUG:PYME.LMVis.Extras:Initializing pointSetGeneration plugin\n",
      "WARNING:PYME.DSView.modules:Plugin [pointSetGeneration] injects into parent namespace, could result in circular references\n",
      "DEBUG:PYME.LMVis.Extras:Initializing pointwiseColoc plugin\n",
      "DEBUG:PYME.LMVis.Extras:Initializing saved_views plugin\n",
      "DEBUG:PYME.LMVis.Extras:Initializing scaleBox plugin\n",
      "DEBUG:PYME.LMVis.Extras:Initializing sequentialSpecies plugin\n",
      "DEBUG:PYME.LMVis.Extras:Initializing setBGImage plugin\n",
      "DEBUG:PYME.LMVis.Extras:Initializing shiftmapGenerator plugin\n",
      "DEBUG:PYME.LMVis.Extras:Initializing showShortcuts plugin\n",
      "DEBUG:PYME.LMVis.Extras:Initializing snapshot plugin\n",
      "DEBUG:PYME.LMVis.Extras:Initializing spherical_harmonics plugin\n",
      "DEBUG:root:Adding menu items for spherical harmonic (shell) fitting\n",
      "WARNING:PYME.DSView.modules:Plugin [spherical_harmonics] injects into parent namespace, could result in circular references\n",
      "DEBUG:PYME.LMVis.Extras:Initializing subsets plugin\n",
      "DEBUG:PYME.LMVis.Extras:Initializing surface_fitting plugin\n",
      "DEBUG:PYME.LMVis.Extras:Initializing temperaturePlot plugin\n",
      "DEBUG:PYME.LMVis.Extras:Initializing vibration plugin\n"
     ]
    },
    {
     "name": "stdout",
     "output_type": "stream",
     "text": [
      "Saved Views are deprecated -  use the ones with animation instead and remove me!\n",
      "Creating fold panel\n",
      "GenPanels\n",
      "Creating datasource panel\n",
      "Image list size: 1\n"
     ]
    },
    {
     "name": "stderr",
     "output_type": "stream",
     "text": [
      "DEBUG:PYME.recipes.recipe:recipe.execute()\n",
      "DEBUG:PYME.recipes.recipe:Module timings: {}\n"
     ]
    },
    {
     "name": "stdout",
     "output_type": "stream",
     "text": [
      "0\n",
      "OpenGL - Version: b'4.6.0 NVIDIA 516.94'\n",
      "Shader - Version: b'4.60 NVIDIA'\n",
      "GL.GL_MAX_SAMPLES: 32, GL.GL_SAMPLES: 4\n"
     ]
    },
    {
     "name": "stderr",
     "output_type": "stream",
     "text": [
      "DEBUG:PYME.LMVis.shader_programs.ShaderProgramFactory:New shader program created: <class 'PYME.LMVis.shader_programs.DefaultShaderProgram.DefaultShaderProgram'>\n"
     ]
    },
    {
     "name": "stdout",
     "output_type": "stream",
     "text": [
      "Ev Idle\n",
      "('points', 't')\n",
      "refreshed\n",
      "Input datasources:  []\n",
      "Creating layers GUI\n",
      "height:  0\n",
      "NB best size: wx.Size(0, 0)\n"
     ]
    }
   ],
   "source": [
    "pymevis = VisGUI.ipython_pymevisualize()\n",
    "pipeline = pymevis.pipeline"
   ]
  },
  {
   "cell_type": "code",
   "execution_count": null,
   "id": "2fc5491d",
   "metadata": {},
   "outputs": [],
   "source": [
    "# Parameters to change\n",
    "# savedir = \"E:\\\\Leica_SMLM\\\\20220505_U2OS_mCherry-Sec61B_Astigmatic_2\\\\Figure4_astigmatism_ER_PAINT\"\n",
    "\n",
    "# P_points = \"E:\\\\4Pi\\\\20220411_U2OS-TOMM20-mCh_PAINT_2\\\\Cell02_Clumped_mapped_5nm-Filt.hdf\"\n",
    "# P_mesh = \"E:\\\\4Pi\\\\20220411_U2OS-TOMM20-mCh_PAINT_2\\\\Cell02_shrink-wrap.stl\"\n",
    "\n",
    "# S_points = \"E:\\\\4Pi\\\\20220509_U2OS_mCh-Sec61B_Tomm20_STORM_2\\\\Cell04_mapped.hdf\"\n",
    "# S_mesh_1 = \"E:\\\\4Pi\\\\20220509_U2OS_mCh-Sec61B_Tomm20_STORM_2\\\\Cell04_ER_shrink-wrap_100-curv-weight.stl\"\n",
    "# S_mesh_2 = \"E:\\\\4Pi\\\\20220509_U2OS_mCh-Sec61B_Tomm20_STORM_2\\\\Cell04_Mito_shrink-wrap.stl\"\n",
    "\n",
    "# A_points = \"E:\\\\Leica_SMLM\\\\20220505_U2OS_mCherry-Sec61B_Astigmatic_2\\\\analysis\\\\Cell04_Drift-Corr_90nm-error_z-filt.hdf\"\n",
    "# A_mesh = \"E:\\\\Leica_SMLM\\\\20220505_U2OS_mCherry-Sec61B_Astigmatic_2\\\\analysis\\\\Cell04_shrink-wrap2.stl\"\n",
    "\n",
    "# ver = '_V1-updated' #adds version numbers to saved images as to not overwright previous versions"
   ]
  },
  {
   "cell_type": "code",
   "execution_count": null,
   "id": "eb69cab3-aa66-4148-9956-69b0bb7ab248",
   "metadata": {},
   "outputs": [],
   "source": [
    "# # Parameters to change - old version\n",
    "# savedir = \"E:\\\\Leica_SMLM\\\\20220505_U2OS_mCherry-Sec61B_Astigmatic_2\\\\Figure4_astigmatism_ER_PAINT\\\\\"\n",
    "\n",
    "# P_points = \"E:\\\\4Pi\\\\20220411_U2OS-TOMM20-mCh_PAINT_2\\\\Cell02_Clumped_mapped_5nm-Filt.hdf\"\n",
    "# P_mesh = \"E:\\\\4Pi\\\\20220411_U2OS-TOMM20-mCh_PAINT_2\\\\Cell02_V2-updated\\\\Cell02_shrinkwrap.stl\"\n",
    "\n",
    "# S_points = \"E:\\\\4Pi\\\\20220509_U2OS_mCh-Sec61B_Tomm20_STORM_2\\\\Cell04_mapped.hdf\"\n",
    "# S_mesh_1 = \"E:\\\\4Pi\\\\20220509_U2OS_mCh-Sec61B_Tomm20_STORM_2\\\\Figure_4_shrinkwrap_paper\\\\Cell04_ER_shrinkwrap.stl\"\n",
    "# S_mesh_2 = \"E:\\\\4Pi\\\\20220509_U2OS_mCh-Sec61B_Tomm20_STORM_2\\\\Figure_4_shrinkwrap_paper\\\\Cell04_Mito_shrinkwrap_iters49_cw20.stl\"\n",
    "\n",
    "# A_points = \"E:\\\\Leica_SMLM\\\\20220505_U2OS_mCherry-Sec61B_Astigmatic_2\\\\analysis\\Cell04_Drift-Corr.hdf\"\n",
    "# A_mesh = \"E:\\\\Leica_SMLM\\\\20220505_U2OS_mCherry-Sec61B_Astigmatic_2\\\\Figure4_astigmatism_ER_PAINT\\\\Cell04_shrinkwrap.stl\"\n",
    "\n",
    "# ver = '_V3-updated' #adds version numbers to saved images as to not overwright previous versions"
   ]
  },
  {
   "cell_type": "code",
   "execution_count": 3,
   "id": "bf1b371d-5c74-4482-b5a9-16eed41f6cc2",
   "metadata": {},
   "outputs": [],
   "source": [
    "# Parameters to change\n",
    "# Parameters for updating figure on May 16, 2023\n",
    "savedir = \"C:\\\\Users\\\\laf62\\\\Desktop\\\\LAF-Drive\\\\Yale_University\\\\Bewersdorf_Lab\\\\Shrink-wrapping_Paper\\\\Figure 4\\\\V6\\\\\"\n",
    "\n",
    "P_points = \"C:\\\\Users\\\\laf62\\\\Desktop\\\\LAF-Drive\\\\Yale_University\\\\Bewersdorf_Lab\\\\Shrink-wrapping_Paper\\\\Figure 4\\\\V6\\\\Cell02_Clumped_mapped_5nm-Filt.hdf\"\n",
    "P_mesh = \"C:\\\\Users\\\\laf62\\\\Desktop\\\\LAF-Drive\\\\Yale_University\\\\Bewersdorf_Lab\\\\Shrink-wrapping_Paper\\\\Figure 4\\\\V6\\\\Cell02_NanoSculpt_V4.stl\"\n",
    "\n",
    "S_points = \"C:\\\\Users\\\\laf62\\\\Desktop\\\\LAF-Drive\\\\Yale_University\\\\Bewersdorf_Lab\\\\Shrink-wrapping_Paper\\\\Figure 4\\\\V6\\\\Cell04_mapped.hdf\"\n",
    "S_mesh_1 = \"C:\\\\Users\\\\laf62\\Desktop\\\\LAF-Drive\\\\Yale_University\\\\Bewersdorf_Lab\\\\Shrink-wrapping_Paper\\\\Figure 4\\\\V6\\\\Cell04_ER_NanoSculpt.stl\"\n",
    "S_mesh_2 = \"C:\\\\Users\\\\laf62\\\\Desktop\\\\LAF-Drive\\\\Yale_University\\\\Bewersdorf_Lab\\\\Shrink-wrapping_Paper\\\\Figure 4\\\\V6\\\\Cell04_Mito_NanoSculpt_V2.stl\"\n",
    "\n",
    "A_points = \"C:\\\\Users\\\\laf62\\\\Desktop\\\\LAF-Drive\\\\Yale_University\\\\Bewersdorf_Lab\\\\Shrink-wrapping_Paper\\\\Figure 4\\\\V6\\\\Cell04_Drift-Corr_90nm-error_z-filt.hdf\"\n",
    "A_mesh = \"C:\\\\Users\\\\laf62\\\\Desktop\\\\LAF-Drive\\\\Yale_University\\\\Bewersdorf_Lab\\\\Shrink-wrapping_Paper\\\\Figure 4\\\\V6\\\\Cell04_NanoSculpt_V2.stl\"\n",
    "\n",
    "ver = '_V6' #adds version numbers to saved images as to not overwright previous versions"
   ]
  },
  {
   "cell_type": "code",
   "execution_count": null,
   "id": "c52f4e5d",
   "metadata": {},
   "outputs": [],
   "source": [
    "# Open the DNA PAINT points\n",
    "pymevis.OpenFile(P_points)"
   ]
  },
  {
   "cell_type": "code",
   "execution_count": null,
   "id": "a91d625c",
   "metadata": {},
   "outputs": [],
   "source": [
    "# Load in the shrink-wrap surface\n",
    "mesh = membrane_mesh.MembraneMesh.from_stl(P_mesh)\n",
    "\n",
    "mesh_name = pipeline.new_ds_name('mito')\n",
    "pipeline.recipe.namespace[mesh_name] = mesh\n",
    "layer = TriangleRenderLayer(pipeline, dsname=mesh_name, method='shaded', cmap = 'SolidMagenta')\n",
    "pymevis.add_layer(layer)"
   ]
  },
  {
   "cell_type": "code",
   "execution_count": null,
   "id": "a733ed40",
   "metadata": {},
   "outputs": [],
   "source": [
    "# translate canvas\n",
    "dx = -1400\n",
    "pymevis.glCanvas.view.translation[0] += dx\n",
    "pymevis.glCanvas.Refresh()"
   ]
  },
  {
   "cell_type": "code",
   "execution_count": null,
   "id": "e6508dfc",
   "metadata": {},
   "outputs": [],
   "source": [
    "# Select DataSource\n",
    "pipeline.selectDataSource('filtered_localizations')"
   ]
  },
  {
   "cell_type": "code",
   "execution_count": null,
   "id": "2e2b3655",
   "metadata": {},
   "outputs": [],
   "source": [
    "# Save screenshot of PAINT Points\n",
    "\n",
    "# Points in Z\n",
    "pymevis.glCanvas.layers[0].cmap = 'SolidGreen'\n",
    "pymevis.glCanvas.layers[0].method = 'pointsprites'\n",
    "pymevis.glCanvas.layers[0].point_size = 10\n",
    "pymevis.glCanvas.layers[0].alpha = 0.5\n",
    "#pymevis.glCanvas.layers[0].vertexColour = 'z'\n",
    "#pymevis.glCanvas.layers[0].clim = [-800,0]\n",
    "pymevis.glCanvas.LUTDraw = False\n",
    "pymevis.glCanvas.layers[0].visible = True\n",
    "pymevis.glCanvas.layers[-1].visible = False\n",
    "# dx = -1400\n",
    "# pymevis.glCanvas.view.translation[0] += dx\n",
    "# pymevis.glCanvas.Refresh()\n",
    "\n",
    "# Save screenshot\n",
    "from PIL import Image\n",
    "pixel_size = pymevis.glCanvas.view_port_size[0]*pymevis.glCanvas.pixelsize/(5*600)\n",
    "snapshot = pymevis.glCanvas.getIm(pixel_size=pixel_size)\n",
    "Image.fromarray(snapshot).transpose(Image.ROTATE_90).save(savedir + 'PAINT_points' + ver + '.png')"
   ]
  },
  {
   "cell_type": "code",
   "execution_count": null,
   "id": "89fcc1c2",
   "metadata": {},
   "outputs": [],
   "source": [
    "# Save screenshot of PAINT shrink-wrap\n",
    "pymevis.glCanvas.layers[0].visible = False\n",
    "pymevis.glCanvas.layers[-1].visible = True\n",
    "\n",
    "# Save screenshot\n",
    "from PIL import Image\n",
    "pixel_size = pymevis.glCanvas.view_port_size[0]*pymevis.glCanvas.pixelsize/(5*600)\n",
    "snapshot = pymevis.glCanvas.getIm(pixel_size=pixel_size)\n",
    "Image.fromarray(snapshot).transpose(Image.ROTATE_90).save(savedir + 'PAINT_shrink-wrap' + ver + '.png')"
   ]
  },
  {
   "cell_type": "code",
   "execution_count": null,
   "id": "cc8cb549",
   "metadata": {
    "tags": []
   },
   "outputs": [],
   "source": [
    "# Cross-section images\n",
    "# optionally zoom\n",
    "rescale = 7\n",
    "# optionally translate\n",
    "dx, dy, dz = 1000, 3706, -1200\n",
    "# dx, dy, dz = 0, -9600, 0\n",
    "# dx, dy, dz = 0, 2000, 0\n",
    "pymevis.glCanvas.view.scale *= rescale\n",
    "pymevis.glCanvas.view.translation[0] += dx* (1. - 1. / rescale)\n",
    "pymevis.glCanvas.view.translation[1] += dy* (1. - 1. / rescale)\n",
    "pymevis.glCanvas.view.translation[2] += dz* (1. - 1. / rescale)\n",
    "\n",
    "\n",
    "# change layer properties to show mesh and points\n",
    "pymevis.glCanvas.layers[0].cmap = 'SolidGreen'\n",
    "pymevis.glCanvas.layers[1].cmap = 'SolidMagenta'\n",
    "# pymevis.glCanvas.layers[0].method = 'spheres'\n",
    "pymevis.glCanvas.layers[0].method = 'spheres'\n",
    "pymevis.glCanvas.layers[0].point_size = 20\n",
    "pymevis.glCanvas.layers[0].alpha = 0.05\n",
    "pymevis.glCanvas.LUTDraw = False\n",
    "pymevis.glCanvas.layers[0].visible = True\n",
    "pymevis.glCanvas.layers[-1].visible = True\n",
    "pymevis.glCanvas.Refresh()\n",
    "# pymevis.glCanvas.layers[0].update()"
   ]
  },
  {
   "cell_type": "code",
   "execution_count": null,
   "id": "6a03ed7b",
   "metadata": {},
   "outputs": [],
   "source": [
    "# # Undo scaling\n",
    "# pymevis.glCanvas.view.scale *= 1/rescale\n",
    "# pymevis.glCanvas.view.translation[0] += -dx* (1. - 1. / rescale)\n",
    "# pymevis.glCanvas.view.translation[1] += -dy* (1. - 1. / rescale)\n",
    "# pymevis.glCanvas.view.translation[2] += -dz* (1. - 1. / rescale)\n",
    "# pymevis.glCanvas.Refresh()"
   ]
  },
  {
   "cell_type": "code",
   "execution_count": null,
   "id": "0b142c1f",
   "metadata": {},
   "outputs": [],
   "source": [
    "# Clip x to central region to show tubule cutaway\n",
    "dummy_clipping = pymevis.glCanvas.view.clipping\n",
    "x_center = ((np.min(pipeline['x'])+np.max(pipeline['x']))/2)+dx*(1. - 1. / rescale) - 1500\n",
    "dummy_clipping['x'][0][0] = x_center-30.0 # lower limit\n",
    "dummy_clipping['x'][0][1] = x_center+30.0 # upper limit\n",
    "#How to zoom and crop to the ROI on the right?\n",
    "pymevis.glCanvas.view.clipping = dummy_clipping\n",
    "pymevis.glCanvas.layers[0].visible = True\n",
    "pymevis.glCanvas.layers[-1].visible = True\n",
    "pymevis.glCanvas.layers[0].method = 'spheres'\n",
    "pymevis.glCanvas.layers[0].point_size = 10\n",
    "pymevis.glCanvas.Refresh()"
   ]
  },
  {
   "cell_type": "code",
   "execution_count": null,
   "id": "d5025fd2",
   "metadata": {},
   "outputs": [],
   "source": [
    "# switch to y-z view\n",
    "def view_yz(glCanvas):\n",
    "    glCanvas.view.vec_right = np.array([0,0,-1]) # x-axis vector\n",
    "    glCanvas.view.vec_up=np.array([0,1,0]) # y-axis vector\n",
    "    glCanvas.view.vec_back = np.array([1,0,0]) # z-axis vector\n",
    "    glCanvas.displayMode = '3D'\n",
    "    glCanvas.Refresh()\n",
    "\n",
    "view_yz(pymevis.glCanvas)"
   ]
  },
  {
   "cell_type": "code",
   "execution_count": null,
   "id": "aa0e59fd",
   "metadata": {},
   "outputs": [],
   "source": [
    "# translate slightly\n",
    "pymevis.glCanvas.view.translation[1] += -100\n",
    "pymevis.glCanvas.view.translation[2] += -300\n",
    "pymevis.glCanvas.Refresh()"
   ]
  },
  {
   "cell_type": "code",
   "execution_count": null,
   "id": "0e60ca87",
   "metadata": {},
   "outputs": [],
   "source": [
    "# This doesn't give an error but it also doesn't seem to work\n",
    "# pymevis.glCanvas.set_scale_bar_length = 5000\n",
    "# pymevis.glCanvas.Refresh()"
   ]
  },
  {
   "cell_type": "code",
   "execution_count": null,
   "id": "0aa4c238",
   "metadata": {},
   "outputs": [],
   "source": [
    "#NOTE: manually switch the scale bar to whatever you want it to be before running this cell and then switch it back\n",
    "from PIL import Image\n",
    "pixel_size = pymevis.glCanvas.view_port_size[0]*pymevis.glCanvas.pixelsize/(5*600)\n",
    "snapshot = pymevis.glCanvas.getIm(pixel_size=pixel_size)\n",
    "Image.fromarray(snapshot).transpose(Image.ROTATE_90).save(savedir + 'Fig4_p_yz' + ver + '.png')"
   ]
  },
  {
   "cell_type": "code",
   "execution_count": null,
   "id": "8194964e",
   "metadata": {},
   "outputs": [],
   "source": [
    "# switch back to xy view\n",
    "def view_xy(glCanvas):\n",
    "    glCanvas.view.vec_right = np.array([1,0,0]) # x-axis vector\n",
    "    glCanvas.view.vec_up=np.array([0,1,0]) # y-axis vector\n",
    "    glCanvas.view.vec_back = np.array([0,0,1]) # z-axis vector\n",
    "    glCanvas.displayMode = '3D'\n",
    "    glCanvas.Refresh()\n",
    "\n",
    "view_xy(pymevis.glCanvas)"
   ]
  },
  {
   "cell_type": "code",
   "execution_count": 4,
   "id": "daa12893",
   "metadata": {},
   "outputs": [
    {
     "name": "stdout",
     "output_type": "stream",
     "text": [
      "Creating Pipeline\n"
     ]
    },
    {
     "name": "stderr",
     "output_type": "stream",
     "text": [
      "DEBUG:PYME.recipes.recipe:recipe.execute()\n",
      "DEBUG:PYME.recipes.recipe:Executing <PYME.recipes.localisations.Pipelineify object at 0x000001EBD55BDE88>\n",
      "c:\\users\\laf62\\code\\python-microscopy\\PYME\\IO\\MetaDataHandler.py:666: UserWarning: DictMDHandler is not yet fully supported, and will likely cause failures for anything related to localisation fitting\n",
      "  warnings.warn('DictMDHandler is not yet fully supported, and will likely cause failures for anything related to localisation fitting')\n",
      "DEBUG:PYME.recipes.localisations:no events found\n",
      "DEBUG:PYME.recipes.recipe:Executing <PYME.recipes.localisations.ProcessColour object at 0x000001EBCE109168>\n",
      "DEBUG:PYME.recipes.recipe:Executing <PYME.recipes.tablefilters.FilterTable object at 0x000001EBD5617948>\n",
      "DEBUG:PYME.recipes.recipe:Module timings: {'localisations.AddPipelineDerivedVars': 0.001997709274291992, 'localisations.ProcessColour': 0.02695012092590332, 'tablefilters.FilterTable': 0.041893959045410156}\n",
      "DEBUG:PYME.LMVis.VisGUI:Creating tabs\n",
      "DEBUG:PYME.LMVis.VisGUI:Finished creating tabs\n"
     ]
    },
    {
     "name": "stdout",
     "output_type": "stream",
     "text": [
      "Pipeline Created\n",
      "0\n",
      "Gui stuff done\n",
      "Input datasources:  ['_Localizations', 'FitResults']\n",
      "vcs:  ['t', 'z']\n",
      "pointcloud.update_from_datasource() - dsname=output\n"
     ]
    },
    {
     "name": "stderr",
     "output_type": "stream",
     "text": [
      "DEBUG:PYME.LMVis.visCore:Added layer, datasouce=output\n"
     ]
    },
    {
     "name": "stdout",
     "output_type": "stream",
     "text": [
      "pointcloud.update_from_datasource() - dsname=output.chan0\n"
     ]
    },
    {
     "name": "stderr",
     "output_type": "stream",
     "text": [
      "DEBUG:PYME.LMVis.visCore:Added layer, datasouce=output.chan0\n"
     ]
    },
    {
     "name": "stdout",
     "output_type": "stream",
     "text": [
      "pointcloud.update_from_datasource() - dsname=output.chan1\n"
     ]
    },
    {
     "name": "stderr",
     "output_type": "stream",
     "text": [
      "DEBUG:PYME.LMVis.visCore:Added layer, datasouce=output.chan1\n",
      "DEBUG:PYME.LMVis.shader_programs.ShaderProgramFactory:New shader program created: <class 'PYME.LMVis.shader_programs.DefaultShaderProgram.OpaquePointShaderProgram'>\n"
     ]
    },
    {
     "name": "stdout",
     "output_type": "stream",
     "text": [
      "Creating layers GUI\n",
      "hl update\n",
      "hl update\n",
      "hl update\n",
      "height:  72\n",
      "NB best size: wx.Size(3, 66)\n"
     ]
    }
   ],
   "source": [
    "# Open the STORM points\n",
    "pymevis.OpenFile(S_points)"
   ]
  },
  {
   "cell_type": "code",
   "execution_count": 5,
   "id": "29cd731f",
   "metadata": {},
   "outputs": [
    {
     "name": "stdout",
     "output_type": "stream",
     "text": [
      "Data munged to vertices, faces\n",
      "initializing halfedges ...\n",
      "vertices.shape = (2312612, 3), faces.shape = (4632454, 3)\n",
      "done initializing halfedges\n",
      "mesh_layer update\n"
     ]
    },
    {
     "name": "stderr",
     "output_type": "stream",
     "text": [
      "DEBUG:PYME.LMVis.shader_programs.ShaderProgramFactory:New shader program created: <class 'PYME.LMVis.shader_programs.GouraudShaderProgram.GouraudShaderProgram'>\n"
     ]
    },
    {
     "name": "stdout",
     "output_type": "stream",
     "text": [
      "Disposing of HistLimitsEditor\n",
      "Disposing of HistLimitsEditor\n",
      "Disposing of HistLimitsEditor\n",
      "Creating layers GUI\n",
      "hl update\n",
      "hl update\n",
      "hl update\n",
      "hl update\n",
      "height:  97\n",
      "NB best size: wx.Size(3, 88)\n"
     ]
    }
   ],
   "source": [
    "# Load in the shrink-wrap surface\n",
    "mesh_S1 = membrane_mesh.MembraneMesh.from_stl(S_mesh_1)\n",
    "\n",
    "mesh_name = pipeline.new_ds_name('ER')\n",
    "pipeline.recipe.namespace[mesh_name] = mesh_S1\n",
    "layer = TriangleRenderLayer(pipeline, dsname=mesh_name, method='shaded', cmap = 'SolidYellow')\n",
    "pymevis.add_layer(layer)"
   ]
  },
  {
   "cell_type": "code",
   "execution_count": 6,
   "id": "f80fe67b",
   "metadata": {},
   "outputs": [
    {
     "name": "stdout",
     "output_type": "stream",
     "text": [
      "Data munged to vertices, faces\n",
      "initializing halfedges ...\n",
      "vertices.shape = (337614, 3), faces.shape = (675188, 3)\n",
      "done initializing halfedges\n",
      "mesh_layer update\n",
      "Disposing of HistLimitsEditor\n",
      "Disposing of HistLimitsEditor\n",
      "Disposing of HistLimitsEditor\n",
      "Disposing of HistLimitsEditor\n",
      "Creating layers GUI\n",
      "hl update\n",
      "hl update\n",
      "hl update\n",
      "hl update\n",
      "hl update\n",
      "height:  122\n",
      "NB best size: wx.Size(3, 110)\n"
     ]
    }
   ],
   "source": [
    "# Load in the shrink-wrap surface\n",
    "mesh_S2 = membrane_mesh.MembraneMesh.from_stl(S_mesh_2)\n",
    "\n",
    "mesh_name = pipeline.new_ds_name('Mito')\n",
    "pipeline.recipe.namespace[mesh_name] = mesh_S2\n",
    "layer = TriangleRenderLayer(pipeline, dsname=mesh_name, method='shaded', cmap = 'SolidMagenta')\n",
    "pymevis.add_layer(layer)"
   ]
  },
  {
   "cell_type": "code",
   "execution_count": 16,
   "id": "6e403373",
   "metadata": {},
   "outputs": [],
   "source": [
    "# Rotate 90 clockwise \n",
    "def view_xy(glCanvas):\n",
    "    glCanvas.view.vec_right = np.array([0,1,0]) # x-axis vector\n",
    "    glCanvas.view.vec_up=np.array([-1,0,0]) # y-axis vector\n",
    "    glCanvas.view.vec_back = np.array([0,0,1]) # z-axis vector\n",
    "    glCanvas.displayMode = '3D'\n",
    "    glCanvas.Refresh()\n",
    "\n",
    "view_xy(pymevis.glCanvas)"
   ]
  },
  {
   "cell_type": "code",
   "execution_count": 12,
   "id": "855a9d44",
   "metadata": {},
   "outputs": [],
   "source": [
    "# translate canvas\n",
    "dy = 1400\n",
    "pymevis.glCanvas.view.translation[1] += dy\n",
    "pymevis.glCanvas.Refresh()"
   ]
  },
  {
   "cell_type": "code",
   "execution_count": null,
   "id": "3e88e7be",
   "metadata": {},
   "outputs": [],
   "source": [
    "# Save screenshot of STORM Points\n",
    "\n",
    "# Points in Z\n",
    "pymevis.glCanvas.layers[1].cmap = 'SolidCyan'\n",
    "pymevis.glCanvas.layers[1].method = 'pointsprites'\n",
    "pymevis.glCanvas.layers[1].point_size = 10\n",
    "pymevis.glCanvas.layers[1].alpha = 0.5\n",
    "pymevis.glCanvas.layers[2].cmap = 'SolidGreen'\n",
    "pymevis.glCanvas.layers[2].method = 'pointsprites'\n",
    "pymevis.glCanvas.layers[2].point_size = 10\n",
    "pymevis.glCanvas.layers[2].alpha = 0.5\n",
    "#pymevis.glCanvas.layers[0].vertexColour = 'z'\n",
    "#pymevis.glCanvas.layers[0].clim = [-800,0]\n",
    "pymevis.glCanvas.LUTDraw = False\n",
    "pymevis.glCanvas.layers[-1].visible = False\n",
    "pymevis.glCanvas.layers[0].visible = False\n",
    "pymevis.glCanvas.layers[1].visible = True\n",
    "pymevis.glCanvas.layers[2].visible = True\n",
    "pymevis.glCanvas.layers[3].visible = False\n",
    "# dx = -1400\n",
    "# pymevis.glCanvas.view.translation[0] += dx\n",
    "# pymevis.glCanvas.Refresh()\n",
    "\n",
    "# Save screenshot\n",
    "from PIL import Image\n",
    "pixel_size = pymevis.glCanvas.view_port_size[0]*pymevis.glCanvas.pixelsize/(5*600)\n",
    "snapshot = pymevis.glCanvas.getIm(pixel_size=pixel_size)\n",
    "Image.fromarray(snapshot).transpose(Image.ROTATE_90).save(savedir + 'STORM_points' + ver + '.png')"
   ]
  },
  {
   "cell_type": "code",
   "execution_count": null,
   "id": "7f98b29e",
   "metadata": {},
   "outputs": [],
   "source": [
    "# Save screenshot of PAINT shrink-wrap\n",
    "pymevis.glCanvas.layers[-1].visible = True\n",
    "pymevis.glCanvas.layers[0].visible = False\n",
    "pymevis.glCanvas.layers[1].visible = False\n",
    "pymevis.glCanvas.layers[2].visible = False\n",
    "pymevis.glCanvas.layers[3].visible = True\n",
    "\n",
    "# Save screenshot\n",
    "from PIL import Image\n",
    "pixel_size = pymevis.glCanvas.view_port_size[0]*pymevis.glCanvas.pixelsize/(5*600)\n",
    "snapshot = pymevis.glCanvas.getIm(pixel_size=pixel_size)\n",
    "Image.fromarray(snapshot).transpose(Image.ROTATE_90).save(savedir + 'STORM_shrink-wrap' + ver + '.png')"
   ]
  },
  {
   "cell_type": "code",
   "execution_count": 13,
   "id": "6bdf3d1b",
   "metadata": {},
   "outputs": [
    {
     "name": "stdout",
     "output_type": "stream",
     "text": [
      "pointcloud.update_from_datasource() - dsname=output.chan0\n",
      "hl update\n",
      "pointcloud.update_from_datasource() - dsname=output.chan0\n",
      "hl update\n",
      "pointcloud.update_from_datasource() - dsname=output.chan1\n",
      "hl update\n"
     ]
    },
    {
     "name": "stderr",
     "output_type": "stream",
     "text": [
      "DEBUG:PYME.LMVis.shader_programs.ShaderProgramFactory:New shader program created: <class 'PYME.LMVis.shader_programs.GouraudShaderProgram.GouraudSphereShaderProgram'>\n"
     ]
    }
   ],
   "source": [
    "# Cross-section images\n",
    "# optionally zoom\n",
    "rescale = 5\n",
    "# optionally translate\n",
    "dx, dy, dz = 0, 2000, 0\n",
    "# dx, dy, dz = 0, -9600, 0\n",
    "# dx, dy, dz = 0, 2000, 0\n",
    "pymevis.glCanvas.view.scale *= rescale\n",
    "pymevis.glCanvas.view.translation[0] += dx* (1. - 1. / rescale)\n",
    "pymevis.glCanvas.view.translation[1] += dy* (1. - 1. / rescale)\n",
    "pymevis.glCanvas.view.translation[2] += dz* (1. - 1. / rescale)\n",
    "pymevis.glCanvas.Refresh()\n",
    "\n",
    "# change layer properties to show mesh and points\n",
    "# pymevis.glCanvas.layers[0].method = 'spheres'\n",
    "pymevis.glCanvas.layers[1].method = 'spheres'\n",
    "pymevis.glCanvas.layers[1].point_size = 20\n",
    "pymevis.glCanvas.layers[1].cmap = 'SolidCyan'\n",
    "pymevis.glCanvas.layers[2].method = 'spheres'\n",
    "pymevis.glCanvas.layers[2].point_size = 20\n",
    "pymevis.glCanvas.layers[2].cmap = 'SolidGreen'\n",
    "pymevis.glCanvas.LUTDraw = False\n",
    "pymevis.glCanvas.layers[0].visible = False\n",
    "pymevis.glCanvas.layers[1].visible = True\n",
    "pymevis.glCanvas.layers[2].visible = True\n",
    "pymevis.glCanvas.layers[-1].visible = True\n",
    "pymevis.glCanvas.layers[3].visible = True\n",
    "pymevis.glCanvas.Refresh()\n",
    "# pymevis.glCanvas.layers[0].update()"
   ]
  },
  {
   "cell_type": "code",
   "execution_count": 14,
   "id": "91abe025",
   "metadata": {},
   "outputs": [],
   "source": [
    "# Clip x to central region to show tubule cutaway\n",
    "dummy_clipping = pymevis.glCanvas.view.clipping\n",
    "y_center = ((np.min(pipeline['y'])+np.max(pipeline['y']))/2)-dy*(1. - 1. / rescale) + 5000\n",
    "dummy_clipping['y'][0][0] = y_center-30.0 # lower limit\n",
    "dummy_clipping['y'][0][1] = y_center+30.0 # upper limit\n",
    "#How to zoom and crop to the ROI on the right?\n",
    "pymevis.glCanvas.view.clipping = dummy_clipping\n",
    "# pymevis.glCanvas.layers[0].visible = True\n",
    "# pymevis.glCanvas.layers[-1].visible = True\n",
    "# pymevis.glCanvas.layers[0].method = 'spheres'\n",
    "# pymevis.glCanvas.layers[0].point_size = 10\n",
    "pymevis.glCanvas.Refresh()"
   ]
  },
  {
   "cell_type": "code",
   "execution_count": null,
   "id": "01cd3269",
   "metadata": {},
   "outputs": [],
   "source": [
    "# switch to xz view with x vertical\n",
    "def view_xy_v(glCanvas):\n",
    "    glCanvas.view.vec_right = np.array([0,1,0]) # x-axis vector\n",
    "    glCanvas.view.vec_up=np.array([0,0,-1]) # y-axis vector\n",
    "    glCanvas.view.vec_back = np.array([-1,0,0]) # z-axis vector\n",
    "    glCanvas.displayMode = '3D'\n",
    "    glCanvas.Refresh()\n",
    "\n",
    "view_xy_v(pymevis.glCanvas)"
   ]
  },
  {
   "cell_type": "code",
   "execution_count": null,
   "id": "57d650d1",
   "metadata": {},
   "outputs": [],
   "source": [
    "# translate the view a smidge and take a screenshot\n",
    "pymevis.glCanvas.view.translation[2] += 1800\n",
    "pymevis.glCanvas.Refresh()"
   ]
  },
  {
   "cell_type": "code",
   "execution_count": null,
   "id": "9d053eba",
   "metadata": {},
   "outputs": [],
   "source": [
    "#NOTE: manually switch the scale bar to whatever you want it to be before running this cell and then switch it back\n",
    "from PIL import Image\n",
    "pixel_size = pymevis.glCanvas.view_port_size[0]*pymevis.glCanvas.pixelsize/(5*600)\n",
    "snapshot = pymevis.glCanvas.getIm(pixel_size=pixel_size)\n",
    "Image.fromarray(snapshot).transpose(Image.ROTATE_90).save(savedir + 'Fig4_s_yz' + ver + '.png')"
   ]
  },
  {
   "cell_type": "code",
   "execution_count": null,
   "id": "6f1a6ce4",
   "metadata": {},
   "outputs": [],
   "source": [
    "# switch back to xy view\n",
    "def view_xy(glCanvas):\n",
    "    glCanvas.view.vec_right = np.array([1,0,0]) # x-axis vector\n",
    "    glCanvas.view.vec_up=np.array([0,1,0]) # y-axis vector\n",
    "    glCanvas.view.vec_back = np.array([0,0,1]) # z-axis vector\n",
    "    glCanvas.displayMode = '3D'\n",
    "    glCanvas.Refresh()\n",
    "\n",
    "view_xy(pymevis.glCanvas)"
   ]
  },
  {
   "cell_type": "code",
   "execution_count": null,
   "id": "b9f37bbe",
   "metadata": {},
   "outputs": [],
   "source": [
    "# Open the Astigmatic points\n",
    "pymevis.OpenFile(A_points)"
   ]
  },
  {
   "cell_type": "code",
   "execution_count": null,
   "id": "d427ba88",
   "metadata": {},
   "outputs": [],
   "source": [
    "# Load in the shrink-wrap surface\n",
    "Ast_mesh = membrane_mesh.MembraneMesh.from_stl(A_mesh)\n",
    "\n",
    "mesh_name = pipeline.new_ds_name('A-ER')\n",
    "pipeline.recipe.namespace[mesh_name] = Ast_mesh\n",
    "layer = TriangleRenderLayer(pipeline, dsname=mesh_name, method='shaded', cmap = 'SolidYellow')\n",
    "pymevis.add_layer(layer)"
   ]
  },
  {
   "cell_type": "code",
   "execution_count": null,
   "id": "238a65e5",
   "metadata": {},
   "outputs": [],
   "source": [
    "# translate points\n",
    "dx = -2500\n",
    "pymevis.glCanvas.view.translation[0] += dx\n",
    "pymevis.glCanvas.Refresh()"
   ]
  },
  {
   "cell_type": "code",
   "execution_count": null,
   "id": "7f9efae4",
   "metadata": {},
   "outputs": [],
   "source": [
    "# Save screenshot of astigmatic Points\n",
    "\n",
    "# Points in Z\n",
    "pymevis.glCanvas.layers[0].cmap = 'SolidCyan'\n",
    "pymevis.glCanvas.layers[0].method = 'pointsprites'\n",
    "pymevis.glCanvas.layers[0].point_size = 15\n",
    "pymevis.glCanvas.layers[0].alpha = 1\n",
    "#pymevis.glCanvas.layers[0].vertexColour = 'z'\n",
    "#pymevis.glCanvas.layers[0].clim = [-800,0]\n",
    "pymevis.glCanvas.LUTDraw = False\n",
    "pymevis.glCanvas.layers[0].visible = True\n",
    "pymevis.glCanvas.layers[-1].visible = False\n",
    "# dx = -2500\n",
    "# pymevis.glCanvas.view.translation[0] += dx\n",
    "pymevis.glCanvas.Refresh()\n",
    "\n",
    "# Save screenshot\n",
    "from PIL import Image\n",
    "pixel_size = pymevis.glCanvas.view_port_size[0]*pymevis.glCanvas.pixelsize/(5*600)\n",
    "snapshot = pymevis.glCanvas.getIm(pixel_size=pixel_size)\n",
    "Image.fromarray(snapshot).transpose(Image.ROTATE_90).save(savedir + 'Ast_points' + ver + '.png')"
   ]
  },
  {
   "cell_type": "code",
   "execution_count": null,
   "id": "81b8f5a1",
   "metadata": {},
   "outputs": [],
   "source": [
    "# Save screenshot of astigmatic shrink-wrap\n",
    "pymevis.glCanvas.layers[-1].visible = True\n",
    "pymevis.glCanvas.layers[0].visible = False\n",
    "\n",
    "# Save screenshot\n",
    "from PIL import Image\n",
    "pixel_size = pymevis.glCanvas.view_port_size[0]*pymevis.glCanvas.pixelsize/(5*600)\n",
    "snapshot = pymevis.glCanvas.getIm(pixel_size=pixel_size)\n",
    "Image.fromarray(snapshot).transpose(Image.ROTATE_90).save(savedir + 'Ast_shrink-wrap' + ver + '.png')"
   ]
  },
  {
   "cell_type": "code",
   "execution_count": null,
   "id": "c1a59ef9",
   "metadata": {},
   "outputs": [],
   "source": [
    "# Cross-section images\n",
    "# optionally zoom\n",
    "rescale = 10\n",
    "# optionally translate\n",
    "dx, dy, dz = -1000, 2000, 0\n",
    "# dx, dy, dz = 0, -9600, 0\n",
    "# dx, dy, dz = 0, 2000, 0\n",
    "pymevis.glCanvas.view.scale *= rescale\n",
    "pymevis.glCanvas.view.translation[0] += dx* (1. - 1. / rescale)\n",
    "pymevis.glCanvas.view.translation[1] += dy* (1. - 1. / rescale)\n",
    "pymevis.glCanvas.view.translation[2] += dz* (1. - 1. / rescale)\n",
    "pymevis.glCanvas.Refresh()\n",
    "\n",
    "# change layer properties to show mesh and points\n",
    "# pymevis.glCanvas.layers[0].method = 'spheres'\n",
    "pymevis.glCanvas.layers[0].method = 'spheres'\n",
    "pymevis.glCanvas.layers[0].point_size = 20\n",
    "pymevis.glCanvas.LUTDraw = False\n",
    "pymevis.glCanvas.layers[0].visible = True\n",
    "pymevis.glCanvas.layers[-1].visible = True\n",
    "pymevis.glCanvas.Refresh()\n",
    "# pymevis.glCanvas.layers[0].update()"
   ]
  },
  {
   "cell_type": "code",
   "execution_count": null,
   "id": "5b303014-593b-4cd8-b75c-6f95e5f7ef93",
   "metadata": {},
   "outputs": [],
   "source": [
    "# Undo scaling\n",
    "pymevis.glCanvas.view.scale *= 1/rescale\n",
    "pymevis.glCanvas.view.translation[0] += -dx* (1. - 1. / rescale)\n",
    "pymevis.glCanvas.view.translation[1] += -dy* (1. - 1. / rescale)\n",
    "pymevis.glCanvas.view.translation[2] += -dz* (1. - 1. / rescale)\n",
    "pymevis.glCanvas.Refresh()"
   ]
  },
  {
   "cell_type": "code",
   "execution_count": null,
   "id": "396c2c2c",
   "metadata": {},
   "outputs": [],
   "source": [
    "# Clip x to central region to show tubule cutaway\n",
    "dummy_clipping = pymevis.glCanvas.view.clipping\n",
    "x_center = ((np.min(pipeline['x'])+np.max(pipeline['x']))/2)-dx*(1. - 1. / rescale) - 8400\n",
    "dummy_clipping['x'][0][0] = x_center-30.0 # lower limit\n",
    "dummy_clipping['x'][0][1] = x_center+30.0 # upper limit\n",
    "#How to zoom and crop to the ROI on the right?\n",
    "pymevis.glCanvas.view.clipping = dummy_clipping\n",
    "# pymevis.glCanvas.layers[0].visible = True\n",
    "# pymevis.glCanvas.layers[-1].visible = True\n",
    "# pymevis.glCanvas.layers[0].method = 'spheres'\n",
    "# pymevis.glCanvas.layers[0].point_size = 10\n",
    "pymevis.glCanvas.Refresh()"
   ]
  },
  {
   "cell_type": "code",
   "execution_count": null,
   "id": "9accb571",
   "metadata": {},
   "outputs": [],
   "source": [
    "# switch to y-z view\n",
    "def view_yz(glCanvas):\n",
    "    glCanvas.view.vec_right = np.array([0,0,-1]) # x-axis vector\n",
    "    glCanvas.view.vec_up=np.array([0,1,0]) # y-axis vector\n",
    "    glCanvas.view.vec_back = np.array([1,0,0]) # z-axis vector\n",
    "    glCanvas.displayMode = '3D'\n",
    "    glCanvas.Refresh()\n",
    "\n",
    "view_yz(pymevis.glCanvas)"
   ]
  },
  {
   "cell_type": "code",
   "execution_count": null,
   "id": "6b232c51",
   "metadata": {},
   "outputs": [],
   "source": [
    "# translate the view a smidge and take a screenshot\n",
    "pymevis.glCanvas.view.translation[2] += -2200\n",
    "pymevis.glCanvas.view.translation[1] += -300\n",
    "pymevis.glCanvas.Refresh()"
   ]
  },
  {
   "cell_type": "code",
   "execution_count": null,
   "id": "bd5d48c5",
   "metadata": {},
   "outputs": [],
   "source": [
    "#NOTE: manually switch the scale bar to whatever you want it to be before running this cell and then switch it back\n",
    "from PIL import Image\n",
    "pixel_size = pymevis.glCanvas.view_port_size[0]*pymevis.glCanvas.pixelsize/(5*600)\n",
    "snapshot = pymevis.glCanvas.getIm(pixel_size=pixel_size)\n",
    "Image.fromarray(snapshot).transpose(Image.ROTATE_90).save(savedir + 'Fig4_a_yz' + ver + '.png')"
   ]
  },
  {
   "cell_type": "code",
   "execution_count": 9,
   "id": "c82bc103-1f43-4ab2-b7b7-44dca5367827",
   "metadata": {},
   "outputs": [],
   "source": [
    "import matplotlib.pyplot as plt\n",
    "from matplotlib.gridspec import GridSpec\n",
    "from PIL import Image\n",
    "\n",
    "data = {\"ppoints\": Image.open(savedir + 'PAINT_points' + ver + '.png'), \"pmesh\": Image.open(savedir + 'PAINT_shrink-wrap' + ver + '.png'),\n",
    "       \"pside\": Image.open(savedir + 'Fig4_p_yz' + ver + '.png'), \"spoints\": Image.open(savedir + 'STORM_points' + ver + '.png'),\n",
    "       \"smesh\": Image.open(savedir + 'STORM_shrink-wrap' + ver + '.png'), \"sside\": Image.open(savedir + 'Fig4_s_yz' + ver + '.png'),\n",
    "       \"apoints\": Image.open(savedir + 'Ast_points' + ver + '.png'), \"amesh\": Image.open(savedir + 'Ast_shrink-wrap' + ver + '.png'),\n",
    "       \"aside\": Image.open(savedir + 'Fig4_a_yz' + ver + '.png')}\n",
    "\n",
    "data_keys = list(data)\n",
    "\n",
    "img_x, img_y = data[\"ppoints\"].size\n",
    "#Cropping\n",
    "xycrop = (120,0,img_x,img_y)\n",
    "yzcrop = (2500,0,img_x,img_y-200)\n",
    "   "
   ]
  },
  {
   "cell_type": "code",
   "execution_count": null,
   "id": "bdaa7e2e-8f47-40b8-bd3f-408a456ff175",
   "metadata": {},
   "outputs": [],
   "source": [
    "     \n",
    "fig = plt.figure()\n",
    "# gs = GridSpec(3, 3, width_ratios=[4,4,1], height_ratios=[1,1,1], left=0.05, right=0.5)\n",
    "gs1 = GridSpec(3, 1, width_ratios=[1], height_ratios=[1,1,1], left=0.05, right=0.24, hspace = 0.005)\n",
    "\n",
    "ax1 = plt.subplot(gs1[0])\n",
    "plt.imshow(data[\"ppoints\"].crop((xycrop)))\n",
    "ax1.set_axis_off()\n",
    "ax4 = plt.subplot(gs1[1])\n",
    "plt.imshow(data[\"spoints\"].crop((xycrop)))\n",
    "ax4.set_axis_off()\n",
    "ax7 = plt.subplot(gs1[2])\n",
    "plt.imshow(data[\"apoints\"].crop((xycrop)))\n",
    "ax7.set_axis_off()\n",
    "\n",
    "gs2 = GridSpec(3,1, width_ratios=[1], height_ratios=[1,1,1], left=0.242, right=0.432, hspace=0.005)\n",
    "\n",
    "ax2 = plt.subplot(gs2[0])\n",
    "plt.imshow(data[\"pmesh\"].crop((xycrop)))\n",
    "ax2.set_axis_off()\n",
    "ax5 = plt.subplot(gs2[1])\n",
    "plt.imshow(data[\"smesh\"].crop((xycrop)))\n",
    "ax5.set_axis_off()\n",
    "ax8 = plt.subplot(gs2[2])\n",
    "plt.imshow(data[\"amesh\"].crop((xycrop)))\n",
    "ax8.set_axis_off()\n",
    "\n",
    "gs3 = GridSpec(3,1, width_ratios=[1], height_ratios=[1,1,1], left=0.434, right=0.482, bottom = 0.1, hspace=0.05)\n",
    "ax3 = plt.subplot(gs3[0])\n",
    "plt.imshow(data[\"pside\"].crop((yzcrop)))\n",
    "ax3.set_axis_off()\n",
    "ax6 = plt.subplot(gs3[1])\n",
    "plt.imshow(data[\"sside\"].crop((yzcrop)))\n",
    "ax6.set_axis_off()\n",
    "ax9 = plt.subplot(gs3[2])\n",
    "plt.imshow(data[\"aside\"].crop((yzcrop)))\n",
    "ax9.set_axis_off()\n",
    "              \n",
    "plt.show()\n",
    "# import matplotlib.gridspec as gridspec\n",
    "# para = gridspec.GridSpec.get_subplot_params(self)\n",
    "# print(para.keys())\n",
    "#fig.tight_layout()\n",
    "fig.savefig(savedir + 'Fig4' + ver + '.png', dpi=600)"
   ]
  },
  {
   "cell_type": "code",
   "execution_count": null,
   "id": "71b291b6-b2cf-435d-9339-ede285bd10c5",
   "metadata": {},
   "outputs": [],
   "source": [
    "import matplotlib.pyplot as plt\n",
    "from matplotlib.gridspec import GridSpec\n",
    "from PIL import Image\n",
    "\n",
    "data = {\"ppoints\": Image.open(savedir + 'PAINT_points' + ver + '.png'), \"pmesh\": Image.open(savedir + 'PAINT_shrink-wrap' + ver + '.png'),\n",
    "       \"pside\": Image.open(savedir + 'Fig4_p_yz' + ver + '.png'), \"spoints\": Image.open(savedir + 'STORM_points' + ver + '.png'),\n",
    "       \"smesh\": Image.open(savedir + 'STORM_shrink-wrap' + ver + '.png'), \"sside\": Image.open(savedir + 'Fig4_s_yz' + ver + '.png'),\n",
    "       \"apoints\": Image.open(savedir + 'Ast_points' + ver + '.png'), \"amesh\": Image.open(savedir + 'Ast_shrink-wrap' + ver + '.png'),\n",
    "       \"aside\": Image.open(savedir + 'Fig4_a_yz' + ver + '.png')}\n",
    "\n",
    "data_keys = list(data)\n",
    "\n",
    "img_x, img_y = data[\"ppoints\"].size\n",
    "#Cropping\n",
    "xycrop = (400,0,img_x,img_y)\n",
    "yzcrop = (2500,0,img_x,img_y-200)\n",
    "\n",
    "fig = plt.figure()\n",
    "ax = fig.add_subplot()\n",
    "plt.imshow(data[\"ppoints\"].crop((xycrop)))\n",
    "ax.set_axis_off()\n",
    "fig.savefig(savedir + 'PAINT_points' + ver + '-cropped.png', dpi=600)"
   ]
  },
  {
   "cell_type": "code",
   "execution_count": null,
   "id": "76da38bb-bce9-4f99-b84d-184dc67c6741",
   "metadata": {},
   "outputs": [],
   "source": [
    "fig, axs = plt.subplots(3,2, figsize=(8,8))\n",
    "#axs[0].imshow(points_z_img.crop((80,0,img_x-70,img_y_third)))\n",
    "\n",
    "axs[0,0].imshow(data[\"ppoints\"].crop((xycrop)))\n",
    "axs[0,1].imshow(data[\"pmesh\"].crop((xycrop)))\n",
    "#axs[0,2].imshow(data[\"pside\"].crop((yzcrop)))\n",
    "axs[1,0].imshow(data[\"spoints\"].crop((xycrop)))\n",
    "axs[1,1].imshow(data[\"smesh\"].crop((xycrop)))\n",
    "#axs[1,2].imshow(data[\"pside\"].crop((yzcrop)))\n",
    "axs[2,0].imshow(data[\"apoints\"].crop((xycrop)))\n",
    "axs[2,1].imshow(data[\"amesh\"].crop((xycrop)))\n",
    "#axs[2,2].imshow(data[\"pside\"].crop((yzcrop)))\n",
    "# axs[1,0].imshow(front_img_points.crop((0, z_center-z_size, pymevis.glCanvas.view_port_size[1], z_center+z_size)))\n",
    "\n",
    "\n",
    "axs[0,0].set_axis_off()\n",
    "axs[0,1].set_axis_off()\n",
    "#axs[0,2].set_axis_off()\n",
    "axs[1,0].set_axis_off()\n",
    "axs[1,1].set_axis_off()\n",
    "#axs[1,2].set_axis_off()\n",
    "axs[2,0].set_axis_off()\n",
    "axs[2,1].set_axis_off()\n",
    "#axs[2,2].set_axis_off()\n",
    "# plt.axis('equal')\n",
    "\n",
    "plt.subplots_adjust(wspace=-0.78, hspace=-0.2)\n",
    "# for 1 pixel gap use hspace=-0.16; for no gap use hspace=-0.17\n",
    "\n",
    "fig.tight_layout()\n",
    "fig.savefig(savedir + 'Fig4_xy_views' + ver + '.png', dpi=600)"
   ]
  },
  {
   "cell_type": "code",
   "execution_count": 10,
   "id": "6e4e90a6-49e2-4ba0-b90f-f82403f69f7a",
   "metadata": {},
   "outputs": [],
   "source": [
    "fig, axs = plt.subplots(3,1, figsize=(8,8))\n",
    "#axs[0].imshow(points_z_img.crop((80,0,img_x-70,img_y_third)))\n",
    "\n",
    "axs[0].imshow(data[\"pside\"].crop((yzcrop)))\n",
    "axs[1].imshow(data[\"sside\"].crop((yzcrop)))\n",
    "axs[2].imshow(data[\"aside\"].crop((yzcrop)))\n",
    "#axs[1,0].imshow(front_img_points.crop((0, z_center-z_size, pymevis.glCanvas.view_port_size[1], z_center+z_size)))\n",
    "\n",
    "\n",
    "\n",
    "axs[0].set_axis_off()\n",
    "axs[1].set_axis_off()\n",
    "axs[2].set_axis_off()\n",
    "# plt.axis('equal')\n",
    "\n",
    "plt.subplots_adjust(wspace=None, hspace=-200)\n",
    "# for 1 pixel gap use hspace=-0.16; for no gap use hspace=-0.17\n",
    "\n",
    "fig.tight_layout()\n",
    "fig.savefig(savedir + 'Fig4_cross-sections' + ver + '.png', dpi=600)"
   ]
  },
  {
   "cell_type": "code",
   "execution_count": null,
   "id": "2f86dfb4",
   "metadata": {},
   "outputs": [],
   "source": [
    "#uncrop,unscale,untranslate - you have manually reset to xy view though\n",
    "pymevis.glCanvas.view.scale *= 1/rescale\n",
    "pymevis.glCanvas.view.translation[0] += -dx* (1. - 1. / rescale)\n",
    "pymevis.glCanvas.view.translation[1] += -dy* (1. - 1. / rescale)\n",
    "#pymevis.glCanvas.view.translation[2] += -dz* (1. - 1. / rescale)\n",
    "\n",
    "dummy_clipping['x'][0][0] = np.min(pipeline['x']) # lower limit\n",
    "dummy_clipping['x'][0][1] = np.max(pipeline['x']) # upper limit\n",
    "pymevis.glCanvas.Refresh()"
   ]
  }
 ],
 "metadata": {
  "kernelspec": {
   "display_name": "pyme",
   "language": "python",
   "name": "pyme"
  },
  "language_info": {
   "codemirror_mode": {
    "name": "ipython",
    "version": 3
   },
   "file_extension": ".py",
   "mimetype": "text/x-python",
   "name": "python",
   "nbconvert_exporter": "python",
   "pygments_lexer": "ipython3",
   "version": "3.7.9"
  }
 },
 "nbformat": 4,
 "nbformat_minor": 5
}
